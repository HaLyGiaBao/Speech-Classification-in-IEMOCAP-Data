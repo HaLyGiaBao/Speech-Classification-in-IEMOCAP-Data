{
 "cells": [
  {
   "cell_type": "code",
   "execution_count": 1,
   "id": "d61491ef",
   "metadata": {
    "_cell_guid": "b1076dfc-b9ad-4769-8c92-a6c4dae69d19",
    "_uuid": "8f2839f25d086af736a60e9eeb907d3b93b6e0e5",
    "execution": {
     "iopub.execute_input": "2025-05-10T02:36:58.254225Z",
     "iopub.status.busy": "2025-05-10T02:36:58.253889Z",
     "iopub.status.idle": "2025-05-10T02:36:58.257923Z",
     "shell.execute_reply": "2025-05-10T02:36:58.257391Z"
    },
    "jupyter": {
     "source_hidden": true
    },
    "papermill": {
     "duration": 0.014856,
     "end_time": "2025-05-10T02:36:58.258951",
     "exception": false,
     "start_time": "2025-05-10T02:36:58.244095",
     "status": "completed"
    },
    "tags": []
   },
   "outputs": [],
   "source": [
    "# # This Python 3 environment comes with many helpful analytics libraries installed\n",
    "# # It is defined by the kaggle/python Docker image: https://github.com/kaggle/docker-python\n",
    "# # For example, here's several helpful packages to load\n",
    "\n",
    "# import numpy as np # linear algebra\n",
    "# import pandas as pd # data processing, CSV file I/O (e.g. pd.read_csv)\n",
    "\n",
    "# # Input data files are available in the read-only \"../input/\" directory\n",
    "# # For example, running this (by clicking run or pressing Shift+Enter) will list all files under the input directory\n",
    "\n",
    "# import os\n",
    "# for dirname, _, filenames in os.walk('/kaggle/input'):\n",
    "#     for filename in filenames:\n",
    "#         print(os.path.join(dirname, filename))\n",
    "\n",
    "# # You can write up to 20GB to the current directory (/kaggle/working/) that gets preserved as output when you create a version using \"Save & Run All\" \n",
    "# # You can also write temporary files to /kaggle/temp/, but they won't be saved outside of the current session"
   ]
  },
  {
   "cell_type": "code",
   "execution_count": 2,
   "id": "a6d5d848",
   "metadata": {
    "execution": {
     "iopub.execute_input": "2025-05-10T02:36:58.274836Z",
     "iopub.status.busy": "2025-05-10T02:36:58.274642Z",
     "iopub.status.idle": "2025-05-10T02:36:58.279759Z",
     "shell.execute_reply": "2025-05-10T02:36:58.279095Z"
    },
    "papermill": {
     "duration": 0.014067,
     "end_time": "2025-05-10T02:36:58.280794",
     "exception": false,
     "start_time": "2025-05-10T02:36:58.266727",
     "status": "completed"
    },
    "tags": []
   },
   "outputs": [],
   "source": [
    "import sys\n",
    "sys.path.append('/kaggle/input/training-and-ensemble')\n",
    "sys.path.append('/kaggle/input/zip-file')"
   ]
  },
  {
   "cell_type": "code",
   "execution_count": 3,
   "id": "3e1fc8cb",
   "metadata": {
    "execution": {
     "iopub.execute_input": "2025-05-10T02:36:58.296476Z",
     "iopub.status.busy": "2025-05-10T02:36:58.296278Z",
     "iopub.status.idle": "2025-05-10T02:37:26.736505Z",
     "shell.execute_reply": "2025-05-10T02:37:26.735625Z"
    },
    "papermill": {
     "duration": 28.449664,
     "end_time": "2025-05-10T02:37:26.737949",
     "exception": false,
     "start_time": "2025-05-10T02:36:58.288285",
     "status": "completed"
    },
    "tags": []
   },
   "outputs": [
    {
     "name": "stderr",
     "output_type": "stream",
     "text": [
      "2025-05-10 02:37:16.059224: E external/local_xla/xla/stream_executor/cuda/cuda_fft.cc:477] Unable to register cuFFT factory: Attempting to register factory for plugin cuFFT when one has already been registered\n",
      "WARNING: All log messages before absl::InitializeLog() is called are written to STDERR\n",
      "E0000 00:00:1746844636.239659      19 cuda_dnn.cc:8310] Unable to register cuDNN factory: Attempting to register factory for plugin cuDNN when one has already been registered\n",
      "E0000 00:00:1746844636.293332      19 cuda_blas.cc:1418] Unable to register cuBLAS factory: Attempting to register factory for plugin cuBLAS when one has already been registered\n"
     ]
    }
   ],
   "source": [
    "import numpy as np\n",
    "import pandas as pd\n",
    "import torch\n",
    "# Import các thư viện cần thiết\n",
    "from sklearn.model_selection import train_test_split\n",
    "# Import các lớp tùy chỉnh của bạn\n",
    "from SVCSpecific import create_specific_svc_pipeline \n",
    "from SingleModel import SingleModel\n",
    "from EnsembleModel import EnsembleModel\n",
    "from AudioDataset import AudioDataset, audio_collate_fn\n",
    "from AudioFeatureExtractor import BaseFeatureExtractor, WavLMFeatureExtractor, HubertFeatureExtractor, Wav2Vec2EncoderFeatureExtractor\n",
    "from audio_evaluation import AudioMisclassificationAnalyzer\n",
    "from MisclassificationReporter import MisclassificationReporter\n",
    "\n",
    "# Import các lớp/hàm từ thư viện Hugging Face\n",
    "from transformers import AutoFeatureExtractor, AutoModel\n",
    "# Import joblib để lưu trữ hay nạp mô hình từ .pkl\n",
    "import joblib"
   ]
  },
  {
   "cell_type": "code",
   "execution_count": 4,
   "id": "028e883f",
   "metadata": {
    "execution": {
     "iopub.execute_input": "2025-05-10T02:37:26.754677Z",
     "iopub.status.busy": "2025-05-10T02:37:26.753970Z",
     "iopub.status.idle": "2025-05-10T02:37:26.758835Z",
     "shell.execute_reply": "2025-05-10T02:37:26.758254Z"
    },
    "papermill": {
     "duration": 0.014263,
     "end_time": "2025-05-10T02:37:26.759896",
     "exception": false,
     "start_time": "2025-05-10T02:37:26.745633",
     "status": "completed"
    },
    "tags": []
   },
   "outputs": [],
   "source": [
    "# Đường dẫn gốc đến dữ liệu audio đã được phân loại vào các thư mục con\n",
    "AUDIO_BASE_DIR = \"/kaggle/input/data-speechclassification-labeling/DatasetLabeling/Audio_byClass\" # THAY THẾ bằng đường dẫn THỰC TẾ của bạn\n",
    "\n",
    "# Danh sách các tên lớp (tương ứng với tên thư mục con trong AUDIO_BASE_DIR)\n",
    "CLASS_NAMES = [\"Anger\", \"Happiness\", \"Sadness\", \"Neutral state\"] # THAY THẾ bằng danh sách lớp THỰC TẾ của bạn\n",
    "\n",
    "HF_MODEL_NAME_Wavlm = \"microsoft/wavlm-large\" \n",
    "HF_MODEL_NAME_Wav2vec = \"facebook/wav2vec2-large-robust\" \n",
    "HF_MODEL_NAME_Hubert = \"facebook/hubert-large-ll60k\" \n",
    "HF_MODEL_NAME_unispeech = \"microsoft/unispeech-sat-large-sv\" \n",
    "HF_MODEL_NAME_nest =\"nvidia/ssl_en_nest_large_v1.0\"\n",
    "HF_MODEL_NAME_canary = \"nvidia/canary-1b-flash\" \n",
    "\n",
    "# Đường dẫn để lưu/nạp danh sách\n",
    "AUDIO_LIST_CSV_PATH = \"audio_files_list.csv\"\n",
    "# EXTRACTED_FEATURES_CSV_PATH = f\"features_{HF_MODEL_NAME_Wavlm.replace('/', '_')}.csv\"\n",
    "\n",
    "# Đường dẫn file CSV cho báo cáo misclassification tổng hợp\n",
    "REPORT_BASE_DIR = \"summary_report.csv\"\n",
    "\n",
    "BATCH_SIZE = 16\n",
    "\n",
    "ensemble_predictions_dict = {} # Dictionary để lưu dự đoán từ các mô hình/chiến lược cho báo cáo so sánh\n",
    "list_of_aud_hub_wav = []\n",
    "list_of_aud_hub = []\n",
    "list_of_hub_wav = []"
   ]
  },
  {
   "cell_type": "code",
   "execution_count": 5,
   "id": "275a07a1",
   "metadata": {
    "execution": {
     "iopub.execute_input": "2025-05-10T02:37:26.775572Z",
     "iopub.status.busy": "2025-05-10T02:37:26.775379Z",
     "iopub.status.idle": "2025-05-10T02:37:33.807356Z",
     "shell.execute_reply": "2025-05-10T02:37:33.806420Z"
    },
    "papermill": {
     "duration": 7.04146,
     "end_time": "2025-05-10T02:37:33.808742",
     "exception": false,
     "start_time": "2025-05-10T02:37:26.767282",
     "status": "completed"
    },
    "tags": []
   },
   "outputs": [
    {
     "name": "stdout",
     "output_type": "stream",
     "text": [
      "--- Bắt đầu quy trình ---\n",
      "\n",
      "Bước 1: Chuẩn bị danh sách file audio (toàn bộ dataset).\n",
      "Đang thu thập file audio từ thư mục: /kaggle/input/data-speechclassification-labeling/DatasetLabeling/Audio_byClass\n",
      "Tìm thấy tổng cộng 5184 file audio hợp lệ.\n",
      "AudioDataset được khởi tạo với 5184 file.\n",
      "Đang lưu danh sách file audio vào audio_files_list.csv...\n",
      "Danh sách file audio đã được lưu thành công.\n",
      "Tổng số file audio thu thập được: 5184\n",
      "AudioDataset được khởi tạo với 5184 file.\n",
      "Full dataset có 5184 file.\n"
     ]
    }
   ],
   "source": [
    "print(\"--- Bắt đầu quy trình ---\")\n",
    "\n",
    "print(\"\\nBước 1: Chuẩn bị danh sách file audio (toàn bộ dataset).\")\n",
    "all_audio_files_labels = []\n",
    "all_audio_files_labels = AudioDataset.collect_audio_files(AUDIO_BASE_DIR, CLASS_NAMES)\n",
    "if all_audio_files_labels:\n",
    "    temp_dataset = AudioDataset(audio_files_list=all_audio_files_labels)\n",
    "    temp_dataset.save_to_csv(AUDIO_LIST_CSV_PATH)\n",
    "    del temp_dataset\n",
    "print(f\"Tổng số file audio thu thập được: {len(all_audio_files_labels)}\")\n",
    "# Tạo AudioDataset cho TOÀN BỘ dataset\n",
    "full_dataset = AudioDataset(audio_files_list=all_audio_files_labels)\n",
    "print(f\"Full dataset có {len(full_dataset)} file.\")"
   ]
  },
  {
   "cell_type": "markdown",
   "id": "a587a4e4",
   "metadata": {
    "papermill": {
     "duration": 0.007885,
     "end_time": "2025-05-10T02:37:33.824504",
     "exception": false,
     "start_time": "2025-05-10T02:37:33.816619",
     "status": "completed"
    },
    "tags": []
   },
   "source": [
    "### Wavlm"
   ]
  },
  {
   "cell_type": "code",
   "execution_count": 6,
   "id": "b2ab3f66",
   "metadata": {
    "execution": {
     "iopub.execute_input": "2025-05-10T02:37:33.841630Z",
     "iopub.status.busy": "2025-05-10T02:37:33.841010Z",
     "iopub.status.idle": "2025-05-10T02:44:47.967199Z",
     "shell.execute_reply": "2025-05-10T02:44:47.966303Z"
    },
    "papermill": {
     "duration": 434.155662,
     "end_time": "2025-05-10T02:44:47.987904",
     "exception": false,
     "start_time": "2025-05-10T02:37:33.832242",
     "status": "completed"
    },
    "tags": []
   },
   "outputs": [
    {
     "name": "stdout",
     "output_type": "stream",
     "text": [
      "\n",
      "Bước 2: Đặc trưng chưa được trích xuất. Đang khởi tạo Feature Extractor và tiến hành trích xuất.\n",
      "Đang sử dụng thiết bị: cuda\n",
      "Khởi tạo BaseFeatureExtractor cho mô hình: microsoft/wavlm-large\n",
      "Đang nạp Processor: microsoft/wavlm-large\n"
     ]
    },
    {
     "data": {
      "application/vnd.jupyter.widget-view+json": {
       "model_id": "fcb56a5a80454aca8e689031562916b7",
       "version_major": 2,
       "version_minor": 0
      },
      "text/plain": [
       "preprocessor_config.json:   0%|          | 0.00/214 [00:00<?, ?B/s]"
      ]
     },
     "metadata": {},
     "output_type": "display_data"
    },
    {
     "name": "stdout",
     "output_type": "stream",
     "text": [
      "Đang nạp Mô hình WavLM: microsoft/wavlm-large\n"
     ]
    },
    {
     "data": {
      "application/vnd.jupyter.widget-view+json": {
       "model_id": "6c1dcf7e378143109a13471790cd9a63",
       "version_major": 2,
       "version_minor": 0
      },
      "text/plain": [
       "config.json:   0%|          | 0.00/2.22k [00:00<?, ?B/s]"
      ]
     },
     "metadata": {},
     "output_type": "display_data"
    },
    {
     "data": {
      "application/vnd.jupyter.widget-view+json": {
       "model_id": "b91300edd63e403891492d6c3c9f9f22",
       "version_major": 2,
       "version_minor": 0
      },
      "text/plain": [
       "pytorch_model.bin:   0%|          | 0.00/1.26G [00:00<?, ?B/s]"
      ]
     },
     "metadata": {},
     "output_type": "display_data"
    },
    {
     "data": {
      "application/vnd.jupyter.widget-view+json": {
       "model_id": "4ad0013ff7614c69a30f61f2a08e3753",
       "version_major": 2,
       "version_minor": 0
      },
      "text/plain": [
       "model.safetensors:   0%|          | 0.00/1.26G [00:00<?, ?B/s]"
      ]
     },
     "metadata": {},
     "output_type": "display_data"
    },
    {
     "name": "stdout",
     "output_type": "stream",
     "text": [
      "Cảnh báo: Không thể kiểm tra cấu trúc đầu ra của mô hình WavLM bằng dummy input: Expected 2D (unbatched) or 3D (batched) input to conv1d, but got input of size: [1, 1, 1, 16000]\n",
      "WavLMFeatureExtractor đã được khởi tạo thành công.\n",
      "\n",
      "Bắt đầu trích xuất đặc trưng (WavLM) với batch size 16...\n"
     ]
    },
    {
     "name": "stderr",
     "output_type": "stream",
     "text": [
      "/usr/local/lib/python3.11/dist-packages/torch/nn/functional.py:5849: UserWarning: Support for mismatched key_padding_mask and attn_mask is deprecated. Use same type for both instead.\n",
      "  warnings.warn(\n"
     ]
    },
    {
     "name": "stdout",
     "output_type": "stream",
     "text": [
      "  Đã xử lý 5184/5184 mẫu...\r\n",
      "Hoàn thành duyệt các batch (WavLM).\n",
      "Tổng số mẫu đã trích xuất đặc trưng thành công (WavLM): 5184\n",
      "\n",
      "Hoàn thành trích xuất cho full dataset. Lưu đặc trưng và metadata vào features_with_path_HF_MODEL_NAME_Wavlm.csv.\n",
      "Đang lưu đặc trưng và metadata vào features_with_path_HF_MODEL_NAME_Wavlm.csv...\n",
      "Đặc trưng và metadata đã được lưu thành công.\n",
      "\n",
      "--- Kết thúc quy trình trích xuất đặc trưng ---\n"
     ]
    }
   ],
   "source": [
    "print(\"\\nBước 2: Đặc trưng chưa được trích xuất. Đang khởi tạo Feature Extractor và tiến hành trích xuất.\")\n",
    "EXTRACTED_FEATURES_CSV_PATH = f\"features_with_path_HF_MODEL_NAME_Wavlm.csv\" # Sửa tên file để phân biệt\n",
    "\n",
    "extractor = WavLMFeatureExtractor(HF_MODEL_NAME_Wavlm)\n",
    "# extract_dataset_embeddings giờ trả về list (np_array, label, filepath)\n",
    "extracted_full_data = extractor.extract_dataset_embeddings(\n",
    "    dataset=full_dataset, # Trích xuất cho full dataset\n",
    "    batch_size=BATCH_SIZE\n",
    ")\n",
    "\n",
    "if extracted_full_data:\n",
    "    print(f\"\\nHoàn thành trích xuất cho full dataset. Lưu đặc trưng và metadata vào {EXTRACTED_FEATURES_CSV_PATH}.\")\n",
    "    # save_features_to_csv giờ nhận list (np_array, label, filepath)\n",
    "    BaseFeatureExtractor.save_features_to_csv(extracted_full_data, EXTRACTED_FEATURES_CSV_PATH)\n",
    "\n",
    "    # Tách kết quả trích xuất thành numpy arrays và list\n",
    "    features_np_Wavlm = np.array([item[0] for item in extracted_full_data])\n",
    "    labels_list_Wavlm = [item[1] for item in extracted_full_data]\n",
    "    filepaths_list_Wavlm = [item[2] for item in extracted_full_data] # Lấy list filepaths từ kết quả trích xuất\n",
    "del extractor\n",
    "    \n",
    "print(\"\\n--- Kết thúc quy trình trích xuất đặc trưng ---\")\n"
   ]
  },
  {
   "cell_type": "code",
   "execution_count": 7,
   "id": "00f8bdf9",
   "metadata": {
    "execution": {
     "iopub.execute_input": "2025-05-10T02:44:48.029739Z",
     "iopub.status.busy": "2025-05-10T02:44:48.029001Z",
     "iopub.status.idle": "2025-05-10T02:44:48.035614Z",
     "shell.execute_reply": "2025-05-10T02:44:48.034914Z"
    },
    "papermill": {
     "duration": 0.028732,
     "end_time": "2025-05-10T02:44:48.036680",
     "exception": false,
     "start_time": "2025-05-10T02:44:48.007948",
     "status": "completed"
    },
    "tags": []
   },
   "outputs": [
    {
     "name": "stdout",
     "output_type": "stream",
     "text": [
      "\n",
      "--- Đặc trưng (toàn bộ dataset) đã sẵn sàng ---\n",
      "Shape đặc trưng: (5184, 1024), Nhãn: 5184, Filepaths: 5184\n",
      "Các lớp tìm thấy trong nhãn: ['Anger' 'Happiness' 'Neutral state' 'Sadness']\n"
     ]
    }
   ],
   "source": [
    "print(\"\\n--- Đặc trưng (toàn bộ dataset) đã sẵn sàng ---\")\n",
    "print(f\"Shape đặc trưng: {features_np_Wavlm.shape}, Nhãn: {len(labels_list_Wavlm)}, Filepaths: {len(filepaths_list_Wavlm)}\")\n",
    "assert features_np_Wavlm.shape[0] == len(labels_list_Wavlm) == len(filepaths_list_Wavlm), \"Số lượng mẫu không nhất quán sau khi chuẩn bị đặc trưng!\"\n",
    "print(f\"Các lớp tìm thấy trong nhãn: {np.unique(labels_list_Wavlm)}\")"
   ]
  },
  {
   "cell_type": "code",
   "execution_count": 8,
   "id": "120b8e24",
   "metadata": {
    "execution": {
     "iopub.execute_input": "2025-05-10T02:44:48.077518Z",
     "iopub.status.busy": "2025-05-10T02:44:48.077315Z",
     "iopub.status.idle": "2025-05-10T02:44:48.090310Z",
     "shell.execute_reply": "2025-05-10T02:44:48.089656Z"
    },
    "papermill": {
     "duration": 0.035275,
     "end_time": "2025-05-10T02:44:48.091726",
     "exception": false,
     "start_time": "2025-05-10T02:44:48.056451",
     "status": "completed"
    },
    "tags": []
   },
   "outputs": [
    {
     "name": "stdout",
     "output_type": "stream",
     "text": [
      "\n",
      "Bước 3: Chia dữ liệu (đặc trưng, nhãn, filepaths) thành tập train và test.\n",
      "Đã chia dữ liệu:\n",
      "  Train: X_train shape (4147, 1024), y_train len 4147, train_filepaths len 4147\n",
      "  Test: X_test shape (1037, 1024), y_test len 1037, test_filepaths len 1037\n"
     ]
    }
   ],
   "source": [
    "print(\"\\nBước 3: Chia dữ liệu (đặc trưng, nhãn, filepaths) thành tập train và test.\")\n",
    "# train_test_split CHỈ LÀM MỘT LẦN ở đây\n",
    "X_train, X_test, y_train, y_test, train_filepaths, test_filepaths = train_test_split(\n",
    "    features_np_Wavlm, labels_list_Wavlm, filepaths_list_Wavlm, # Chia 3 thứ cùng lúc\n",
    "    test_size=0.2,\n",
    "    random_state=42,\n",
    ")\n",
    "print(f\"Đã chia dữ liệu:\")\n",
    "print(f\"  Train: X_train shape {X_train.shape}, y_train len {len(y_train)}, train_filepaths len {len(train_filepaths)}\")\n",
    "print(f\"  Test: X_test shape {X_test.shape}, y_test len {len(y_test)}, test_filepaths len {len(test_filepaths)}\")"
   ]
  },
  {
   "cell_type": "code",
   "execution_count": 9,
   "id": "7049135c",
   "metadata": {
    "execution": {
     "iopub.execute_input": "2025-05-10T02:44:48.134466Z",
     "iopub.status.busy": "2025-05-10T02:44:48.134216Z",
     "iopub.status.idle": "2025-05-10T02:44:57.020942Z",
     "shell.execute_reply": "2025-05-10T02:44:57.020003Z"
    },
    "papermill": {
     "duration": 8.909468,
     "end_time": "2025-05-10T02:44:57.022434",
     "exception": false,
     "start_time": "2025-05-10T02:44:48.112966",
     "status": "completed"
    },
    "tags": []
   },
   "outputs": [
    {
     "name": "stdout",
     "output_type": "stream",
     "text": [
      "Đang tạo pipeline cho mô hình SVC...\n",
      "  Tham số SVC cuối cùng: {'kernel': 'rbf', 'C': 1.0, 'gamma': 'scale', 'probability': False, 'class_weight': None}\n",
      "Pipeline SVC đã được tạo.\n",
      "Warning: Mô hình 'Wavlm SVM' không có phương thức .predict_proba(). Sẽ không thể tính xác suất và độ bất định.\n",
      "Đã khởi tạo SingleModel: Wavlm SVM\n",
      "\n",
      "--- Bắt đầu pipeline cho mô hình: Wavlm SVM ---\n",
      "Đang huấn luyện mô hình: Wavlm SVM...\n",
      "Hoàn thành huấn luyện mô hình: Wavlm SVM.\n",
      "Đang dự đoán với mô hình: Wavlm SVM...\n",
      "Hoàn thành dự đoán với mô hình: Wavlm SVM.\n",
      "Bỏ qua lấy xác suất và tính độ bất định cho 'Wavlm SVM' vì mô hình không có predict_proba.\n",
      "--- Hoàn thành pipeline cho mô hình: Wavlm SVM ---\n",
      "\n",
      "--- Báo cáo Đánh giá cho Mô hình: Wavlm SVM ---\n",
      "               precision    recall  f1-score   support\n",
      "\n",
      "        Anger       0.78      0.76      0.77       366\n",
      "    Happiness       0.69      0.18      0.29       122\n",
      "      Sadness       0.61      0.77      0.68       348\n",
      "Neutral state       0.69      0.73      0.71       201\n",
      "\n",
      "     accuracy                           0.69      1037\n",
      "    macro avg       0.69      0.61      0.61      1037\n",
      " weighted avg       0.70      0.69      0.67      1037\n",
      "\n",
      "Balanced Accuracy (Unweighted): 0.6091\n",
      "Accuracy (Weighted): 0.6885\n",
      "\n",
      "Ma trận nhầm lẫn:\n",
      "[[278   2  15  71]\n",
      " [ 16  22  23  61]\n",
      " [ 16   2 146  37]\n",
      " [ 47   6  27 268]]\n",
      "----------------------------------------------------\n"
     ]
    }
   ],
   "source": [
    "SVC_PARAMS = {'class_weight': None, 'probability': False}\n",
    "svc_pipeline = create_specific_svc_pipeline(**SVC_PARAMS)\n",
    "# Tạo đối tượng SingleModel cho SVC\n",
    "model_Wavlm_b_svc = SingleModel(\n",
    "    name=\"Wavlm SVM\",\n",
    "    model=svc_pipeline,\n",
    "    X_train=X_train, X_test=X_test, y_train=y_train, y_test=y_test,\n",
    "    class_names=CLASS_NAMES\n",
    ")\n",
    "# Chạy pipeline (huấn luyện, predict, proba, uncertainty) cho mô hình đơn lẻ này\n",
    "model_Wavlm_b_svc.run_pipeline()\n",
    "# Đánh giá kết quả mô hình đơn lẻ (Tùy chọn)\n",
    "model_Wavlm_b_svc.evaluate()\n",
    "if model_Wavlm_b_svc.get_predictions() is not None:\n",
    "    ensemble_predictions_dict[model_Wavlm_b_svc.get_name()] = model_Wavlm_b_svc.get_predictions()"
   ]
  },
  {
   "cell_type": "code",
   "execution_count": 10,
   "id": "db224860",
   "metadata": {
    "execution": {
     "iopub.execute_input": "2025-05-10T02:44:57.071307Z",
     "iopub.status.busy": "2025-05-10T02:44:57.070448Z",
     "iopub.status.idle": "2025-05-10T02:45:37.987682Z",
     "shell.execute_reply": "2025-05-10T02:45:37.986836Z"
    },
    "papermill": {
     "duration": 40.943673,
     "end_time": "2025-05-10T02:45:37.988906",
     "exception": false,
     "start_time": "2025-05-10T02:44:57.045233",
     "status": "completed"
    },
    "tags": []
   },
   "outputs": [
    {
     "name": "stdout",
     "output_type": "stream",
     "text": [
      "\n",
      "Bước 4:## Chuẩn bị Mô hình SVC ##\n",
      "Đang tạo pipeline cho mô hình SVC...\n",
      "  Tham số SVC cuối cùng: {'kernel': 'rbf', 'C': 1.0, 'gamma': 'scale', 'probability': True, 'class_weight': 'balanced'}\n",
      "Pipeline SVC đã được tạo.\n",
      "Đã khởi tạo SingleModel: Wavlm SVM For Ensemble\n",
      "\n",
      "--- Bắt đầu pipeline cho mô hình: Wavlm SVM For Ensemble ---\n",
      "Đang huấn luyện mô hình: Wavlm SVM For Ensemble...\n",
      "Hoàn thành huấn luyện mô hình: Wavlm SVM For Ensemble.\n",
      "Đang dự đoán với mô hình: Wavlm SVM For Ensemble...\n",
      "Hoàn thành dự đoán với mô hình: Wavlm SVM For Ensemble.\n",
      "Đang lấy xác suất dự đoán với mô hình: Wavlm SVM For Ensemble...\n",
      "Hoàn thành lấy xác suất dự đoán với mô hình: Wavlm SVM For Ensemble.\n",
      "Đã tính toán độ bất định cho mô hình: Wavlm SVM For Ensemble.\n",
      "--- Hoàn thành pipeline cho mô hình: Wavlm SVM For Ensemble ---\n",
      "\n",
      "--- Báo cáo Đánh giá cho Mô hình: Wavlm SVM For Ensemble ---\n",
      "               precision    recall  f1-score   support\n",
      "\n",
      "        Anger       0.79      0.76      0.78       366\n",
      "    Happiness       0.54      0.44      0.49       122\n",
      "      Sadness       0.70      0.68      0.69       348\n",
      "Neutral state       0.64      0.78      0.71       201\n",
      "\n",
      "     accuracy                           0.70      1037\n",
      "    macro avg       0.67      0.67      0.66      1037\n",
      " weighted avg       0.70      0.70      0.70      1037\n",
      "\n",
      "Balanced Accuracy (Unweighted): 0.6675\n",
      "Accuracy (Weighted): 0.7020\n",
      "\n",
      "Ma trận nhầm lẫn:\n",
      "[[279   8  24  55]\n",
      " [ 13  54  26  29]\n",
      " [ 16  11 157  17]\n",
      " [ 46  27  37 238]]\n",
      "----------------------------------------------------\n"
     ]
    }
   ],
   "source": [
    "print(\"\\nBước 4:## Chuẩn bị Mô hình SVC ##\")\n",
    "svc_pipeline = create_specific_svc_pipeline()\n",
    "# Tạo đối tượng SingleModel cho SVC\n",
    "model_Wavlm_svc = SingleModel(\n",
    "    name=\"Wavlm SVM For Ensemble\",\n",
    "    model=svc_pipeline,\n",
    "    X_train=X_train, X_test=X_test, y_train=y_train, y_test=y_test,\n",
    "    class_names=CLASS_NAMES\n",
    ")\n",
    "# Chạy pipeline (huấn luyện, predict, proba, uncertainty) cho mô hình đơn lẻ này\n",
    "model_Wavlm_svc.run_pipeline()\n",
    "# Đánh giá kết quả mô hình đơn lẻ (Tùy chọn)\n",
    "model_Wavlm_svc.evaluate()\n",
    "list_of_aud_hub_wav.append(model_Wavlm_svc)\n",
    "list_of_hub_wav.append(model_Wavlm_svc)\n",
    "if model_Wavlm_svc.get_predictions() is not None:\n",
    "    ensemble_predictions_dict[model_Wavlm_svc.get_name()] = model_Wavlm_svc.get_predictions()"
   ]
  },
  {
   "cell_type": "code",
   "execution_count": 11,
   "id": "e636cff9",
   "metadata": {
    "execution": {
     "iopub.execute_input": "2025-05-10T02:45:38.031393Z",
     "iopub.status.busy": "2025-05-10T02:45:38.030798Z",
     "iopub.status.idle": "2025-05-10T02:45:38.088269Z",
     "shell.execute_reply": "2025-05-10T02:45:38.087551Z"
    },
    "papermill": {
     "duration": 0.079687,
     "end_time": "2025-05-10T02:45:38.089620",
     "exception": false,
     "start_time": "2025-05-10T02:45:38.009933",
     "status": "completed"
    },
    "tags": []
   },
   "outputs": [
    {
     "data": {
      "text/plain": [
       "['model_Wavlm_svc.pkl']"
      ]
     },
     "execution_count": 11,
     "metadata": {},
     "output_type": "execute_result"
    }
   ],
   "source": [
    "joblib.dump(model_Wavlm_svc,\"model_Wavlm_svc.pkl\")"
   ]
  },
  {
   "cell_type": "markdown",
   "id": "3cdcff34",
   "metadata": {
    "papermill": {
     "duration": 0.020403,
     "end_time": "2025-05-10T02:45:38.131302",
     "exception": false,
     "start_time": "2025-05-10T02:45:38.110899",
     "status": "completed"
    },
    "tags": []
   },
   "source": [
    "### Hubert"
   ]
  },
  {
   "cell_type": "code",
   "execution_count": 12,
   "id": "12662c4a",
   "metadata": {
    "execution": {
     "iopub.execute_input": "2025-05-10T02:45:38.172386Z",
     "iopub.status.busy": "2025-05-10T02:45:38.172182Z",
     "iopub.status.idle": "2025-05-10T02:52:10.702762Z",
     "shell.execute_reply": "2025-05-10T02:52:10.701722Z"
    },
    "papermill": {
     "duration": 392.552739,
     "end_time": "2025-05-10T02:52:10.704147",
     "exception": false,
     "start_time": "2025-05-10T02:45:38.151408",
     "status": "completed"
    },
    "tags": []
   },
   "outputs": [
    {
     "name": "stdout",
     "output_type": "stream",
     "text": [
      "\n",
      "Bước 2: Đặc trưng chưa được trích xuất. Đang khởi tạo Feature Extractor và tiến hành trích xuất.\n",
      "Đang sử dụng thiết bị: cuda\n",
      "Khởi tạo BaseFeatureExtractor cho mô hình: facebook/hubert-large-ll60k\n",
      "Đang nạp Processor: facebook/hubert-large-ll60k\n"
     ]
    },
    {
     "data": {
      "application/vnd.jupyter.widget-view+json": {
       "model_id": "92147927aefb41d3a57ebcabb2b1c699",
       "version_major": 2,
       "version_minor": 0
      },
      "text/plain": [
       "preprocessor_config.json:   0%|          | 0.00/212 [00:00<?, ?B/s]"
      ]
     },
     "metadata": {},
     "output_type": "display_data"
    },
    {
     "name": "stdout",
     "output_type": "stream",
     "text": [
      "Đang nạp Mô hình HuBERT: facebook/hubert-large-ll60k\n"
     ]
    },
    {
     "data": {
      "application/vnd.jupyter.widget-view+json": {
       "model_id": "41efc1b26f8049b5bfc7fa537fa78695",
       "version_major": 2,
       "version_minor": 0
      },
      "text/plain": [
       "config.json:   0%|          | 0.00/1.60k [00:00<?, ?B/s]"
      ]
     },
     "metadata": {},
     "output_type": "display_data"
    },
    {
     "data": {
      "application/vnd.jupyter.widget-view+json": {
       "model_id": "253d08cd28f5457eb41f45022b38c927",
       "version_major": 2,
       "version_minor": 0
      },
      "text/plain": [
       "pytorch_model.bin:   0%|          | 0.00/1.26G [00:00<?, ?B/s]"
      ]
     },
     "metadata": {},
     "output_type": "display_data"
    },
    {
     "data": {
      "application/vnd.jupyter.widget-view+json": {
       "model_id": "ae8c2f9266aa4bc29aa15638cb26b41c",
       "version_major": 2,
       "version_minor": 0
      },
      "text/plain": [
       "model.safetensors:   0%|          | 0.00/1.26G [00:00<?, ?B/s]"
      ]
     },
     "metadata": {},
     "output_type": "display_data"
    },
    {
     "name": "stdout",
     "output_type": "stream",
     "text": [
      "Cảnh báo: Không thể kiểm tra cấu trúc đầu ra của mô hình HuBERT bằng dummy input: Expected 2D (unbatched) or 3D (batched) input to conv1d, but got input of size: [1, 1, 1, 16000]\n",
      "HubertFeatureExtractor đã được khởi tạo thành công.\n",
      "\n",
      "Bắt đầu trích xuất đặc trưng (HuBERT) với batch size 16...\n",
      "  Đã xử lý 5184/5184 mẫu...\r\n",
      "Hoàn thành duyệt các batch (HuBERT).\n",
      "Tổng số mẫu đã trích xuất đặc trưng thành công (HuBERT): 5184\n",
      "\n",
      "Hoàn thành trích xuất cho full dataset. Lưu đặc trưng và metadata vào features_with_path_HF_MODEL_NAME_Hubert.csv.\n",
      "Đang lưu đặc trưng và metadata vào features_with_path_HF_MODEL_NAME_Hubert.csv...\n",
      "Đặc trưng và metadata đã được lưu thành công.\n",
      "\n",
      "--- Kết thúc quy trình trích xuất đặc trưng ---\n"
     ]
    }
   ],
   "source": [
    "print(\"\\nBước 2: Đặc trưng chưa được trích xuất. Đang khởi tạo Feature Extractor và tiến hành trích xuất.\")\n",
    "EXTRACTED_FEATURES_CSV_PATH = f\"features_with_path_HF_MODEL_NAME_Hubert.csv\" # Sửa tên file để phân biệt\n",
    "\n",
    "extractor = HubertFeatureExtractor(HF_MODEL_NAME_Hubert)\n",
    "\n",
    "# extract_dataset_embeddings giờ trả về list (np_array, label, filepath)\n",
    "extracted_full_data = extractor.extract_dataset_embeddings(\n",
    "    dataset=full_dataset, # Trích xuất cho full dataset\n",
    "    batch_size=BATCH_SIZE\n",
    ")\n",
    "\n",
    "if extracted_full_data:\n",
    "    print(f\"\\nHoàn thành trích xuất cho full dataset. Lưu đặc trưng và metadata vào {EXTRACTED_FEATURES_CSV_PATH}.\")\n",
    "    # save_features_to_csv giờ nhận list (np_array, label, filepath)\n",
    "    BaseFeatureExtractor.save_features_to_csv(extracted_full_data, EXTRACTED_FEATURES_CSV_PATH)\n",
    "\n",
    "    # Tách kết quả trích xuất thành numpy arrays và list\n",
    "    features_np_Hubert = np.array([item[0] for item in extracted_full_data])\n",
    "    labels_list_Hubert = [item[1] for item in extracted_full_data]\n",
    "    filepaths_list_Hubert = [item[2] for item in extracted_full_data] # Lấy list filepaths từ kết quả trích xuất\n",
    "del extractor\n",
    "print(\"\\n--- Kết thúc quy trình trích xuất đặc trưng ---\")\n"
   ]
  },
  {
   "cell_type": "code",
   "execution_count": 13,
   "id": "0f8c01eb",
   "metadata": {
    "execution": {
     "iopub.execute_input": "2025-05-10T02:52:10.776676Z",
     "iopub.status.busy": "2025-05-10T02:52:10.775730Z",
     "iopub.status.idle": "2025-05-10T02:52:10.783749Z",
     "shell.execute_reply": "2025-05-10T02:52:10.783062Z"
    },
    "papermill": {
     "duration": 0.045258,
     "end_time": "2025-05-10T02:52:10.784750",
     "exception": false,
     "start_time": "2025-05-10T02:52:10.739492",
     "status": "completed"
    },
    "tags": []
   },
   "outputs": [
    {
     "name": "stdout",
     "output_type": "stream",
     "text": [
      "\n",
      "--- Đặc trưng (toàn bộ dataset) đã sẵn sàng ---\n",
      "Shape đặc trưng: (5184, 1024), Nhãn: 5184, Filepaths: 5184\n",
      "Các lớp tìm thấy trong nhãn: ['Anger' 'Happiness' 'Neutral state' 'Sadness']\n"
     ]
    }
   ],
   "source": [
    "print(\"\\n--- Đặc trưng (toàn bộ dataset) đã sẵn sàng ---\")\n",
    "print(f\"Shape đặc trưng: {features_np_Hubert.shape}, Nhãn: {len(labels_list_Hubert)}, Filepaths: {len(filepaths_list_Hubert)}\")\n",
    "assert features_np_Hubert.shape[0] == len(labels_list_Hubert) == len(filepaths_list_Hubert), \"Số lượng mẫu không nhất quán sau khi chuẩn bị đặc trưng!\"\n",
    "print(f\"Các lớp tìm thấy trong nhãn: {np.unique(labels_list_Hubert)}\")"
   ]
  },
  {
   "cell_type": "code",
   "execution_count": 14,
   "id": "c36eceb7",
   "metadata": {
    "execution": {
     "iopub.execute_input": "2025-05-10T02:52:10.856903Z",
     "iopub.status.busy": "2025-05-10T02:52:10.856356Z",
     "iopub.status.idle": "2025-05-10T02:52:10.867986Z",
     "shell.execute_reply": "2025-05-10T02:52:10.867268Z"
    },
    "papermill": {
     "duration": 0.050651,
     "end_time": "2025-05-10T02:52:10.868985",
     "exception": false,
     "start_time": "2025-05-10T02:52:10.818334",
     "status": "completed"
    },
    "tags": []
   },
   "outputs": [
    {
     "name": "stdout",
     "output_type": "stream",
     "text": [
      "\n",
      "Bước 3: Chia dữ liệu (đặc trưng, nhãn, filepaths) thành tập train và test.\n",
      "Đã chia dữ liệu:\n",
      "  Train: X_train shape (4147, 1024), y_train len 4147, train_filepaths len 4147\n",
      "  Test: X_test shape (1037, 1024), y_test len 1037, test_filepaths len 1037\n"
     ]
    }
   ],
   "source": [
    "print(\"\\nBước 3: Chia dữ liệu (đặc trưng, nhãn, filepaths) thành tập train và test.\")\n",
    "# train_test_split CHỈ LÀM MỘT LẦN ở đây\n",
    "X_train, X_test, y_train, y_test, train_filepaths, test_filepaths = train_test_split(\n",
    "    features_np_Hubert, labels_list_Hubert, filepaths_list_Hubert, # Chia 3 thứ cùng lúc\n",
    "    test_size=0.2,\n",
    "    random_state=42,\n",
    ")\n",
    "print(f\"Đã chia dữ liệu:\")\n",
    "print(f\"  Train: X_train shape {X_train.shape}, y_train len {len(y_train)}, train_filepaths len {len(train_filepaths)}\")\n",
    "print(f\"  Test: X_test shape {X_test.shape}, y_test len {len(y_test)}, test_filepaths len {len(test_filepaths)}\")"
   ]
  },
  {
   "cell_type": "code",
   "execution_count": 15,
   "id": "caf304b0",
   "metadata": {
    "execution": {
     "iopub.execute_input": "2025-05-10T02:52:10.936488Z",
     "iopub.status.busy": "2025-05-10T02:52:10.935915Z",
     "iopub.status.idle": "2025-05-10T02:52:19.985362Z",
     "shell.execute_reply": "2025-05-10T02:52:19.984372Z"
    },
    "papermill": {
     "duration": 9.084351,
     "end_time": "2025-05-10T02:52:19.986688",
     "exception": false,
     "start_time": "2025-05-10T02:52:10.902337",
     "status": "completed"
    },
    "tags": []
   },
   "outputs": [
    {
     "name": "stdout",
     "output_type": "stream",
     "text": [
      "Đang tạo pipeline cho mô hình SVC...\n",
      "  Tham số SVC cuối cùng: {'kernel': 'rbf', 'C': 1.0, 'gamma': 'scale', 'probability': False, 'class_weight': None}\n",
      "Pipeline SVC đã được tạo.\n",
      "Warning: Mô hình 'Hubert SVM' không có phương thức .predict_proba(). Sẽ không thể tính xác suất và độ bất định.\n",
      "Đã khởi tạo SingleModel: Hubert SVM\n",
      "\n",
      "--- Bắt đầu pipeline cho mô hình: Hubert SVM ---\n",
      "Đang huấn luyện mô hình: Hubert SVM...\n",
      "Hoàn thành huấn luyện mô hình: Hubert SVM.\n",
      "Đang dự đoán với mô hình: Hubert SVM...\n",
      "Hoàn thành dự đoán với mô hình: Hubert SVM.\n",
      "Bỏ qua lấy xác suất và tính độ bất định cho 'Hubert SVM' vì mô hình không có predict_proba.\n",
      "--- Hoàn thành pipeline cho mô hình: Hubert SVM ---\n",
      "\n",
      "--- Báo cáo Đánh giá cho Mô hình: Hubert SVM ---\n",
      "               precision    recall  f1-score   support\n",
      "\n",
      "        Anger       0.70      0.76      0.73       366\n",
      "    Happiness       0.67      0.08      0.15       122\n",
      "      Sadness       0.60      0.71      0.65       348\n",
      "Neutral state       0.68      0.74      0.71       201\n",
      "\n",
      "     accuracy                           0.66      1037\n",
      "    macro avg       0.66      0.57      0.56      1037\n",
      " weighted avg       0.66      0.66      0.63      1037\n",
      "\n",
      "Balanced Accuracy (Unweighted): 0.5732\n",
      "Accuracy (Weighted): 0.6596\n",
      "\n",
      "Ma trận nhầm lẫn:\n",
      "[[277   1  13  75]\n",
      " [ 31  10  28  53]\n",
      " [ 16   2 149  34]\n",
      " [ 70   2  28 248]]\n",
      "----------------------------------------------------\n"
     ]
    }
   ],
   "source": [
    "svc_pipeline = create_specific_svc_pipeline(**SVC_PARAMS)\n",
    "# Tạo đối tượng SingleModel cho SVC\n",
    "model_Hubert_b_svc = SingleModel(\n",
    "    name=\"Hubert SVM\",\n",
    "    model=svc_pipeline,\n",
    "    X_train=X_train, X_test=X_test, y_train=y_train, y_test=y_test,\n",
    "    class_names=CLASS_NAMES\n",
    ")\n",
    "# Chạy pipeline (huấn luyện, predict, proba, uncertainty) cho mô hình đơn lẻ này\n",
    "model_Hubert_b_svc.run_pipeline()\n",
    "# Đánh giá kết quả mô hình đơn lẻ (Tùy chọn)\n",
    "model_Hubert_b_svc.evaluate()\n",
    "if model_Hubert_b_svc.get_predictions() is not None:\n",
    "    ensemble_predictions_dict[model_Hubert_b_svc.get_name()] = model_Hubert_b_svc.get_predictions()"
   ]
  },
  {
   "cell_type": "code",
   "execution_count": 16,
   "id": "68103477",
   "metadata": {
    "execution": {
     "iopub.execute_input": "2025-05-10T02:52:20.055966Z",
     "iopub.status.busy": "2025-05-10T02:52:20.055307Z",
     "iopub.status.idle": "2025-05-10T02:53:02.579900Z",
     "shell.execute_reply": "2025-05-10T02:53:02.579065Z"
    },
    "papermill": {
     "duration": 42.559628,
     "end_time": "2025-05-10T02:53:02.581212",
     "exception": false,
     "start_time": "2025-05-10T02:52:20.021584",
     "status": "completed"
    },
    "tags": []
   },
   "outputs": [
    {
     "name": "stdout",
     "output_type": "stream",
     "text": [
      "\n",
      "Bước 4:## Chuẩn bị Mô hình SVC ##\n",
      "Đang tạo pipeline cho mô hình SVC...\n",
      "  Tham số SVC cuối cùng: {'kernel': 'rbf', 'C': 1.0, 'gamma': 'scale', 'probability': True, 'class_weight': 'balanced'}\n",
      "Pipeline SVC đã được tạo.\n",
      "Đã khởi tạo SingleModel: Hubert SVM For Ensemble\n",
      "\n",
      "--- Bắt đầu pipeline cho mô hình: Hubert SVM For Ensemble ---\n",
      "Đang huấn luyện mô hình: Hubert SVM For Ensemble...\n",
      "Hoàn thành huấn luyện mô hình: Hubert SVM For Ensemble.\n",
      "Đang dự đoán với mô hình: Hubert SVM For Ensemble...\n",
      "Hoàn thành dự đoán với mô hình: Hubert SVM For Ensemble.\n",
      "Đang lấy xác suất dự đoán với mô hình: Hubert SVM For Ensemble...\n",
      "Hoàn thành lấy xác suất dự đoán với mô hình: Hubert SVM For Ensemble.\n",
      "Đã tính toán độ bất định cho mô hình: Hubert SVM For Ensemble.\n",
      "--- Hoàn thành pipeline cho mô hình: Hubert SVM For Ensemble ---\n",
      "\n",
      "--- Báo cáo Đánh giá cho Mô hình: Hubert SVM For Ensemble ---\n",
      "               precision    recall  f1-score   support\n",
      "\n",
      "        Anger       0.73      0.73      0.73       366\n",
      "    Happiness       0.31      0.25      0.28       122\n",
      "      Sadness       0.63      0.56      0.59       348\n",
      "Neutral state       0.64      0.83      0.72       201\n",
      "\n",
      "     accuracy                           0.63      1037\n",
      "    macro avg       0.58      0.59      0.58      1037\n",
      " weighted avg       0.63      0.63      0.63      1037\n",
      "\n",
      "Balanced Accuracy (Unweighted): 0.5917\n",
      "Accuracy (Weighted): 0.6345\n",
      "\n",
      "Ma trận nhầm lẫn:\n",
      "[[267  19  20  60]\n",
      " [ 23  31  27  41]\n",
      " [ 12   8 166  15]\n",
      " [ 64  42  48 194]]\n",
      "----------------------------------------------------\n"
     ]
    }
   ],
   "source": [
    "print(\"\\nBước 4:## Chuẩn bị Mô hình SVC ##\")\n",
    "svc_pipeline = create_specific_svc_pipeline()\n",
    "# Tạo đối tượng SingleModel cho SVC\n",
    "model_Hubert_svc = SingleModel(\n",
    "    name=\"Hubert SVM For Ensemble\",\n",
    "    model=svc_pipeline,\n",
    "    X_train=X_train, X_test=X_test, y_train=y_train, y_test=y_test,\n",
    "    class_names=CLASS_NAMES\n",
    ")\n",
    "# Chạy pipeline (huấn luyện, predict, proba, uncertainty) cho mô hình đơn lẻ này\n",
    "model_Hubert_svc.run_pipeline()\n",
    "# Đánh giá kết quả mô hình đơn lẻ (Tùy chọn)\n",
    "model_Hubert_svc.evaluate()\n",
    "list_of_aud_hub_wav.append(model_Hubert_svc)\n",
    "list_of_hub_wav.append(model_Hubert_svc)\n",
    "list_of_aud_hub.append(model_Hubert_svc)\n",
    "if model_Hubert_svc.get_predictions() is not None:\n",
    "    ensemble_predictions_dict[model_Hubert_svc.get_name()] = model_Hubert_svc.get_predictions()"
   ]
  },
  {
   "cell_type": "code",
   "execution_count": 17,
   "id": "394a41cc",
   "metadata": {
    "execution": {
     "iopub.execute_input": "2025-05-10T02:53:02.649494Z",
     "iopub.status.busy": "2025-05-10T02:53:02.649257Z",
     "iopub.status.idle": "2025-05-10T02:53:02.708744Z",
     "shell.execute_reply": "2025-05-10T02:53:02.708001Z"
    },
    "papermill": {
     "duration": 0.094687,
     "end_time": "2025-05-10T02:53:02.709850",
     "exception": false,
     "start_time": "2025-05-10T02:53:02.615163",
     "status": "completed"
    },
    "tags": []
   },
   "outputs": [
    {
     "data": {
      "text/plain": [
       "['model_Hubert_svc.pkl']"
      ]
     },
     "execution_count": 17,
     "metadata": {},
     "output_type": "execute_result"
    }
   ],
   "source": [
    "joblib.dump(model_Hubert_svc,\"model_Hubert_svc.pkl\")"
   ]
  },
  {
   "cell_type": "markdown",
   "id": "39930436",
   "metadata": {
    "papermill": {
     "duration": 0.033591,
     "end_time": "2025-05-10T02:53:02.777175",
     "exception": false,
     "start_time": "2025-05-10T02:53:02.743584",
     "status": "completed"
    },
    "tags": []
   },
   "source": [
    "### Wav2vec"
   ]
  },
  {
   "cell_type": "code",
   "execution_count": 18,
   "id": "1b9f0ea8",
   "metadata": {
    "execution": {
     "iopub.execute_input": "2025-05-10T02:53:02.844198Z",
     "iopub.status.busy": "2025-05-10T02:53:02.843935Z",
     "iopub.status.idle": "2025-05-10T02:59:36.401827Z",
     "shell.execute_reply": "2025-05-10T02:59:36.400798Z"
    },
    "papermill": {
     "duration": 393.592962,
     "end_time": "2025-05-10T02:59:36.403233",
     "exception": false,
     "start_time": "2025-05-10T02:53:02.810271",
     "status": "completed"
    },
    "tags": []
   },
   "outputs": [
    {
     "name": "stdout",
     "output_type": "stream",
     "text": [
      "\n",
      "Bước 2: Đặc trưng chưa được trích xuất. Đang khởi tạo Feature Extractor và tiến hành trích xuất.\n",
      "Đang sử dụng thiết bị: cuda\n",
      "Khởi tạo BaseFeatureExtractor cho mô hình: facebook/wav2vec2-large-robust\n",
      "Đang nạp Processor: facebook/wav2vec2-large-robust\n"
     ]
    },
    {
     "data": {
      "application/vnd.jupyter.widget-view+json": {
       "model_id": "db22403bec2a448693f23de2f2a1665d",
       "version_major": 2,
       "version_minor": 0
      },
      "text/plain": [
       "preprocessor_config.json:   0%|          | 0.00/158 [00:00<?, ?B/s]"
      ]
     },
     "metadata": {},
     "output_type": "display_data"
    },
    {
     "data": {
      "application/vnd.jupyter.widget-view+json": {
       "model_id": "2b77dc7bfb9347bca7c7003dbfbf8d3a",
       "version_major": 2,
       "version_minor": 0
      },
      "text/plain": [
       "config.json:   0%|          | 0.00/1.58k [00:00<?, ?B/s]"
      ]
     },
     "metadata": {},
     "output_type": "display_data"
    },
    {
     "name": "stdout",
     "output_type": "stream",
     "text": [
      "Đang nạp Mô hình Wav2Vec2 (Encoder): facebook/wav2vec2-large-robust\n"
     ]
    },
    {
     "data": {
      "application/vnd.jupyter.widget-view+json": {
       "model_id": "49ffc88577c548888a4838f31e1229d2",
       "version_major": 2,
       "version_minor": 0
      },
      "text/plain": [
       "pytorch_model.bin:   0%|          | 0.00/1.27G [00:00<?, ?B/s]"
      ]
     },
     "metadata": {},
     "output_type": "display_data"
    },
    {
     "name": "stdout",
     "output_type": "stream",
     "text": [
      "Cảnh báo: Không thể kiểm tra cấu trúc đầu ra của mô hình Wav2Vec2 bằng dummy input: Expected 2D (unbatched) or 3D (batched) input to conv1d, but got input of size: [1, 1, 1, 16000]\n",
      "Wav2Vec2EncoderFeatureExtractor đã được khởi tạo thành công.\n",
      "\n",
      "Bắt đầu trích xuất đặc trưng (Wav2Vec2) với batch size 16...\n"
     ]
    },
    {
     "data": {
      "application/vnd.jupyter.widget-view+json": {
       "model_id": "3d210bf756d44cc1afe5e1a377e05bcc",
       "version_major": 2,
       "version_minor": 0
      },
      "text/plain": [
       "model.safetensors:   0%|          | 0.00/1.27G [00:00<?, ?B/s]"
      ]
     },
     "metadata": {},
     "output_type": "display_data"
    },
    {
     "name": "stdout",
     "output_type": "stream",
     "text": [
      "  Đã xử lý 5184/5184 mẫu...\r\n",
      "Hoàn thành duyệt các batch (Wav2Vec2).\n",
      "Tổng số mẫu đã trích xuất đặc trưng thành công (Wav2Vec2): 5184\n",
      "\n",
      "Hoàn thành trích xuất cho full dataset. Lưu đặc trưng và metadata vào features_with_path_HF_MODEL_NAME_Wav2vec.csv.\n",
      "Đang lưu đặc trưng và metadata vào features_with_path_HF_MODEL_NAME_Wav2vec.csv...\n",
      "Đặc trưng và metadata đã được lưu thành công.\n",
      "\n",
      "--- Kết thúc quy trình trích xuất đặc trưng ---\n"
     ]
    }
   ],
   "source": [
    "print(\"\\nBước 2: Đặc trưng chưa được trích xuất. Đang khởi tạo Feature Extractor và tiến hành trích xuất.\")\n",
    "EXTRACTED_FEATURES_CSV_PATH = f\"features_with_path_HF_MODEL_NAME_Wav2vec.csv\" # Sửa tên file để phân biệt\n",
    "\n",
    "extractor = Wav2Vec2EncoderFeatureExtractor(HF_MODEL_NAME_Wav2vec)\n",
    "\n",
    "# extract_dataset_embeddings giờ trả về list (np_array, label, filepath)\n",
    "extracted_full_data = extractor.extract_dataset_embeddings(\n",
    "    dataset=full_dataset, # Trích xuất cho full dataset\n",
    "    batch_size=BATCH_SIZE\n",
    ")\n",
    "\n",
    "if extracted_full_data:\n",
    "    print(f\"\\nHoàn thành trích xuất cho full dataset. Lưu đặc trưng và metadata vào {EXTRACTED_FEATURES_CSV_PATH}.\")\n",
    "    # save_features_to_csv giờ nhận list (np_array, label, filepath)\n",
    "    BaseFeatureExtractor.save_features_to_csv(extracted_full_data, EXTRACTED_FEATURES_CSV_PATH)\n",
    "\n",
    "    # Tách kết quả trích xuất thành numpy arrays và list\n",
    "    features_np_Wav2vec = np.array([item[0] for item in extracted_full_data])\n",
    "    labels_list_Wav2vec = [item[1] for item in extracted_full_data]\n",
    "    filepaths_list_Wav2vec = [item[2] for item in extracted_full_data] # Lấy list filepaths từ kết quả trích xuất\n",
    "del extractor\n",
    "print(\"\\n--- Kết thúc quy trình trích xuất đặc trưng ---\")"
   ]
  },
  {
   "cell_type": "code",
   "execution_count": 19,
   "id": "40b6a0a9",
   "metadata": {
    "execution": {
     "iopub.execute_input": "2025-05-10T02:59:36.496642Z",
     "iopub.status.busy": "2025-05-10T02:59:36.496380Z",
     "iopub.status.idle": "2025-05-10T02:59:36.502765Z",
     "shell.execute_reply": "2025-05-10T02:59:36.502157Z"
    },
    "papermill": {
     "duration": 0.053937,
     "end_time": "2025-05-10T02:59:36.503767",
     "exception": false,
     "start_time": "2025-05-10T02:59:36.449830",
     "status": "completed"
    },
    "tags": []
   },
   "outputs": [
    {
     "name": "stdout",
     "output_type": "stream",
     "text": [
      "\n",
      "--- Đặc trưng (toàn bộ dataset) đã sẵn sàng ---\n",
      "Shape đặc trưng: (5184, 1024), Nhãn: 5184, Filepaths: 5184\n",
      "Các lớp tìm thấy trong nhãn: ['Anger' 'Happiness' 'Neutral state' 'Sadness']\n"
     ]
    }
   ],
   "source": [
    "print(\"\\n--- Đặc trưng (toàn bộ dataset) đã sẵn sàng ---\")\n",
    "print(f\"Shape đặc trưng: {features_np_Wav2vec.shape}, Nhãn: {len(labels_list_Wav2vec)}, Filepaths: {len(filepaths_list_Wav2vec)}\")\n",
    "assert features_np_Wav2vec.shape[0] == len(labels_list_Wav2vec) == len(filepaths_list_Wav2vec), \"Số lượng mẫu không nhất quán sau khi chuẩn bị đặc trưng!\"\n",
    "print(f\"Các lớp tìm thấy trong nhãn: {np.unique(labels_list_Wav2vec)}\")"
   ]
  },
  {
   "cell_type": "code",
   "execution_count": 20,
   "id": "6e23e4f7",
   "metadata": {
    "execution": {
     "iopub.execute_input": "2025-05-10T02:59:36.595980Z",
     "iopub.status.busy": "2025-05-10T02:59:36.595793Z",
     "iopub.status.idle": "2025-05-10T02:59:36.607306Z",
     "shell.execute_reply": "2025-05-10T02:59:36.606626Z"
    },
    "papermill": {
     "duration": 0.059048,
     "end_time": "2025-05-10T02:59:36.608264",
     "exception": false,
     "start_time": "2025-05-10T02:59:36.549216",
     "status": "completed"
    },
    "tags": []
   },
   "outputs": [
    {
     "name": "stdout",
     "output_type": "stream",
     "text": [
      "\n",
      "Bước 3: Chia dữ liệu (đặc trưng, nhãn, filepaths) thành tập train và test.\n",
      "Đã chia dữ liệu:\n",
      "  Train: X_train shape (4147, 1024), y_train len 4147, train_filepaths len 4147\n",
      "  Test: X_test shape (1037, 1024), y_test len 1037, test_filepaths len 1037\n"
     ]
    }
   ],
   "source": [
    "print(\"\\nBước 3: Chia dữ liệu (đặc trưng, nhãn, filepaths) thành tập train và test.\")\n",
    "# train_test_split CHỈ LÀM MỘT LẦN ở đây\n",
    "X_train, X_test, y_train, y_test, train_filepaths, test_filepaths = train_test_split(\n",
    "    features_np_Wav2vec, labels_list_Wav2vec, filepaths_list_Wav2vec, # Chia 3 thứ cùng lúc\n",
    "    test_size=0.2,\n",
    "    random_state=42,\n",
    ")\n",
    "print(f\"Đã chia dữ liệu:\")\n",
    "print(f\"  Train: X_train shape {X_train.shape}, y_train len {len(y_train)}, train_filepaths len {len(train_filepaths)}\")\n",
    "print(f\"  Test: X_test shape {X_test.shape}, y_test len {len(y_test)}, test_filepaths len {len(test_filepaths)}\")"
   ]
  },
  {
   "cell_type": "code",
   "execution_count": 21,
   "id": "2d6e0d5b",
   "metadata": {
    "execution": {
     "iopub.execute_input": "2025-05-10T02:59:36.701482Z",
     "iopub.status.busy": "2025-05-10T02:59:36.701276Z",
     "iopub.status.idle": "2025-05-10T02:59:45.942574Z",
     "shell.execute_reply": "2025-05-10T02:59:45.941681Z"
    },
    "papermill": {
     "duration": 9.289011,
     "end_time": "2025-05-10T02:59:45.943778",
     "exception": false,
     "start_time": "2025-05-10T02:59:36.654767",
     "status": "completed"
    },
    "tags": []
   },
   "outputs": [
    {
     "name": "stdout",
     "output_type": "stream",
     "text": [
      "Đang tạo pipeline cho mô hình SVC...\n",
      "  Tham số SVC cuối cùng: {'kernel': 'rbf', 'C': 1.0, 'gamma': 'scale', 'probability': False, 'class_weight': None}\n",
      "Pipeline SVC đã được tạo.\n",
      "Warning: Mô hình 'Wav2vec SVM' không có phương thức .predict_proba(). Sẽ không thể tính xác suất và độ bất định.\n",
      "Đã khởi tạo SingleModel: Wav2vec SVM\n",
      "\n",
      "--- Bắt đầu pipeline cho mô hình: Wav2vec SVM ---\n",
      "Đang huấn luyện mô hình: Wav2vec SVM...\n",
      "Hoàn thành huấn luyện mô hình: Wav2vec SVM.\n",
      "Đang dự đoán với mô hình: Wav2vec SVM...\n",
      "Hoàn thành dự đoán với mô hình: Wav2vec SVM.\n",
      "Bỏ qua lấy xác suất và tính độ bất định cho 'Wav2vec SVM' vì mô hình không có predict_proba.\n",
      "--- Hoàn thành pipeline cho mô hình: Wav2vec SVM ---\n",
      "\n",
      "--- Báo cáo Đánh giá cho Mô hình: Wav2vec SVM ---\n",
      "               precision    recall  f1-score   support\n",
      "\n",
      "        Anger       0.67      0.75      0.71       366\n",
      "    Happiness       0.00      0.00      0.00       122\n",
      "      Sadness       0.53      0.74      0.62       348\n",
      "Neutral state       0.70      0.52      0.59       201\n",
      "\n",
      "     accuracy                           0.61      1037\n",
      "    macro avg       0.48      0.50      0.48      1037\n",
      " weighted avg       0.55      0.61      0.57      1037\n",
      "\n",
      "Balanced Accuracy (Unweighted): 0.5011\n",
      "Accuracy (Weighted): 0.6123\n",
      "\n",
      "Ma trận nhầm lẫn:\n",
      "[[274   0  11  81]\n",
      " [ 36   0  15  71]\n",
      " [ 24   0 104  73]\n",
      " [ 72   0  19 257]]\n",
      "----------------------------------------------------\n"
     ]
    },
    {
     "name": "stderr",
     "output_type": "stream",
     "text": [
      "/usr/local/lib/python3.11/dist-packages/sklearn/metrics/_classification.py:1344: UndefinedMetricWarning: Precision and F-score are ill-defined and being set to 0.0 in labels with no predicted samples. Use `zero_division` parameter to control this behavior.\n",
      "  _warn_prf(average, modifier, msg_start, len(result))\n",
      "/usr/local/lib/python3.11/dist-packages/sklearn/metrics/_classification.py:1344: UndefinedMetricWarning: Precision and F-score are ill-defined and being set to 0.0 in labels with no predicted samples. Use `zero_division` parameter to control this behavior.\n",
      "  _warn_prf(average, modifier, msg_start, len(result))\n",
      "/usr/local/lib/python3.11/dist-packages/sklearn/metrics/_classification.py:1344: UndefinedMetricWarning: Precision and F-score are ill-defined and being set to 0.0 in labels with no predicted samples. Use `zero_division` parameter to control this behavior.\n",
      "  _warn_prf(average, modifier, msg_start, len(result))\n",
      "/usr/local/lib/python3.11/dist-packages/sklearn/metrics/_classification.py:1344: UndefinedMetricWarning: Precision and F-score are ill-defined and being set to 0.0 in labels with no predicted samples. Use `zero_division` parameter to control this behavior.\n",
      "  _warn_prf(average, modifier, msg_start, len(result))\n",
      "/usr/local/lib/python3.11/dist-packages/sklearn/metrics/_classification.py:1344: UndefinedMetricWarning: Precision and F-score are ill-defined and being set to 0.0 in labels with no predicted samples. Use `zero_division` parameter to control this behavior.\n",
      "  _warn_prf(average, modifier, msg_start, len(result))\n",
      "/usr/local/lib/python3.11/dist-packages/sklearn/metrics/_classification.py:1344: UndefinedMetricWarning: Precision and F-score are ill-defined and being set to 0.0 in labels with no predicted samples. Use `zero_division` parameter to control this behavior.\n",
      "  _warn_prf(average, modifier, msg_start, len(result))\n"
     ]
    }
   ],
   "source": [
    "svc_pipeline = create_specific_svc_pipeline(**SVC_PARAMS)\n",
    "# Tạo đối tượng SingleModel cho SVC\n",
    "model_Wav2vec_b_svc = SingleModel(\n",
    "    name=\"Wav2vec SVM\",\n",
    "    model=svc_pipeline,\n",
    "    X_train=X_train, X_test=X_test, y_train=y_train, y_test=y_test,\n",
    "    class_names=CLASS_NAMES\n",
    ")\n",
    "# Chạy pipeline (huấn luyện, predict, proba, uncertainty) cho mô hình đơn lẻ này\n",
    "model_Wav2vec_b_svc.run_pipeline()\n",
    "# Đánh giá kết quả mô hình đơn lẻ (Tùy chọn)\n",
    "model_Wav2vec_b_svc.evaluate()\n",
    "if model_Wav2vec_b_svc.get_predictions() is not None:\n",
    "    ensemble_predictions_dict[model_Wav2vec_b_svc.get_name()] = model_Wav2vec_b_svc.get_predictions()"
   ]
  },
  {
   "cell_type": "code",
   "execution_count": 22,
   "id": "395c41f4",
   "metadata": {
    "execution": {
     "iopub.execute_input": "2025-05-10T02:59:46.040520Z",
     "iopub.status.busy": "2025-05-10T02:59:46.040274Z",
     "iopub.status.idle": "2025-05-10T03:00:31.279728Z",
     "shell.execute_reply": "2025-05-10T03:00:31.278815Z"
    },
    "papermill": {
     "duration": 45.29016,
     "end_time": "2025-05-10T03:00:31.281334",
     "exception": false,
     "start_time": "2025-05-10T02:59:45.991174",
     "status": "completed"
    },
    "tags": []
   },
   "outputs": [
    {
     "name": "stdout",
     "output_type": "stream",
     "text": [
      "\n",
      "Bước 4:## Chuẩn bị Mô hình SVC ##\n",
      "Đang tạo pipeline cho mô hình SVC...\n",
      "  Tham số SVC cuối cùng: {'kernel': 'rbf', 'C': 1.0, 'gamma': 'scale', 'probability': True, 'class_weight': 'balanced'}\n",
      "Pipeline SVC đã được tạo.\n",
      "Đã khởi tạo SingleModel: Wav2vec SVM For Ensemble\n",
      "\n",
      "--- Bắt đầu pipeline cho mô hình: Wav2vec SVM For Ensemble ---\n",
      "Đang huấn luyện mô hình: Wav2vec SVM For Ensemble...\n",
      "Hoàn thành huấn luyện mô hình: Wav2vec SVM For Ensemble.\n",
      "Đang dự đoán với mô hình: Wav2vec SVM For Ensemble...\n",
      "Hoàn thành dự đoán với mô hình: Wav2vec SVM For Ensemble.\n",
      "Đang lấy xác suất dự đoán với mô hình: Wav2vec SVM For Ensemble...\n",
      "Hoàn thành lấy xác suất dự đoán với mô hình: Wav2vec SVM For Ensemble.\n",
      "Đã tính toán độ bất định cho mô hình: Wav2vec SVM For Ensemble.\n",
      "--- Hoàn thành pipeline cho mô hình: Wav2vec SVM For Ensemble ---\n",
      "\n",
      "--- Báo cáo Đánh giá cho Mô hình: Wav2vec SVM For Ensemble ---\n",
      "               precision    recall  f1-score   support\n",
      "\n",
      "        Anger       0.64      0.72      0.68       366\n",
      "    Happiness       0.33      0.21      0.26       122\n",
      "      Sadness       0.56      0.51      0.54       348\n",
      "Neutral state       0.59      0.68      0.63       201\n",
      "\n",
      "     accuracy                           0.58      1037\n",
      "    macro avg       0.53      0.53      0.53      1037\n",
      " weighted avg       0.57      0.58      0.57      1037\n",
      "\n",
      "Balanced Accuracy (Unweighted): 0.5319\n",
      "Accuracy (Weighted): 0.5834\n",
      "\n",
      "Ma trận nhầm lẫn:\n",
      "[[264  13  21  68]\n",
      " [ 34  26  25  37]\n",
      " [ 18  13 137  33]\n",
      " [ 96  26  48 178]]\n",
      "----------------------------------------------------\n"
     ]
    }
   ],
   "source": [
    "print(\"\\nBước 4:## Chuẩn bị Mô hình SVC ##\")\n",
    "svc_pipeline = create_specific_svc_pipeline()\n",
    "# Tạo đối tượng SingleModel cho SVC\n",
    "model_Wav2vec_svc = SingleModel(\n",
    "    name=\"Wav2vec SVM For Ensemble\",\n",
    "    model=svc_pipeline,\n",
    "    X_train=X_train, X_test=X_test, y_train=y_train, y_test=y_test,\n",
    "    class_names=CLASS_NAMES\n",
    ")\n",
    "# Chạy pipeline (huấn luyện, predict, proba, uncertainty) cho mô hình đơn lẻ này\n",
    "model_Wav2vec_svc.run_pipeline()\n",
    "# Đánh giá kết quả mô hình đơn lẻ (Tùy chọn)\n",
    "model_Wav2vec_svc.evaluate()\n",
    "list_of_aud_hub_wav.append(model_Wav2vec_svc)\n",
    "list_of_aud_hub.append(model_Wav2vec_svc)\n",
    "if model_Wav2vec_svc.get_predictions() is not None:\n",
    "    ensemble_predictions_dict[model_Wav2vec_svc.get_name()] = model_Wav2vec_svc.get_predictions()"
   ]
  },
  {
   "cell_type": "code",
   "execution_count": 23,
   "id": "9f174583",
   "metadata": {
    "execution": {
     "iopub.execute_input": "2025-05-10T03:00:31.377808Z",
     "iopub.status.busy": "2025-05-10T03:00:31.377343Z",
     "iopub.status.idle": "2025-05-10T03:00:31.439573Z",
     "shell.execute_reply": "2025-05-10T03:00:31.438776Z"
    },
    "papermill": {
     "duration": 0.110938,
     "end_time": "2025-05-10T03:00:31.440930",
     "exception": false,
     "start_time": "2025-05-10T03:00:31.329992",
     "status": "completed"
    },
    "tags": []
   },
   "outputs": [
    {
     "data": {
      "text/plain": [
       "['model_Wav2vec_svc.pkl']"
      ]
     },
     "execution_count": 23,
     "metadata": {},
     "output_type": "execute_result"
    }
   ],
   "source": [
    "joblib.dump(model_Wav2vec_svc,\"model_Wav2vec_svc.pkl\")"
   ]
  },
  {
   "cell_type": "markdown",
   "id": "98c849af",
   "metadata": {
    "papermill": {
     "duration": 0.046086,
     "end_time": "2025-05-10T03:00:31.534559",
     "exception": false,
     "start_time": "2025-05-10T03:00:31.488473",
     "status": "completed"
    },
    "tags": []
   },
   "source": [
    "### Ensemble"
   ]
  },
  {
   "cell_type": "markdown",
   "id": "e17df4dc",
   "metadata": {
    "papermill": {
     "duration": 0.046228,
     "end_time": "2025-05-10T03:00:31.626885",
     "exception": false,
     "start_time": "2025-05-10T03:00:31.580657",
     "status": "completed"
    },
    "tags": []
   },
   "source": [
    "#### Audmodel + Hubert"
   ]
  },
  {
   "cell_type": "code",
   "execution_count": 24,
   "id": "1df5feb9",
   "metadata": {
    "execution": {
     "iopub.execute_input": "2025-05-10T03:00:31.773538Z",
     "iopub.status.busy": "2025-05-10T03:00:31.772943Z",
     "iopub.status.idle": "2025-05-10T03:00:31.778000Z",
     "shell.execute_reply": "2025-05-10T03:00:31.777314Z"
    },
    "papermill": {
     "duration": 0.106133,
     "end_time": "2025-05-10T03:00:31.778981",
     "exception": false,
     "start_time": "2025-05-10T03:00:31.672848",
     "status": "completed"
    },
    "tags": []
   },
   "outputs": [
    {
     "name": "stdout",
     "output_type": "stream",
     "text": [
      "\n",
      "--- Thực hiện và đánh giá Ensemble audmodel + hubert ---\n",
      "Đã khởi tạo EnsembleModel với 2 mô hình cơ sở.\n",
      "  Có 2 mô hình cung cấp dữ liệu xác suất.\n",
      "  Có 2 mô hình cung cấp dữ liệu độ bất định.\n"
     ]
    }
   ],
   "source": [
    "# --- Thực hiện Ensemble ---\n",
    "print(\"\\n--- Thực hiện và đánh giá Ensemble audmodel + hubert ---\")\n",
    "# Truyền danh sách các mô hình đơn lẻ ĐÃ CHẠY pipeline, tên lớp và nhãn thật của tập test\n",
    "ensemble_analyzer = EnsembleModel(\n",
    "    models=list_of_aud_hub,\n",
    "    class_names=CLASS_NAMES,\n",
    "    y_true=y_test # y_test chính là nhãn thật của tập kiểm tra\n",
    ")"
   ]
  },
  {
   "cell_type": "code",
   "execution_count": 25,
   "id": "21c805a1",
   "metadata": {
    "execution": {
     "iopub.execute_input": "2025-05-10T03:00:31.873662Z",
     "iopub.status.busy": "2025-05-10T03:00:31.873205Z",
     "iopub.status.idle": "2025-05-10T03:00:31.914131Z",
     "shell.execute_reply": "2025-05-10T03:00:31.913243Z"
    },
    "papermill": {
     "duration": 0.089062,
     "end_time": "2025-05-10T03:00:31.915287",
     "exception": false,
     "start_time": "2025-05-10T03:00:31.826225",
     "status": "completed"
    },
    "tags": []
   },
   "outputs": [
    {
     "name": "stdout",
     "output_type": "stream",
     "text": [
      "\n",
      "# Đánh giá chiến lược Uncertainty Lowest (UL)\n",
      "Đang thực hiện chiến lược Ensemble: Uncertainty Lowest (UL)\n",
      "\n",
      "--- Báo cáo Đánh giá cho Uncertainty Lowest (UL) Ensemble ---\n",
      "               precision    recall  f1-score   support\n",
      "\n",
      "        Anger       0.69      0.77      0.73       366\n",
      "    Happiness       0.39      0.17      0.24       122\n",
      "      Sadness       0.63      0.58      0.60       348\n",
      "Neutral state       0.63      0.81      0.71       201\n",
      "\n",
      "     accuracy                           0.64      1037\n",
      "    macro avg       0.59      0.58      0.57      1037\n",
      " weighted avg       0.62      0.64      0.63      1037\n",
      "\n",
      "Balanced Accuracy (Unweighted): 0.5816\n",
      "Accuracy (Weighted): 0.6422\n",
      "\n",
      "Ma trận nhầm lẫn:\n",
      "[[281   5  20  60]\n",
      " [ 33  21  28  40]\n",
      " [ 14   6 162  19]\n",
      " [ 78  22  46 202]]\n",
      "----------------------------------------------------\n"
     ]
    }
   ],
   "source": [
    "print(\"\\n# Đánh giá chiến lược Uncertainty Lowest (UL)\")\n",
    "y_pred_ul = ensemble_analyzer.predict_ul()\n",
    "if y_pred_ul is not None:\n",
    "    ensemble_predictions_dict[\"UL_Ensemble_aud_hub\"] = y_pred_ul\n",
    "    ensemble_analyzer.evaluate_ensemble(y_pred_ul, strategy_name=\"Uncertainty Lowest (UL)\")"
   ]
  },
  {
   "cell_type": "code",
   "execution_count": 26,
   "id": "3600e30e",
   "metadata": {
    "execution": {
     "iopub.execute_input": "2025-05-10T03:00:32.009987Z",
     "iopub.status.busy": "2025-05-10T03:00:32.009471Z",
     "iopub.status.idle": "2025-05-10T03:00:32.051151Z",
     "shell.execute_reply": "2025-05-10T03:00:32.050323Z"
    },
    "papermill": {
     "duration": 0.089701,
     "end_time": "2025-05-10T03:00:32.052314",
     "exception": false,
     "start_time": "2025-05-10T03:00:31.962613",
     "status": "completed"
    },
    "tags": []
   },
   "outputs": [
    {
     "name": "stdout",
     "output_type": "stream",
     "text": [
      "\n",
      "# Đánh giá chiến lược Uncertainty Threshold (UT)\n",
      "Đang thực hiện chiến lược Ensemble: Uncertainty Threshold (UT) với ngưỡng = 0.9\n",
      "\n",
      "--- Báo cáo Đánh giá cho Uncertainty Threshold (UT, threshold=0.9) Ensemble ---\n",
      "               precision    recall  f1-score   support\n",
      "\n",
      "        Anger       0.70      0.78      0.74       366\n",
      "    Happiness       0.67      0.08      0.15       122\n",
      "      Sadness       0.29      0.17      0.21       348\n",
      "Neutral state       0.18      0.36      0.24       201\n",
      "\n",
      "     accuracy                           0.41      1037\n",
      "    macro avg       0.46      0.35      0.33      1037\n",
      " weighted avg       0.46      0.41      0.40      1037\n",
      "\n",
      "Balanced Accuracy (Unweighted): 0.3490\n",
      "Accuracy (Weighted): 0.4127\n",
      "\n",
      "Ma trận nhầm lẫn:\n",
      "[[287   0  62  17]\n",
      " [ 32  10  61  19]\n",
      " [ 18   2  73 108]\n",
      " [ 73   3 214  58]]\n",
      "----------------------------------------------------\n"
     ]
    }
   ],
   "source": [
    "print(\"\\n# Đánh giá chiến lược Uncertainty Threshold (UT)\")\n",
    "# Cần xác định một ngưỡng cho UT. Đây là một siêu tham số có thể cần tinh chỉnh.\n",
    "UT_THRESHOLD = 0.9\n",
    "y_pred_ut = ensemble_analyzer.predict_ut(threshold=UT_THRESHOLD)\n",
    "if y_pred_ut is not None:\n",
    "    ensemble_predictions_dict[f\"UT_Ensemble_aud_hub_T{UT_THRESHOLD}\"] = y_pred_ut\n",
    "    ensemble_analyzer.evaluate_ensemble(y_pred_ut, strategy_name=f\"Uncertainty Threshold (UT, threshold={UT_THRESHOLD})\")"
   ]
  },
  {
   "cell_type": "code",
   "execution_count": 27,
   "id": "7a2b9837",
   "metadata": {
    "execution": {
     "iopub.execute_input": "2025-05-10T03:00:32.147494Z",
     "iopub.status.busy": "2025-05-10T03:00:32.147253Z",
     "iopub.status.idle": "2025-05-10T03:00:32.190301Z",
     "shell.execute_reply": "2025-05-10T03:00:32.189566Z"
    },
    "papermill": {
     "duration": 0.091811,
     "end_time": "2025-05-10T03:00:32.191329",
     "exception": false,
     "start_time": "2025-05-10T03:00:32.099518",
     "status": "completed"
    },
    "tags": []
   },
   "outputs": [
    {
     "name": "stdout",
     "output_type": "stream",
     "text": [
      "\n",
      "# Đánh giá chiến lược Uncertainty Weighted (UW)\n",
      "Đang thực hiện chiến lược Ensemble: Uncertainty Weighted (UW)\n",
      "\n",
      "--- Báo cáo Đánh giá cho Uncertainty Weighted (UW) Ensemble ---\n",
      "               precision    recall  f1-score   support\n",
      "\n",
      "        Anger       0.70      0.78      0.73       366\n",
      "    Happiness       0.69      0.09      0.16       122\n",
      "      Sadness       0.15      0.10      0.12       348\n",
      "Neutral state       0.07      0.12      0.09       201\n",
      "\n",
      "     accuracy                           0.34      1037\n",
      "    macro avg       0.40      0.27      0.27      1037\n",
      " weighted avg       0.39      0.34      0.33      1037\n",
      "\n",
      "Balanced Accuracy (Unweighted): 0.2727\n",
      "Accuracy (Weighted): 0.3423\n",
      "\n",
      "Ma trận nhầm lẫn:\n",
      "[[285   0  66  15]\n",
      " [ 32  11  53  26]\n",
      " [ 18   2  25 156]\n",
      " [ 75   3 236  34]]\n",
      "----------------------------------------------------\n"
     ]
    }
   ],
   "source": [
    "print(\"\\n# Đánh giá chiến lược Uncertainty Weighted (UW)\")\n",
    "y_pred_uw = ensemble_analyzer.predict_uw()\n",
    "if y_pred_uw is not None:\n",
    "    ensemble_predictions_dict[\"UW_Ensemble_aud_hub\"] = y_pred_uw\n",
    "    ensemble_analyzer.evaluate_ensemble(y_pred_uw, strategy_name=\"Uncertainty Weighted (UW)\")"
   ]
  },
  {
   "cell_type": "code",
   "execution_count": 28,
   "id": "1d0968c8",
   "metadata": {
    "execution": {
     "iopub.execute_input": "2025-05-10T03:00:32.285420Z",
     "iopub.status.busy": "2025-05-10T03:00:32.285164Z",
     "iopub.status.idle": "2025-05-10T03:00:32.323908Z",
     "shell.execute_reply": "2025-05-10T03:00:32.323166Z"
    },
    "papermill": {
     "duration": 0.086377,
     "end_time": "2025-05-10T03:00:32.324896",
     "exception": false,
     "start_time": "2025-05-10T03:00:32.238519",
     "status": "completed"
    },
    "tags": []
   },
   "outputs": [
    {
     "name": "stdout",
     "output_type": "stream",
     "text": [
      "\n",
      "# Đánh giá chiến lược Confidence Weighted (CW)\n",
      "Đang thực hiện chiến lược Ensemble: Confidence Weighted (CW)\n",
      "\n",
      "--- Báo cáo Đánh giá cho Confidence Weighted (CW) Ensemble ---\n",
      "               precision    recall  f1-score   support\n",
      "\n",
      "        Anger       0.39      0.99      0.56       366\n",
      "    Happiness       0.00      0.00      0.00       122\n",
      "      Sadness       0.05      0.01      0.01       348\n",
      "Neutral state       0.02      0.00      0.01       201\n",
      "\n",
      "     accuracy                           0.35      1037\n",
      "    macro avg       0.11      0.25      0.15      1037\n",
      " weighted avg       0.16      0.35      0.20      1037\n",
      "\n",
      "Balanced Accuracy (Unweighted): 0.2500\n",
      "Accuracy (Weighted): 0.3520\n",
      "\n",
      "Ma trận nhầm lẫn:\n",
      "[[361   0   5   0]\n",
      " [111   0   3   8]\n",
      " [145   0   1  55]\n",
      " [307   0  38   3]]\n",
      "----------------------------------------------------\n"
     ]
    }
   ],
   "source": [
    "print(\"\\n# Đánh giá chiến lược Confidence Weighted (CW)\")\n",
    "y_pred_cw = ensemble_analyzer.predict_cw()\n",
    "if y_pred_cw is not None:\n",
    "    ensemble_predictions_dict[\"CW_Ensemble_aud_hub\"] = y_pred_cw\n",
    "    ensemble_analyzer.evaluate_ensemble(y_pred_cw, strategy_name=\"Confidence Weighted (CW)\")"
   ]
  },
  {
   "cell_type": "code",
   "execution_count": 29,
   "id": "887520f8",
   "metadata": {
    "execution": {
     "iopub.execute_input": "2025-05-10T03:00:32.418662Z",
     "iopub.status.busy": "2025-05-10T03:00:32.418455Z",
     "iopub.status.idle": "2025-05-10T03:00:32.457017Z",
     "shell.execute_reply": "2025-05-10T03:00:32.456085Z"
    },
    "papermill": {
     "duration": 0.086863,
     "end_time": "2025-05-10T03:00:32.458213",
     "exception": false,
     "start_time": "2025-05-10T03:00:32.371350",
     "status": "completed"
    },
    "tags": []
   },
   "outputs": [
    {
     "name": "stdout",
     "output_type": "stream",
     "text": [
      "\n",
      "# Đánh giá chiến lược Mean Probability Voting\n",
      "Đang thực hiện chiến lược Ensemble: Mean Probability Voting\n",
      "\n",
      "--- Báo cáo Đánh giá cho Mean Probability Voting Ensemble ---\n",
      "               precision    recall  f1-score   support\n",
      "\n",
      "        Anger       0.70      0.78      0.74       366\n",
      "    Happiness       0.67      0.08      0.15       122\n",
      "      Sadness       0.14      0.09      0.11       348\n",
      "Neutral state       0.07      0.13      0.09       201\n",
      "\n",
      "     accuracy                           0.34      1037\n",
      "    macro avg       0.40      0.27      0.27      1037\n",
      " weighted avg       0.39      0.34      0.33      1037\n",
      "\n",
      "Balanced Accuracy (Unweighted): 0.2738\n",
      "Accuracy (Weighted): 0.3443\n",
      "\n",
      "Ma trận nhầm lẫn:\n",
      "[[287   0  64  15]\n",
      " [ 32  10  54  26]\n",
      " [ 18   2  27 154]\n",
      " [ 73   3 239  33]]\n",
      "----------------------------------------------------\n"
     ]
    }
   ],
   "source": [
    "print(\"\\n# Đánh giá chiến lược Mean Probability Voting\")\n",
    "y_pred_mean_proba = ensemble_analyzer.predict_mean_proba_voting()\n",
    "if y_pred_mean_proba is not None:\n",
    "    ensemble_predictions_dict[\"MeanProba_Ensemble_aud_hub\"] = y_pred_mean_proba\n",
    "    ensemble_analyzer.evaluate_ensemble(y_pred_mean_proba, strategy_name=\"Mean Probability Voting\")"
   ]
  },
  {
   "cell_type": "code",
   "execution_count": 30,
   "id": "e654d186",
   "metadata": {
    "execution": {
     "iopub.execute_input": "2025-05-10T03:00:32.551857Z",
     "iopub.status.busy": "2025-05-10T03:00:32.551359Z",
     "iopub.status.idle": "2025-05-10T03:00:32.590191Z",
     "shell.execute_reply": "2025-05-10T03:00:32.589414Z"
    },
    "papermill": {
     "duration": 0.0865,
     "end_time": "2025-05-10T03:00:32.591207",
     "exception": false,
     "start_time": "2025-05-10T03:00:32.504707",
     "status": "completed"
    },
    "tags": []
   },
   "outputs": [
    {
     "name": "stdout",
     "output_type": "stream",
     "text": [
      "\n",
      "# Đánh giá chiến lược Max Probability Voting\n",
      "Đang thực hiện chiến lược Ensemble: Max Probability Voting\n",
      "\n",
      "--- Báo cáo Đánh giá cho Max Probability Voting Ensemble ---\n",
      "               precision    recall  f1-score   support\n",
      "\n",
      "        Anger       0.70      0.78      0.74       366\n",
      "    Happiness       0.53      0.07      0.13       122\n",
      "      Sadness       0.15      0.10      0.12       348\n",
      "Neutral state       0.07      0.13      0.09       201\n",
      "\n",
      "     accuracy                           0.34      1037\n",
      "    macro avg       0.36      0.27      0.27      1037\n",
      " weighted avg       0.37      0.34      0.33      1037\n",
      "\n",
      "Balanced Accuracy (Unweighted): 0.2720\n",
      "Accuracy (Weighted): 0.3443\n",
      "\n",
      "Ma trận nhầm lẫn:\n",
      "[[287   0  61  18]\n",
      " [ 34   9  53  26]\n",
      " [ 15   5  26 155]\n",
      " [ 74   3 236  35]]\n",
      "----------------------------------------------------\n"
     ]
    }
   ],
   "source": [
    "print(\"\\n# Đánh giá chiến lược Max Probability Voting\")\n",
    "y_pred_max_proba = ensemble_analyzer.predict_max_proba_voting()\n",
    "if y_pred_max_proba is not None:\n",
    "    ensemble_predictions_dict[\"MaxProba_Ensemble_aud_hub\"] = y_pred_max_proba\n",
    "    ensemble_analyzer.evaluate_ensemble(y_pred_max_proba, strategy_name=\"Max Probability Voting\")"
   ]
  },
  {
   "cell_type": "markdown",
   "id": "ae66adfc",
   "metadata": {
    "papermill": {
     "duration": 0.045946,
     "end_time": "2025-05-10T03:00:32.684351",
     "exception": false,
     "start_time": "2025-05-10T03:00:32.638405",
     "status": "completed"
    },
    "tags": []
   },
   "source": [
    "#### Hubert + Wavlm"
   ]
  },
  {
   "cell_type": "code",
   "execution_count": 31,
   "id": "2ada7f5a",
   "metadata": {
    "execution": {
     "iopub.execute_input": "2025-05-10T03:00:32.779543Z",
     "iopub.status.busy": "2025-05-10T03:00:32.778936Z",
     "iopub.status.idle": "2025-05-10T03:00:32.783339Z",
     "shell.execute_reply": "2025-05-10T03:00:32.782763Z"
    },
    "papermill": {
     "duration": 0.053696,
     "end_time": "2025-05-10T03:00:32.784418",
     "exception": false,
     "start_time": "2025-05-10T03:00:32.730722",
     "status": "completed"
    },
    "tags": []
   },
   "outputs": [
    {
     "name": "stdout",
     "output_type": "stream",
     "text": [
      "\n",
      "--- Thực hiện và đánh giá Ensemble hubert + wavlm ---\n",
      "Đã khởi tạo EnsembleModel với 2 mô hình cơ sở.\n",
      "  Có 2 mô hình cung cấp dữ liệu xác suất.\n",
      "  Có 2 mô hình cung cấp dữ liệu độ bất định.\n"
     ]
    }
   ],
   "source": [
    "# --- Thực hiện Ensemble ---\n",
    "print(\"\\n--- Thực hiện và đánh giá Ensemble hubert + wavlm ---\")\n",
    "# Truyền danh sách các mô hình đơn lẻ ĐÃ CHẠY pipeline, tên lớp và nhãn thật của tập test\n",
    "ensemble_analyzer = EnsembleModel(\n",
    "    models=list_of_hub_wav,\n",
    "    class_names=CLASS_NAMES,\n",
    "    y_true=y_test # y_test chính là nhãn thật của tập kiểm tra\n",
    ")"
   ]
  },
  {
   "cell_type": "code",
   "execution_count": 32,
   "id": "09c44679",
   "metadata": {
    "execution": {
     "iopub.execute_input": "2025-05-10T03:00:32.879195Z",
     "iopub.status.busy": "2025-05-10T03:00:32.878543Z",
     "iopub.status.idle": "2025-05-10T03:00:32.919791Z",
     "shell.execute_reply": "2025-05-10T03:00:32.919015Z"
    },
    "papermill": {
     "duration": 0.09009,
     "end_time": "2025-05-10T03:00:32.920906",
     "exception": false,
     "start_time": "2025-05-10T03:00:32.830816",
     "status": "completed"
    },
    "tags": []
   },
   "outputs": [
    {
     "name": "stdout",
     "output_type": "stream",
     "text": [
      "\n",
      "# Đánh giá chiến lược Uncertainty Lowest (UL)\n",
      "Đang thực hiện chiến lược Ensemble: Uncertainty Lowest (UL)\n",
      "\n",
      "--- Báo cáo Đánh giá cho Uncertainty Lowest (UL) Ensemble ---\n",
      "               precision    recall  f1-score   support\n",
      "\n",
      "        Anger       0.76      0.79      0.78       366\n",
      "    Happiness       0.51      0.32      0.39       122\n",
      "      Sadness       0.68      0.65      0.66       348\n",
      "Neutral state       0.65      0.80      0.72       201\n",
      "\n",
      "     accuracy                           0.69      1037\n",
      "    macro avg       0.65      0.64      0.64      1037\n",
      " weighted avg       0.68      0.69      0.68      1037\n",
      "\n",
      "Balanced Accuracy (Unweighted): 0.6406\n",
      "Accuracy (Weighted): 0.6905\n",
      "\n",
      "Ma trận nhầm lẫn:\n",
      "[[289   5  20  52]\n",
      " [ 17  39  26  40]\n",
      " [ 13  10 161  17]\n",
      " [ 60  22  39 227]]\n",
      "----------------------------------------------------\n"
     ]
    }
   ],
   "source": [
    "print(\"\\n# Đánh giá chiến lược Uncertainty Lowest (UL)\")\n",
    "y_pred_ul = ensemble_analyzer.predict_ul()\n",
    "if y_pred_ul is not None:\n",
    "    ensemble_predictions_dict[\"UL_Ensemble_hub_wav\"] = y_pred_ul\n",
    "    ensemble_analyzer.evaluate_ensemble(y_pred_ul, strategy_name=\"Uncertainty Lowest (UL)\")"
   ]
  },
  {
   "cell_type": "code",
   "execution_count": 33,
   "id": "6c8ed4c3",
   "metadata": {
    "execution": {
     "iopub.execute_input": "2025-05-10T03:00:33.017782Z",
     "iopub.status.busy": "2025-05-10T03:00:33.017584Z",
     "iopub.status.idle": "2025-05-10T03:00:33.057988Z",
     "shell.execute_reply": "2025-05-10T03:00:33.057179Z"
    },
    "papermill": {
     "duration": 0.090485,
     "end_time": "2025-05-10T03:00:33.059260",
     "exception": false,
     "start_time": "2025-05-10T03:00:32.968775",
     "status": "completed"
    },
    "tags": []
   },
   "outputs": [
    {
     "name": "stdout",
     "output_type": "stream",
     "text": [
      "\n",
      "# Đánh giá chiến lược Uncertainty Threshold (UT)\n",
      "Đang thực hiện chiến lược Ensemble: Uncertainty Threshold (UT) với ngưỡng = 0.9\n",
      "\n",
      "--- Báo cáo Đánh giá cho Uncertainty Threshold (UT, threshold=0.9) Ensemble ---\n",
      "               precision    recall  f1-score   support\n",
      "\n",
      "        Anger       0.75      0.80      0.77       366\n",
      "    Happiness       0.62      0.21      0.32       122\n",
      "      Sadness       0.45      0.29      0.35       348\n",
      "Neutral state       0.27      0.52      0.36       201\n",
      "\n",
      "     accuracy                           0.50      1037\n",
      "    macro avg       0.52      0.46      0.45      1037\n",
      " weighted avg       0.54      0.50      0.50      1037\n",
      "\n",
      "Balanced Accuracy (Unweighted): 0.4552\n",
      "Accuracy (Weighted): 0.5043\n",
      "\n",
      "Ma trận nhầm lẫn:\n",
      "[[292   3  51  20]\n",
      " [ 20  26  53  23]\n",
      " [ 14   5 105  77]\n",
      " [ 65   8 175 100]]\n",
      "----------------------------------------------------\n"
     ]
    }
   ],
   "source": [
    "print(\"\\n# Đánh giá chiến lược Uncertainty Threshold (UT)\")\n",
    "# Cần xác định một ngưỡng cho UT. Đây là một siêu tham số có thể cần tinh chỉnh.\n",
    "UT_THRESHOLD = 0.9\n",
    "y_pred_ut = ensemble_analyzer.predict_ut(threshold=UT_THRESHOLD)\n",
    "if y_pred_ut is not None:\n",
    "    ensemble_predictions_dict[f\"UT_Ensemble_hub_wav_T{UT_THRESHOLD}\"] = y_pred_ut\n",
    "    ensemble_analyzer.evaluate_ensemble(y_pred_ut, strategy_name=f\"Uncertainty Threshold (UT, threshold={UT_THRESHOLD})\")"
   ]
  },
  {
   "cell_type": "code",
   "execution_count": 34,
   "id": "d94d967a",
   "metadata": {
    "execution": {
     "iopub.execute_input": "2025-05-10T03:00:33.156778Z",
     "iopub.status.busy": "2025-05-10T03:00:33.156479Z",
     "iopub.status.idle": "2025-05-10T03:00:33.195631Z",
     "shell.execute_reply": "2025-05-10T03:00:33.194694Z"
    },
    "papermill": {
     "duration": 0.088401,
     "end_time": "2025-05-10T03:00:33.196966",
     "exception": false,
     "start_time": "2025-05-10T03:00:33.108565",
     "status": "completed"
    },
    "tags": []
   },
   "outputs": [
    {
     "name": "stdout",
     "output_type": "stream",
     "text": [
      "\n",
      "# Đánh giá chiến lược Uncertainty Weighted (UW)\n",
      "Đang thực hiện chiến lược Ensemble: Uncertainty Weighted (UW)\n",
      "\n",
      "--- Báo cáo Đánh giá cho Uncertainty Weighted (UW) Ensemble ---\n",
      "               precision    recall  f1-score   support\n",
      "\n",
      "        Anger       0.75      0.80      0.77       366\n",
      "    Happiness       0.60      0.21      0.32       122\n",
      "      Sadness       0.13      0.08      0.10       348\n",
      "Neutral state       0.08      0.14      0.10       201\n",
      "\n",
      "     accuracy                           0.36      1037\n",
      "    macro avg       0.39      0.31      0.32      1037\n",
      " weighted avg       0.39      0.36      0.36      1037\n",
      "\n",
      "Balanced Accuracy (Unweighted): 0.3090\n",
      "Accuracy (Weighted): 0.3616\n",
      "\n",
      "Ma trận nhầm lẫn:\n",
      "[[291   3  57  15]\n",
      " [ 20  26  49  27]\n",
      " [ 14   5  29 153]\n",
      " [ 65   9 245  29]]\n",
      "----------------------------------------------------\n"
     ]
    }
   ],
   "source": [
    "print(\"\\n# Đánh giá chiến lược Uncertainty Weighted (UW)\")\n",
    "y_pred_uw = ensemble_analyzer.predict_uw()\n",
    "if y_pred_uw is not None:\n",
    "    ensemble_predictions_dict[\"UW_Ensemble_hub_wav\"] = y_pred_uw\n",
    "    ensemble_analyzer.evaluate_ensemble(y_pred_uw, strategy_name=\"Uncertainty Weighted (UW)\")"
   ]
  },
  {
   "cell_type": "code",
   "execution_count": 35,
   "id": "ebbf3750",
   "metadata": {
    "execution": {
     "iopub.execute_input": "2025-05-10T03:00:33.292464Z",
     "iopub.status.busy": "2025-05-10T03:00:33.292282Z",
     "iopub.status.idle": "2025-05-10T03:00:33.331155Z",
     "shell.execute_reply": "2025-05-10T03:00:33.330236Z"
    },
    "papermill": {
     "duration": 0.088013,
     "end_time": "2025-05-10T03:00:33.332354",
     "exception": false,
     "start_time": "2025-05-10T03:00:33.244341",
     "status": "completed"
    },
    "tags": []
   },
   "outputs": [
    {
     "name": "stdout",
     "output_type": "stream",
     "text": [
      "\n",
      "# Đánh giá chiến lược Confidence Weighted (CW)\n",
      "Đang thực hiện chiến lược Ensemble: Confidence Weighted (CW)\n",
      "\n",
      "--- Báo cáo Đánh giá cho Confidence Weighted (CW) Ensemble ---\n",
      "               precision    recall  f1-score   support\n",
      "\n",
      "        Anger       0.43      0.98      0.60       366\n",
      "    Happiness       0.86      0.05      0.09       122\n",
      "      Sadness       0.05      0.01      0.02       348\n",
      "Neutral state       0.01      0.00      0.01       201\n",
      "\n",
      "     accuracy                           0.36      1037\n",
      "    macro avg       0.34      0.26      0.18      1037\n",
      " weighted avg       0.27      0.36      0.23      1037\n",
      "\n",
      "Balanced Accuracy (Unweighted): 0.2610\n",
      "Accuracy (Weighted): 0.3558\n",
      "\n",
      "Ma trận nhầm lẫn:\n",
      "[[357   0   9   0]\n",
      " [101   6   6   9]\n",
      " [114   0   1  86]\n",
      " [250   1  92   5]]\n",
      "----------------------------------------------------\n"
     ]
    }
   ],
   "source": [
    "print(\"\\n# Đánh giá chiến lược Confidence Weighted (CW)\")\n",
    "y_pred_cw = ensemble_analyzer.predict_cw()\n",
    "if y_pred_cw is not None:\n",
    "    ensemble_predictions_dict[\"CW_Ensemble_hub_wav\"] = y_pred_cw\n",
    "    ensemble_analyzer.evaluate_ensemble(y_pred_cw, strategy_name=\"Confidence Weighted (CW)\")"
   ]
  },
  {
   "cell_type": "code",
   "execution_count": 36,
   "id": "4af39d3d",
   "metadata": {
    "execution": {
     "iopub.execute_input": "2025-05-10T03:00:33.431031Z",
     "iopub.status.busy": "2025-05-10T03:00:33.430854Z",
     "iopub.status.idle": "2025-05-10T03:00:33.469412Z",
     "shell.execute_reply": "2025-05-10T03:00:33.468640Z"
    },
    "papermill": {
     "duration": 0.088343,
     "end_time": "2025-05-10T03:00:33.470478",
     "exception": false,
     "start_time": "2025-05-10T03:00:33.382135",
     "status": "completed"
    },
    "tags": []
   },
   "outputs": [
    {
     "name": "stdout",
     "output_type": "stream",
     "text": [
      "\n",
      "# Đánh giá chiến lược Mean Probability Voting\n",
      "Đang thực hiện chiến lược Ensemble: Mean Probability Voting\n",
      "\n",
      "--- Báo cáo Đánh giá cho Mean Probability Voting Ensemble ---\n",
      "               precision    recall  f1-score   support\n",
      "\n",
      "        Anger       0.75      0.80      0.77       366\n",
      "    Happiness       0.62      0.21      0.32       122\n",
      "      Sadness       0.13      0.08      0.10       348\n",
      "Neutral state       0.08      0.14      0.10       201\n",
      "\n",
      "     accuracy                           0.36      1037\n",
      "    macro avg       0.39      0.31      0.32      1037\n",
      " weighted avg       0.39      0.36      0.36      1037\n",
      "\n",
      "Balanced Accuracy (Unweighted): 0.3096\n",
      "Accuracy (Weighted): 0.3626\n",
      "\n",
      "Ma trận nhầm lẫn:\n",
      "[[292   3  56  15]\n",
      " [ 20  26  49  27]\n",
      " [ 14   5  29 153]\n",
      " [ 65   8 246  29]]\n",
      "----------------------------------------------------\n"
     ]
    }
   ],
   "source": [
    "print(\"\\n# Đánh giá chiến lược Mean Probability Voting\")\n",
    "y_pred_mean_proba = ensemble_analyzer.predict_mean_proba_voting()\n",
    "if y_pred_mean_proba is not None:\n",
    "    ensemble_predictions_dict[\"MeanProba_Ensemble_hub_wav\"] = y_pred_mean_proba\n",
    "    ensemble_analyzer.evaluate_ensemble(y_pred_mean_proba, strategy_name=\"Mean Probability Voting\")"
   ]
  },
  {
   "cell_type": "code",
   "execution_count": 37,
   "id": "b8c3b783",
   "metadata": {
    "execution": {
     "iopub.execute_input": "2025-05-10T03:00:33.565571Z",
     "iopub.status.busy": "2025-05-10T03:00:33.565086Z",
     "iopub.status.idle": "2025-05-10T03:00:33.603784Z",
     "shell.execute_reply": "2025-05-10T03:00:33.603084Z"
    },
    "papermill": {
     "duration": 0.086895,
     "end_time": "2025-05-10T03:00:33.604721",
     "exception": false,
     "start_time": "2025-05-10T03:00:33.517826",
     "status": "completed"
    },
    "tags": []
   },
   "outputs": [
    {
     "name": "stdout",
     "output_type": "stream",
     "text": [
      "\n",
      "# Đánh giá chiến lược Max Probability Voting\n",
      "Đang thực hiện chiến lược Ensemble: Max Probability Voting\n",
      "\n",
      "--- Báo cáo Đánh giá cho Max Probability Voting Ensemble ---\n",
      "               precision    recall  f1-score   support\n",
      "\n",
      "        Anger       0.75      0.80      0.77       366\n",
      "    Happiness       0.52      0.20      0.29       122\n",
      "      Sadness       0.14      0.09      0.11       348\n",
      "Neutral state       0.08      0.15      0.10       201\n",
      "\n",
      "     accuracy                           0.36      1037\n",
      "    macro avg       0.37      0.31      0.32      1037\n",
      " weighted avg       0.39      0.36      0.36      1037\n",
      "\n",
      "Balanced Accuracy (Unweighted): 0.3103\n",
      "Accuracy (Weighted): 0.3645\n",
      "\n",
      "Ma trận nhầm lẫn:\n",
      "[[292   3  57  14]\n",
      " [ 19  25  51  27]\n",
      " [ 12   8  30 151]\n",
      " [ 66  12 239  31]]\n",
      "----------------------------------------------------\n"
     ]
    }
   ],
   "source": [
    "print(\"\\n# Đánh giá chiến lược Max Probability Voting\")\n",
    "y_pred_max_proba = ensemble_analyzer.predict_max_proba_voting()\n",
    "if y_pred_max_proba is not None:\n",
    "    ensemble_predictions_dict[\"MaxProba_Ensemble_hub_wav\"] = y_pred_max_proba\n",
    "    ensemble_analyzer.evaluate_ensemble(y_pred_max_proba, strategy_name=\"Max Probability Voting\")"
   ]
  },
  {
   "cell_type": "markdown",
   "id": "9132b10f",
   "metadata": {
    "papermill": {
     "duration": 0.047666,
     "end_time": "2025-05-10T03:00:33.700989",
     "exception": false,
     "start_time": "2025-05-10T03:00:33.653323",
     "status": "completed"
    },
    "tags": []
   },
   "source": [
    "#### Audmodel + Hubert + Wavlm"
   ]
  },
  {
   "cell_type": "code",
   "execution_count": 38,
   "id": "c19af508",
   "metadata": {
    "execution": {
     "iopub.execute_input": "2025-05-10T03:00:33.799587Z",
     "iopub.status.busy": "2025-05-10T03:00:33.798914Z",
     "iopub.status.idle": "2025-05-10T03:00:33.803911Z",
     "shell.execute_reply": "2025-05-10T03:00:33.803047Z"
    },
    "papermill": {
     "duration": 0.05578,
     "end_time": "2025-05-10T03:00:33.805020",
     "exception": false,
     "start_time": "2025-05-10T03:00:33.749240",
     "status": "completed"
    },
    "tags": []
   },
   "outputs": [
    {
     "name": "stdout",
     "output_type": "stream",
     "text": [
      "\n",
      "--- Thực hiện và đánh giá Ensemble audmodel + hubert + wavlm ---\n",
      "Đã khởi tạo EnsembleModel với 3 mô hình cơ sở.\n",
      "  Có 3 mô hình cung cấp dữ liệu xác suất.\n",
      "  Có 3 mô hình cung cấp dữ liệu độ bất định.\n"
     ]
    }
   ],
   "source": [
    "# --- Thực hiện Ensemble ---\n",
    "print(\"\\n--- Thực hiện và đánh giá Ensemble audmodel + hubert + wavlm ---\")\n",
    "# Truyền danh sách các mô hình đơn lẻ ĐÃ CHẠY pipeline, tên lớp và nhãn thật của tập test\n",
    "ensemble_analyzer = EnsembleModel(\n",
    "    models=list_of_aud_hub_wav,\n",
    "    class_names=CLASS_NAMES,\n",
    "    y_true=y_test # y_test chính là nhãn thật của tập kiểm tra\n",
    ")"
   ]
  },
  {
   "cell_type": "code",
   "execution_count": 39,
   "id": "ef69b6a2",
   "metadata": {
    "execution": {
     "iopub.execute_input": "2025-05-10T03:00:33.903940Z",
     "iopub.status.busy": "2025-05-10T03:00:33.903724Z",
     "iopub.status.idle": "2025-05-10T03:00:33.943060Z",
     "shell.execute_reply": "2025-05-10T03:00:33.942253Z"
    },
    "papermill": {
     "duration": 0.090273,
     "end_time": "2025-05-10T03:00:33.944074",
     "exception": false,
     "start_time": "2025-05-10T03:00:33.853801",
     "status": "completed"
    },
    "tags": []
   },
   "outputs": [
    {
     "name": "stdout",
     "output_type": "stream",
     "text": [
      "\n",
      "# Đánh giá chiến lược Uncertainty Lowest (UL)\n",
      "Đang thực hiện chiến lược Ensemble: Uncertainty Lowest (UL)\n",
      "\n",
      "--- Báo cáo Đánh giá cho Uncertainty Lowest (UL) Ensemble ---\n",
      "               precision    recall  f1-score   support\n",
      "\n",
      "        Anger       0.73      0.80      0.76       366\n",
      "    Happiness       0.57      0.30      0.39       122\n",
      "      Sadness       0.68      0.64      0.66       348\n",
      "Neutral state       0.64      0.79      0.71       201\n",
      "\n",
      "     accuracy                           0.68      1037\n",
      "    macro avg       0.66      0.63      0.63      1037\n",
      " weighted avg       0.68      0.68      0.67      1037\n",
      "\n",
      "Balanced Accuracy (Unweighted): 0.6305\n",
      "Accuracy (Weighted): 0.6837\n",
      "\n",
      "Ma trận nhầm lẫn:\n",
      "[[292   2  22  50]\n",
      " [ 25  36  27  34]\n",
      " [ 15   7 159  20]\n",
      " [ 68  18  40 222]]\n",
      "----------------------------------------------------\n"
     ]
    }
   ],
   "source": [
    "print(\"\\n# Đánh giá chiến lược Uncertainty Lowest (UL)\")\n",
    "y_pred_ul = ensemble_analyzer.predict_ul()\n",
    "if y_pred_ul is not None:\n",
    "    ensemble_predictions_dict[\"UL_Ensemble_aud_hub_wav\"] = y_pred_ul\n",
    "    ensemble_analyzer.evaluate_ensemble(y_pred_ul, strategy_name=\"Uncertainty Lowest (UL)\")"
   ]
  },
  {
   "cell_type": "code",
   "execution_count": 40,
   "id": "2e5d9f1a",
   "metadata": {
    "execution": {
     "iopub.execute_input": "2025-05-10T03:00:34.040017Z",
     "iopub.status.busy": "2025-05-10T03:00:34.039783Z",
     "iopub.status.idle": "2025-05-10T03:00:34.080152Z",
     "shell.execute_reply": "2025-05-10T03:00:34.079262Z"
    },
    "papermill": {
     "duration": 0.089714,
     "end_time": "2025-05-10T03:00:34.081234",
     "exception": false,
     "start_time": "2025-05-10T03:00:33.991520",
     "status": "completed"
    },
    "tags": []
   },
   "outputs": [
    {
     "name": "stdout",
     "output_type": "stream",
     "text": [
      "\n",
      "# Đánh giá chiến lược Uncertainty Threshold (UT)\n",
      "Đang thực hiện chiến lược Ensemble: Uncertainty Threshold (UT) với ngưỡng = 0.9\n",
      "\n",
      "--- Báo cáo Đánh giá cho Uncertainty Threshold (UT, threshold=0.9) Ensemble ---\n",
      "               precision    recall  f1-score   support\n",
      "\n",
      "        Anger       0.73      0.81      0.77       366\n",
      "    Happiness       0.70      0.17      0.28       122\n",
      "      Sadness       0.47      0.30      0.37       348\n",
      "Neutral state       0.27      0.52      0.36       201\n",
      "\n",
      "     accuracy                           0.51      1037\n",
      "    macro avg       0.54      0.45      0.44      1037\n",
      " weighted avg       0.55      0.51      0.50      1037\n",
      "\n",
      "Balanced Accuracy (Unweighted): 0.4500\n",
      "Accuracy (Weighted): 0.5072\n",
      "\n",
      "Ma trận nhầm lẫn:\n",
      "[[296   1  49  20]\n",
      " [ 25  21  55  21]\n",
      " [ 16   2 104  79]\n",
      " [ 66   6 171 105]]\n",
      "----------------------------------------------------\n"
     ]
    }
   ],
   "source": [
    "print(\"\\n# Đánh giá chiến lược Uncertainty Threshold (UT)\")\n",
    "# Cần xác định một ngưỡng cho UT. Đây là một siêu tham số có thể cần tinh chỉnh.\n",
    "UT_THRESHOLD = 0.9\n",
    "y_pred_ut = ensemble_analyzer.predict_ut(threshold=UT_THRESHOLD)\n",
    "if y_pred_ut is not None:\n",
    "    ensemble_predictions_dict[f\"UT_Ensemble_aud_hub_wav_T{UT_THRESHOLD}\"] = y_pred_ut\n",
    "    ensemble_analyzer.evaluate_ensemble(y_pred_ut, strategy_name=f\"Uncertainty Threshold (UT, threshold={UT_THRESHOLD})\")"
   ]
  },
  {
   "cell_type": "code",
   "execution_count": 41,
   "id": "c00e153e",
   "metadata": {
    "execution": {
     "iopub.execute_input": "2025-05-10T03:00:34.179418Z",
     "iopub.status.busy": "2025-05-10T03:00:34.179200Z",
     "iopub.status.idle": "2025-05-10T03:00:34.217825Z",
     "shell.execute_reply": "2025-05-10T03:00:34.216993Z"
    },
    "papermill": {
     "duration": 0.089707,
     "end_time": "2025-05-10T03:00:34.218917",
     "exception": false,
     "start_time": "2025-05-10T03:00:34.129210",
     "status": "completed"
    },
    "tags": []
   },
   "outputs": [
    {
     "name": "stdout",
     "output_type": "stream",
     "text": [
      "\n",
      "# Đánh giá chiến lược Uncertainty Weighted (UW)\n",
      "Đang thực hiện chiến lược Ensemble: Uncertainty Weighted (UW)\n",
      "\n",
      "--- Báo cáo Đánh giá cho Uncertainty Weighted (UW) Ensemble ---\n",
      "               precision    recall  f1-score   support\n",
      "\n",
      "        Anger       0.74      0.81      0.77       366\n",
      "    Happiness       0.67      0.16      0.26       122\n",
      "      Sadness       0.15      0.10      0.12       348\n",
      "Neutral state       0.07      0.13      0.09       201\n",
      "\n",
      "     accuracy                           0.36      1037\n",
      "    macro avg       0.41      0.30      0.31      1037\n",
      " weighted avg       0.40      0.36      0.36      1037\n",
      "\n",
      "Balanced Accuracy (Unweighted): 0.3019\n",
      "Accuracy (Weighted): 0.3645\n",
      "\n",
      "Ma trận nhầm lẫn:\n",
      "[[297   1  52  16]\n",
      " [ 25  20  52  25]\n",
      " [ 15   2  27 157]\n",
      " [ 65   7 242  34]]\n",
      "----------------------------------------------------\n"
     ]
    }
   ],
   "source": [
    "print(\"\\n# Đánh giá chiến lược Uncertainty Weighted (UW)\")\n",
    "y_pred_uw = ensemble_analyzer.predict_uw()\n",
    "if y_pred_uw is not None:\n",
    "    ensemble_predictions_dict[\"UW_Ensemble_aud_hub_wav\"] = y_pred_uw\n",
    "    ensemble_analyzer.evaluate_ensemble(y_pred_uw, strategy_name=\"Uncertainty Weighted (UW)\")"
   ]
  },
  {
   "cell_type": "code",
   "execution_count": 42,
   "id": "834759e5",
   "metadata": {
    "execution": {
     "iopub.execute_input": "2025-05-10T03:00:34.314832Z",
     "iopub.status.busy": "2025-05-10T03:00:34.314411Z",
     "iopub.status.idle": "2025-05-10T03:00:34.352619Z",
     "shell.execute_reply": "2025-05-10T03:00:34.351807Z"
    },
    "papermill": {
     "duration": 0.087111,
     "end_time": "2025-05-10T03:00:34.353743",
     "exception": false,
     "start_time": "2025-05-10T03:00:34.266632",
     "status": "completed"
    },
    "tags": []
   },
   "outputs": [
    {
     "name": "stdout",
     "output_type": "stream",
     "text": [
      "\n",
      "# Đánh giá chiến lược Confidence Weighted (CW)\n",
      "Đang thực hiện chiến lược Ensemble: Confidence Weighted (CW)\n",
      "\n",
      "--- Báo cáo Đánh giá cho Confidence Weighted (CW) Ensemble ---\n",
      "               precision    recall  f1-score   support\n",
      "\n",
      "        Anger       0.44      0.98      0.60       366\n",
      "    Happiness       0.86      0.05      0.09       122\n",
      "      Sadness       0.05      0.01      0.02       348\n",
      "Neutral state       0.01      0.00      0.01       201\n",
      "\n",
      "     accuracy                           0.36      1037\n",
      "    macro avg       0.34      0.26      0.18      1037\n",
      " weighted avg       0.27      0.36      0.23      1037\n",
      "\n",
      "Balanced Accuracy (Unweighted): 0.2610\n",
      "Accuracy (Weighted): 0.3558\n",
      "\n",
      "Ma trận nhầm lẫn:\n",
      "[[357   0   9   0]\n",
      " [100   6   6  10]\n",
      " [112   0   1  88]\n",
      " [250   1  92   5]]\n",
      "----------------------------------------------------\n"
     ]
    }
   ],
   "source": [
    "print(\"\\n# Đánh giá chiến lược Confidence Weighted (CW)\")\n",
    "y_pred_cw = ensemble_analyzer.predict_cw()\n",
    "if y_pred_cw is not None:\n",
    "    ensemble_predictions_dict[\"CW_Ensemble_aud_hub_wav\"] = y_pred_cw\n",
    "    ensemble_analyzer.evaluate_ensemble(y_pred_cw, strategy_name=\"Confidence Weighted (CW)\")"
   ]
  },
  {
   "cell_type": "code",
   "execution_count": 43,
   "id": "451323e1",
   "metadata": {
    "execution": {
     "iopub.execute_input": "2025-05-10T03:00:34.449561Z",
     "iopub.status.busy": "2025-05-10T03:00:34.449142Z",
     "iopub.status.idle": "2025-05-10T03:00:34.487326Z",
     "shell.execute_reply": "2025-05-10T03:00:34.486447Z"
    },
    "papermill": {
     "duration": 0.087056,
     "end_time": "2025-05-10T03:00:34.488384",
     "exception": false,
     "start_time": "2025-05-10T03:00:34.401328",
     "status": "completed"
    },
    "tags": []
   },
   "outputs": [
    {
     "name": "stdout",
     "output_type": "stream",
     "text": [
      "\n",
      "# Đánh giá chiến lược Mean Probability Voting\n",
      "Đang thực hiện chiến lược Ensemble: Mean Probability Voting\n",
      "\n",
      "--- Báo cáo Đánh giá cho Mean Probability Voting Ensemble ---\n",
      "               precision    recall  f1-score   support\n",
      "\n",
      "        Anger       0.73      0.81      0.77       366\n",
      "    Happiness       0.70      0.17      0.28       122\n",
      "      Sadness       0.15      0.10      0.12       348\n",
      "Neutral state       0.07      0.13      0.09       201\n",
      "\n",
      "     accuracy                           0.36      1037\n",
      "    macro avg       0.41      0.30      0.31      1037\n",
      " weighted avg       0.41      0.36      0.36      1037\n",
      "\n",
      "Balanced Accuracy (Unweighted): 0.3032\n",
      "Accuracy (Weighted): 0.3645\n",
      "\n",
      "Ma trận nhầm lẫn:\n",
      "[[296   1  54  15]\n",
      " [ 25  21  51  25]\n",
      " [ 16   2  27 156]\n",
      " [ 66   6 242  34]]\n",
      "----------------------------------------------------\n"
     ]
    }
   ],
   "source": [
    "print(\"\\n# Đánh giá chiến lược Mean Probability Voting\")\n",
    "y_pred_mean_proba = ensemble_analyzer.predict_mean_proba_voting()\n",
    "if y_pred_mean_proba is not None:\n",
    "    ensemble_predictions_dict[\"MeanProba_Ensemble_aud_hub_wav\"] = y_pred_mean_proba\n",
    "    ensemble_analyzer.evaluate_ensemble(y_pred_mean_proba, strategy_name=\"Mean Probability Voting\")"
   ]
  },
  {
   "cell_type": "code",
   "execution_count": 44,
   "id": "7202ea57",
   "metadata": {
    "execution": {
     "iopub.execute_input": "2025-05-10T03:00:34.585022Z",
     "iopub.status.busy": "2025-05-10T03:00:34.584842Z",
     "iopub.status.idle": "2025-05-10T03:00:34.623740Z",
     "shell.execute_reply": "2025-05-10T03:00:34.622966Z"
    },
    "papermill": {
     "duration": 0.088479,
     "end_time": "2025-05-10T03:00:34.624817",
     "exception": false,
     "start_time": "2025-05-10T03:00:34.536338",
     "status": "completed"
    },
    "tags": []
   },
   "outputs": [
    {
     "name": "stdout",
     "output_type": "stream",
     "text": [
      "\n",
      "# Đánh giá chiến lược Max Probability Voting\n",
      "Đang thực hiện chiến lược Ensemble: Max Probability Voting\n",
      "\n",
      "--- Báo cáo Đánh giá cho Max Probability Voting Ensemble ---\n",
      "               precision    recall  f1-score   support\n",
      "\n",
      "        Anger       0.74      0.82      0.78       366\n",
      "    Happiness       0.54      0.17      0.26       122\n",
      "      Sadness       0.15      0.10      0.12       348\n",
      "Neutral state       0.08      0.13      0.10       201\n",
      "\n",
      "     accuracy                           0.37      1037\n",
      "    macro avg       0.37      0.31      0.31      1037\n",
      " weighted avg       0.39      0.37      0.36      1037\n",
      "\n",
      "Balanced Accuracy (Unweighted): 0.3060\n",
      "Accuracy (Weighted): 0.3684\n",
      "\n",
      "Ma trận nhầm lẫn:\n",
      "[[300   1  45  20]\n",
      " [ 26  21  49  26]\n",
      " [ 14   6  27 154]\n",
      " [ 68  11 235  34]]\n",
      "----------------------------------------------------\n"
     ]
    }
   ],
   "source": [
    "print(\"\\n# Đánh giá chiến lược Max Probability Voting\")\n",
    "y_pred_max_proba = ensemble_analyzer.predict_max_proba_voting()\n",
    "if y_pred_max_proba is not None:\n",
    "    ensemble_predictions_dict[\"MaxProba_Ensemble_aud_hub_wav\"] = y_pred_max_proba\n",
    "    ensemble_analyzer.evaluate_ensemble(y_pred_max_proba, strategy_name=\"Max Probability Voting\")"
   ]
  },
  {
   "cell_type": "code",
   "execution_count": 45,
   "id": "ad121c17",
   "metadata": {
    "execution": {
     "iopub.execute_input": "2025-05-10T03:00:34.722339Z",
     "iopub.status.busy": "2025-05-10T03:00:34.722145Z",
     "iopub.status.idle": "2025-05-10T03:00:34.726159Z",
     "shell.execute_reply": "2025-05-10T03:00:34.725305Z"
    },
    "papermill": {
     "duration": 0.054189,
     "end_time": "2025-05-10T03:00:34.727334",
     "exception": false,
     "start_time": "2025-05-10T03:00:34.673145",
     "status": "completed"
    },
    "tags": []
   },
   "outputs": [
    {
     "name": "stdout",
     "output_type": "stream",
     "text": [
      "\n",
      "Toàn bộ quá trình hoàn thành!\n"
     ]
    }
   ],
   "source": [
    "print(\"\\nToàn bộ quá trình hoàn thành!\")"
   ]
  },
  {
   "cell_type": "code",
   "execution_count": 46,
   "id": "a3fb449a",
   "metadata": {
    "execution": {
     "iopub.execute_input": "2025-05-10T03:00:34.824650Z",
     "iopub.status.busy": "2025-05-10T03:00:34.824454Z",
     "iopub.status.idle": "2025-05-10T03:00:34.898395Z",
     "shell.execute_reply": "2025-05-10T03:00:34.897423Z"
    },
    "papermill": {
     "duration": 0.122998,
     "end_time": "2025-05-10T03:00:34.899615",
     "exception": false,
     "start_time": "2025-05-10T03:00:34.776617",
     "status": "completed"
    },
    "tags": []
   },
   "outputs": [
    {
     "name": "stdout",
     "output_type": "stream",
     "text": [
      "\n",
      "Bước 7: Tạo báo cáo misclassification.\n",
      "MisclassificationReporter initialized. Reports will be saved in 'summary_report.csv'.\n",
      "\n",
      "--- Tạo báo cáo CSV chỉ chứa mẫu sai ---\n",
      "\n",
      "Đang tạo báo cáo misclassification (chỉ mẫu sai) cho: Wavlm SVM\n",
      "Đã lưu báo cáo misclassification (chỉ mẫu sai) cho Wavlm SVM vào 'summary_report.csv/Wavlm SVM_misclassified.csv'\n",
      "\n",
      "Đang tạo báo cáo misclassification (chỉ mẫu sai) cho: Wavlm SVM For Ensemble\n",
      "Đã lưu báo cáo misclassification (chỉ mẫu sai) cho Wavlm SVM For Ensemble vào 'summary_report.csv/Wavlm SVM For Ensemble_misclassified.csv'\n",
      "\n",
      "Đang tạo báo cáo misclassification (chỉ mẫu sai) cho: Hubert SVM\n",
      "Đã lưu báo cáo misclassification (chỉ mẫu sai) cho Hubert SVM vào 'summary_report.csv/Hubert SVM_misclassified.csv'\n",
      "\n",
      "Đang tạo báo cáo misclassification (chỉ mẫu sai) cho: Hubert SVM For Ensemble\n",
      "Đã lưu báo cáo misclassification (chỉ mẫu sai) cho Hubert SVM For Ensemble vào 'summary_report.csv/Hubert SVM For Ensemble_misclassified.csv'\n",
      "\n",
      "Đang tạo báo cáo misclassification (chỉ mẫu sai) cho: Wav2vec SVM\n",
      "Đã lưu báo cáo misclassification (chỉ mẫu sai) cho Wav2vec SVM vào 'summary_report.csv/Wav2vec SVM_misclassified.csv'\n",
      "\n",
      "Đang tạo báo cáo misclassification (chỉ mẫu sai) cho: Wav2vec SVM For Ensemble\n",
      "Đã lưu báo cáo misclassification (chỉ mẫu sai) cho Wav2vec SVM For Ensemble vào 'summary_report.csv/Wav2vec SVM For Ensemble_misclassified.csv'\n",
      "\n",
      "Đang tạo báo cáo misclassification (chỉ mẫu sai) cho: UL_Ensemble_aud_hub\n",
      "Đã lưu báo cáo misclassification (chỉ mẫu sai) cho UL_Ensemble_aud_hub vào 'summary_report.csv/UL_Ensemble_aud_hub_misclassified.csv'\n",
      "\n",
      "Đang tạo báo cáo misclassification (chỉ mẫu sai) cho: UT_Ensemble_aud_hub_T0.9\n",
      "Đã lưu báo cáo misclassification (chỉ mẫu sai) cho UT_Ensemble_aud_hub_T0.9 vào 'summary_report.csv/UT_Ensemble_aud_hub_T0.9_misclassified.csv'\n",
      "\n",
      "Đang tạo báo cáo misclassification (chỉ mẫu sai) cho: UW_Ensemble_aud_hub\n",
      "Đã lưu báo cáo misclassification (chỉ mẫu sai) cho UW_Ensemble_aud_hub vào 'summary_report.csv/UW_Ensemble_aud_hub_misclassified.csv'\n",
      "\n",
      "Đang tạo báo cáo misclassification (chỉ mẫu sai) cho: CW_Ensemble_aud_hub\n",
      "Đã lưu báo cáo misclassification (chỉ mẫu sai) cho CW_Ensemble_aud_hub vào 'summary_report.csv/CW_Ensemble_aud_hub_misclassified.csv'\n",
      "\n",
      "Đang tạo báo cáo misclassification (chỉ mẫu sai) cho: MeanProba_Ensemble_aud_hub\n",
      "Đã lưu báo cáo misclassification (chỉ mẫu sai) cho MeanProba_Ensemble_aud_hub vào 'summary_report.csv/MeanProba_Ensemble_aud_hub_misclassified.csv'\n",
      "\n",
      "Đang tạo báo cáo misclassification (chỉ mẫu sai) cho: MaxProba_Ensemble_aud_hub\n",
      "Đã lưu báo cáo misclassification (chỉ mẫu sai) cho MaxProba_Ensemble_aud_hub vào 'summary_report.csv/MaxProba_Ensemble_aud_hub_misclassified.csv'\n",
      "\n",
      "Đang tạo báo cáo misclassification (chỉ mẫu sai) cho: UL_Ensemble_hub_wav\n",
      "Đã lưu báo cáo misclassification (chỉ mẫu sai) cho UL_Ensemble_hub_wav vào 'summary_report.csv/UL_Ensemble_hub_wav_misclassified.csv'\n",
      "\n",
      "Đang tạo báo cáo misclassification (chỉ mẫu sai) cho: UT_Ensemble_hub_wav_T0.9\n",
      "Đã lưu báo cáo misclassification (chỉ mẫu sai) cho UT_Ensemble_hub_wav_T0.9 vào 'summary_report.csv/UT_Ensemble_hub_wav_T0.9_misclassified.csv'\n",
      "\n",
      "Đang tạo báo cáo misclassification (chỉ mẫu sai) cho: UW_Ensemble_hub_wav\n",
      "Đã lưu báo cáo misclassification (chỉ mẫu sai) cho UW_Ensemble_hub_wav vào 'summary_report.csv/UW_Ensemble_hub_wav_misclassified.csv'\n",
      "\n",
      "Đang tạo báo cáo misclassification (chỉ mẫu sai) cho: CW_Ensemble_hub_wav\n",
      "Đã lưu báo cáo misclassification (chỉ mẫu sai) cho CW_Ensemble_hub_wav vào 'summary_report.csv/CW_Ensemble_hub_wav_misclassified.csv'\n",
      "\n",
      "Đang tạo báo cáo misclassification (chỉ mẫu sai) cho: MeanProba_Ensemble_hub_wav\n",
      "Đã lưu báo cáo misclassification (chỉ mẫu sai) cho MeanProba_Ensemble_hub_wav vào 'summary_report.csv/MeanProba_Ensemble_hub_wav_misclassified.csv'\n",
      "\n",
      "Đang tạo báo cáo misclassification (chỉ mẫu sai) cho: MaxProba_Ensemble_hub_wav\n",
      "Đã lưu báo cáo misclassification (chỉ mẫu sai) cho MaxProba_Ensemble_hub_wav vào 'summary_report.csv/MaxProba_Ensemble_hub_wav_misclassified.csv'\n",
      "\n",
      "Đang tạo báo cáo misclassification (chỉ mẫu sai) cho: UL_Ensemble_aud_hub_wav\n",
      "Đã lưu báo cáo misclassification (chỉ mẫu sai) cho UL_Ensemble_aud_hub_wav vào 'summary_report.csv/UL_Ensemble_aud_hub_wav_misclassified.csv'\n",
      "\n",
      "Đang tạo báo cáo misclassification (chỉ mẫu sai) cho: UT_Ensemble_aud_hub_wav_T0.9\n",
      "Đã lưu báo cáo misclassification (chỉ mẫu sai) cho UT_Ensemble_aud_hub_wav_T0.9 vào 'summary_report.csv/UT_Ensemble_aud_hub_wav_T0.9_misclassified.csv'\n",
      "\n",
      "Đang tạo báo cáo misclassification (chỉ mẫu sai) cho: UW_Ensemble_aud_hub_wav\n",
      "Đã lưu báo cáo misclassification (chỉ mẫu sai) cho UW_Ensemble_aud_hub_wav vào 'summary_report.csv/UW_Ensemble_aud_hub_wav_misclassified.csv'\n",
      "\n",
      "Đang tạo báo cáo misclassification (chỉ mẫu sai) cho: CW_Ensemble_aud_hub_wav\n",
      "Đã lưu báo cáo misclassification (chỉ mẫu sai) cho CW_Ensemble_aud_hub_wav vào 'summary_report.csv/CW_Ensemble_aud_hub_wav_misclassified.csv'\n",
      "\n",
      "Đang tạo báo cáo misclassification (chỉ mẫu sai) cho: MeanProba_Ensemble_aud_hub_wav\n",
      "Đã lưu báo cáo misclassification (chỉ mẫu sai) cho MeanProba_Ensemble_aud_hub_wav vào 'summary_report.csv/MeanProba_Ensemble_aud_hub_wav_misclassified.csv'\n",
      "\n",
      "Đang tạo báo cáo misclassification (chỉ mẫu sai) cho: MaxProba_Ensemble_aud_hub_wav\n",
      "Đã lưu báo cáo misclassification (chỉ mẫu sai) cho MaxProba_Ensemble_aud_hub_wav vào 'summary_report.csv/MaxProba_Ensemble_aud_hub_wav_misclassified.csv'\n"
     ]
    }
   ],
   "source": [
    "# 7. Tạo báo cáo misclassification (Sử dụng MisclassificationReporter)\n",
    "print(\"\\nBước 7: Tạo báo cáo misclassification.\")\n",
    "reporter = MisclassificationReporter(base_output_dir=REPORT_BASE_DIR)\n",
    "\n",
    "# --- Tạo báo cáo CSV CHỈ CHỨA MẪU SAI cho từng mô hình/chiến lược ---\n",
    "print(\"\\n--- Tạo báo cáo CSV chỉ chứa mẫu sai ---\")\n",
    "for name, y_pred in ensemble_predictions_dict.items():\n",
    "    # Lấy nhãn thật (y_test) cho tất cả các dự đoán này\n",
    "    # Đảm bảo y_pred và y_test có cùng thứ tự mẫu (được đảm bảo bởi workflow)\n",
    "    reporter.generate_misclassified_csv(\n",
    "            y_true=y_test, # Nhãn thật của tập test\n",
    "            y_pred=y_pred, # Dự đoán của mô hình/chiến lược\n",
    "            sample_identifiers=test_filepaths, # Đường dẫn file của tập test\n",
    "            report_name=name # Tên báo cáo (tên mô hình/chiến lược)\n",
    "    )"
   ]
  },
  {
   "cell_type": "code",
   "execution_count": 47,
   "id": "bc8f4a0c",
   "metadata": {
    "execution": {
     "iopub.execute_input": "2025-05-10T03:00:34.995395Z",
     "iopub.status.busy": "2025-05-10T03:00:34.995002Z",
     "iopub.status.idle": "2025-05-10T03:00:35.019385Z",
     "shell.execute_reply": "2025-05-10T03:00:35.018636Z"
    },
    "papermill": {
     "duration": 0.073265,
     "end_time": "2025-05-10T03:00:35.020463",
     "exception": false,
     "start_time": "2025-05-10T03:00:34.947198",
     "status": "completed"
    },
    "tags": []
   },
   "outputs": [
    {
     "name": "stdout",
     "output_type": "stream",
     "text": [
      "\n",
      "--- Tạo báo cáo CSV so sánh (tất cả mẫu test) ---\n",
      "\n",
      "Đang tạo/cập nhật báo cáo so sánh: comparison_report_testset_svm.csv\n",
      "Đã lưu báo cáo so sánh vào 'summary_report.csv/comparison_report_testset_svm.csv'\n"
     ]
    },
    {
     "data": {
      "text/plain": [
       "'summary_report.csv/comparison_report_testset_svm.csv'"
      ]
     },
     "execution_count": 47,
     "metadata": {},
     "output_type": "execute_result"
    }
   ],
   "source": [
    "# --- Tạo báo cáo CSV SO SÁNH chứa TẤT CẢ mẫu test ---\n",
    "print(\"\\n--- Tạo báo cáo CSV so sánh (tất cả mẫu test) ---\")\n",
    "comparison_report_filename = f\"comparison_report_testset_svm.csv\" # Tên file dựa trên mô hình nhúng\n",
    "reporter.generate_comparison_report(\n",
    "    sample_identifiers=test_filepaths, # Đường dẫn file của TẤT CẢ mẫu test\n",
    "    y_true=y_test,                   # Nhãn thật của TẤT CẢ mẫu test\n",
    "    predictions_dict=ensemble_predictions_dict, # Dictionary các dự đoán từ tất cả mô hình/chiến lược\n",
    "    output_filename=comparison_report_filename\n",
    ")"
   ]
  },
  {
   "cell_type": "markdown",
   "id": "c2d8f438",
   "metadata": {
    "papermill": {
     "duration": 0.046889,
     "end_time": "2025-05-10T03:00:35.115078",
     "exception": false,
     "start_time": "2025-05-10T03:00:35.068189",
     "status": "completed"
    },
    "tags": []
   },
   "source": [
    "### Phát triển"
   ]
  },
  {
   "cell_type": "markdown",
   "id": "4aa80a42",
   "metadata": {
    "papermill": {
     "duration": 0.047497,
     "end_time": "2025-05-10T03:00:35.211849",
     "exception": false,
     "start_time": "2025-05-10T03:00:35.164352",
     "status": "completed"
    },
    "tags": []
   },
   "source": [
    "#### Thử nghiệm thêm 3 mô hình mới \n",
    "<h4> unispeech,nest,canary </h4>"
   ]
  },
  {
   "cell_type": "markdown",
   "id": "6aa59e5d",
   "metadata": {
    "papermill": {
     "duration": 0.04705,
     "end_time": "2025-05-10T03:00:35.306343",
     "exception": false,
     "start_time": "2025-05-10T03:00:35.259293",
     "status": "completed"
    },
    "tags": []
   },
   "source": [
    "##### Unispeech"
   ]
  },
  {
   "cell_type": "code",
   "execution_count": 48,
   "id": "403a1c34",
   "metadata": {
    "execution": {
     "iopub.execute_input": "2025-05-10T03:00:35.446947Z",
     "iopub.status.busy": "2025-05-10T03:00:35.446619Z",
     "iopub.status.idle": "2025-05-10T03:00:35.450451Z",
     "shell.execute_reply": "2025-05-10T03:00:35.449905Z"
    },
    "papermill": {
     "duration": 0.098146,
     "end_time": "2025-05-10T03:00:35.451551",
     "exception": false,
     "start_time": "2025-05-10T03:00:35.353405",
     "status": "completed"
    },
    "tags": []
   },
   "outputs": [],
   "source": [
    "# print(\"\\nBước 2: Đặc trưng chưa được trích xuất. Đang khởi tạo Feature Extractor và tiến hành trích xuất.\")\n",
    "# try:\n",
    "#     # Khởi tạo AudioFeatureExtractor với mô hình và thiết bị đã chọn\n",
    "#     feature_extractor = AudioFeatureExtractor(\n",
    "#         processor_name_or_path=HF_MODEL_NAME_unispeech,\n",
    "#         model_name_or_path=HF_MODEL_NAME_unispeech\n",
    "#     )\n",
    "\n",
    "#     # Trích xuất đặc trưng cho toàn bộ dataset\n",
    "#     extracted_features_labels = feature_extractor.extract_dataset_embeddings(\n",
    "#         dataset=dataset, # Sử dụng dataset đã chuẩn bị ở Bước 1\n",
    "#         batch_size=BATCH_SIZE # Sử dụng batch size đã cấu hình\n",
    "#     )\n",
    "#     if extracted_features_labels:\n",
    "#         print(\"\\nBước 3: Hoàn thành trích xuất. Đang lưu đặc trưng vào CSV.\")\n",
    "#         # Lưu đặc trưng đã trích xuất vào CSV\n",
    "#         feature_extractor.save_features_to_csv(extracted_features_labels, EXTRACTED_FEATURES_CSV_PATH)\n",
    "\n",
    "#         # Chuyển kết quả trích xuất thành format numpy array và list labels\n",
    "#         # để sẵn sàng cho bước tiếp theo (huấn luyện/kiểm tra)\n",
    "#         features_np = np.array([item[0] for item in extracted_features_labels])\n",
    "#         labels_list = [item[1] for item in extracted_features_labels]\n",
    "#     else:\n",
    "#         print(\"\\nKhông có đặc trưng nào được trích xuất thành công. Không thể lưu hoặc tiếp tục.\")\n",
    "#         features_np = None\n",
    "#         labels_list = None\n",
    "\n",
    "#     del feature_extractor\n",
    "# except Exception as e:\n",
    "#     print(f\"\\nMột lỗi nghiêm trọng xảy ra trong quá trình trích xuất đặc trưng: {e}\")\n",
    "#     features_np = None\n",
    "#     labels_list = None\n",
    "# print(\"\\n--- Kết thúc quy trình trích xuất đặc trưng ---\")\n"
   ]
  },
  {
   "cell_type": "markdown",
   "id": "5e794bab",
   "metadata": {
    "papermill": {
     "duration": 0.047534,
     "end_time": "2025-05-10T03:00:35.547143",
     "exception": false,
     "start_time": "2025-05-10T03:00:35.499609",
     "status": "completed"
    },
    "tags": []
   },
   "source": [
    "##### Nest"
   ]
  },
  {
   "cell_type": "code",
   "execution_count": 49,
   "id": "7ee457e2",
   "metadata": {
    "execution": {
     "iopub.execute_input": "2025-05-10T03:00:35.643657Z",
     "iopub.status.busy": "2025-05-10T03:00:35.643438Z",
     "iopub.status.idle": "2025-05-10T03:00:35.647329Z",
     "shell.execute_reply": "2025-05-10T03:00:35.646631Z"
    },
    "papermill": {
     "duration": 0.053624,
     "end_time": "2025-05-10T03:00:35.648484",
     "exception": false,
     "start_time": "2025-05-10T03:00:35.594860",
     "status": "completed"
    },
    "tags": []
   },
   "outputs": [],
   "source": [
    "# print(\"\\nBước 2: Đặc trưng chưa được trích xuất. Đang khởi tạo Feature Extractor và tiến hành trích xuất.\")\n",
    "# try:\n",
    "#     # Khởi tạo AudioFeatureExtractor với mô hình và thiết bị đã chọn\n",
    "#     feature_extractor = AudioFeatureExtractor(\n",
    "#         processor_name_or_path=HF_MODEL_NAME_nest,\n",
    "#         model_name_or_path=HF_MODEL_NAME_nest\n",
    "#     )\n",
    "\n",
    "#     # Trích xuất đặc trưng cho toàn bộ dataset\n",
    "#     extracted_features_labels = feature_extractor.extract_dataset_embeddings(\n",
    "#         dataset=dataset, # Sử dụng dataset đã chuẩn bị ở Bước 1\n",
    "#         batch_size=BATCH_SIZE # Sử dụng batch size đã cấu hình\n",
    "#     )\n",
    "#     if extracted_features_labels:\n",
    "#         print(\"\\nBước 3: Hoàn thành trích xuất. Đang lưu đặc trưng vào CSV.\")\n",
    "#         # Lưu đặc trưng đã trích xuất vào CSV\n",
    "#         feature_extractor.save_features_to_csv(extracted_features_labels, EXTRACTED_FEATURES_CSV_PATH)\n",
    "\n",
    "#         # Chuyển kết quả trích xuất thành format numpy array và list labels\n",
    "#         # để sẵn sàng cho bước tiếp theo (huấn luyện/kiểm tra)\n",
    "#         features_np = np.array([item[0] for item in extracted_features_labels])\n",
    "#         labels_list = [item[1] for item in extracted_features_labels]\n",
    "#     else:\n",
    "#         print(\"\\nKhông có đặc trưng nào được trích xuất thành công. Không thể lưu hoặc tiếp tục.\")\n",
    "#         features_np = None\n",
    "#         labels_list = None\n",
    "\n",
    "#     del feature_extractor\n",
    "# except Exception as e:\n",
    "#     print(f\"\\nMột lỗi nghiêm trọng xảy ra trong quá trình trích xuất đặc trưng: {e}\")\n",
    "#     features_np = None\n",
    "#     labels_list = None\n",
    "# print(\"\\n--- Kết thúc quy trình trích xuất đặc trưng ---\")\n"
   ]
  },
  {
   "cell_type": "markdown",
   "id": "a60382f9",
   "metadata": {
    "papermill": {
     "duration": 0.047519,
     "end_time": "2025-05-10T03:00:35.743521",
     "exception": false,
     "start_time": "2025-05-10T03:00:35.696002",
     "status": "completed"
    },
    "tags": []
   },
   "source": [
    "##### Canary"
   ]
  },
  {
   "cell_type": "code",
   "execution_count": 50,
   "id": "f2cd189e",
   "metadata": {
    "execution": {
     "iopub.execute_input": "2025-05-10T03:00:35.840245Z",
     "iopub.status.busy": "2025-05-10T03:00:35.839835Z",
     "iopub.status.idle": "2025-05-10T03:00:35.843829Z",
     "shell.execute_reply": "2025-05-10T03:00:35.843100Z"
    },
    "papermill": {
     "duration": 0.053884,
     "end_time": "2025-05-10T03:00:35.844943",
     "exception": false,
     "start_time": "2025-05-10T03:00:35.791059",
     "status": "completed"
    },
    "tags": []
   },
   "outputs": [],
   "source": [
    "# print(\"\\nBước 2: Đặc trưng chưa được trích xuất. Đang khởi tạo Feature Extractor và tiến hành trích xuất.\")\n",
    "# try:\n",
    "#     # Khởi tạo AudioFeatureExtractor với mô hình và thiết bị đã chọn\n",
    "#     feature_extractor = AudioFeatureExtractor(\n",
    "#         processor_name_or_path=HF_MODEL_NAME_canary,\n",
    "#         model_name_or_path=HF_MODEL_NAME_canary\n",
    "#     )\n",
    "\n",
    "#     # Trích xuất đặc trưng cho toàn bộ dataset\n",
    "#     extracted_features_labels = feature_extractor.extract_dataset_embeddings(\n",
    "#         dataset=dataset, # Sử dụng dataset đã chuẩn bị ở Bước 1\n",
    "#         batch_size=BATCH_SIZE # Sử dụng batch size đã cấu hình\n",
    "#     )\n",
    "#     if extracted_features_labels:\n",
    "#         print(\"\\nBước 3: Hoàn thành trích xuất. Đang lưu đặc trưng vào CSV.\")\n",
    "#         # Lưu đặc trưng đã trích xuất vào CSV\n",
    "#         feature_extractor.save_features_to_csv(extracted_features_labels, EXTRACTED_FEATURES_CSV_PATH)\n",
    "\n",
    "#         # Chuyển kết quả trích xuất thành format numpy array và list labels\n",
    "#         # để sẵn sàng cho bước tiếp theo (huấn luyện/kiểm tra)\n",
    "#         features_np = np.array([item[0] for item in extracted_features_labels])\n",
    "#         labels_list = [item[1] for item in extracted_features_labels]\n",
    "#     else:\n",
    "#         print(\"\\nKhông có đặc trưng nào được trích xuất thành công. Không thể lưu hoặc tiếp tục.\")\n",
    "#         features_np = None\n",
    "#         labels_list = None\n",
    "\n",
    "#     del feature_extractor\n",
    "# except Exception as e:\n",
    "#     print(f\"\\nMột lỗi nghiêm trọng xảy ra trong quá trình trích xuất đặc trưng: {e}\")\n",
    "#     features_np = None\n",
    "#     labels_list = None\n",
    "# print(\"\\n--- Kết thúc quy trình trích xuất đặc trưng ---\")\n"
   ]
  }
 ],
 "metadata": {
  "kaggle": {
   "accelerator": "gpu",
   "dataSources": [
    {
     "datasetId": 7102632,
     "sourceId": 11350888,
     "sourceType": "datasetVersion"
    },
    {
     "datasetId": 7339470,
     "sourceId": 11713429,
     "sourceType": "datasetVersion"
    },
    {
     "datasetId": 7163876,
     "sourceId": 11734129,
     "sourceType": "datasetVersion"
    },
    {
     "datasetId": 7345455,
     "sourceId": 11748168,
     "sourceType": "datasetVersion"
    }
   ],
   "dockerImageVersionId": 31012,
   "isGpuEnabled": true,
   "isInternetEnabled": true,
   "language": "python",
   "sourceType": "notebook"
  },
  "kernelspec": {
   "display_name": "Python 3",
   "language": "python",
   "name": "python3"
  },
  "language_info": {
   "codemirror_mode": {
    "name": "ipython",
    "version": 3
   },
   "file_extension": ".py",
   "mimetype": "text/x-python",
   "name": "python",
   "nbconvert_exporter": "python",
   "pygments_lexer": "ipython3",
   "version": "3.11.11"
  },
  "papermill": {
   "default_parameters": {},
   "duration": 1424.879997,
   "end_time": "2025-05-10T03:00:38.996203",
   "environment_variables": {},
   "exception": null,
   "input_path": "__notebook__.ipynb",
   "output_path": "__notebook__.ipynb",
   "parameters": {},
   "start_time": "2025-05-10T02:36:54.116206",
   "version": "2.6.0"
  },
  "widgets": {
   "application/vnd.jupyter.widget-state+json": {
    "state": {
     "01a751725bd14af3b61181205107d4b2": {
      "model_module": "@jupyter-widgets/base",
      "model_module_version": "2.0.0",
      "model_name": "LayoutModel",
      "state": {
       "_model_module": "@jupyter-widgets/base",
       "_model_module_version": "2.0.0",
       "_model_name": "LayoutModel",
       "_view_count": null,
       "_view_module": "@jupyter-widgets/base",
       "_view_module_version": "2.0.0",
       "_view_name": "LayoutView",
       "align_content": null,
       "align_items": null,
       "align_self": null,
       "border_bottom": null,
       "border_left": null,
       "border_right": null,
       "border_top": null,
       "bottom": null,
       "display": null,
       "flex": null,
       "flex_flow": null,
       "grid_area": null,
       "grid_auto_columns": null,
       "grid_auto_flow": null,
       "grid_auto_rows": null,
       "grid_column": null,
       "grid_gap": null,
       "grid_row": null,
       "grid_template_areas": null,
       "grid_template_columns": null,
       "grid_template_rows": null,
       "height": null,
       "justify_content": null,
       "justify_items": null,
       "left": null,
       "margin": null,
       "max_height": null,
       "max_width": null,
       "min_height": null,
       "min_width": null,
       "object_fit": null,
       "object_position": null,
       "order": null,
       "overflow": null,
       "padding": null,
       "right": null,
       "top": null,
       "visibility": null,
       "width": null
      }
     },
     "01e01a468ff844ed80abf2411c6e7eaf": {
      "model_module": "@jupyter-widgets/base",
      "model_module_version": "2.0.0",
      "model_name": "LayoutModel",
      "state": {
       "_model_module": "@jupyter-widgets/base",
       "_model_module_version": "2.0.0",
       "_model_name": "LayoutModel",
       "_view_count": null,
       "_view_module": "@jupyter-widgets/base",
       "_view_module_version": "2.0.0",
       "_view_name": "LayoutView",
       "align_content": null,
       "align_items": null,
       "align_self": null,
       "border_bottom": null,
       "border_left": null,
       "border_right": null,
       "border_top": null,
       "bottom": null,
       "display": null,
       "flex": null,
       "flex_flow": null,
       "grid_area": null,
       "grid_auto_columns": null,
       "grid_auto_flow": null,
       "grid_auto_rows": null,
       "grid_column": null,
       "grid_gap": null,
       "grid_row": null,
       "grid_template_areas": null,
       "grid_template_columns": null,
       "grid_template_rows": null,
       "height": null,
       "justify_content": null,
       "justify_items": null,
       "left": null,
       "margin": null,
       "max_height": null,
       "max_width": null,
       "min_height": null,
       "min_width": null,
       "object_fit": null,
       "object_position": null,
       "order": null,
       "overflow": null,
       "padding": null,
       "right": null,
       "top": null,
       "visibility": null,
       "width": null
      }
     },
     "040aa0ffea39472fbb7e377482e0d659": {
      "model_module": "@jupyter-widgets/base",
      "model_module_version": "2.0.0",
      "model_name": "LayoutModel",
      "state": {
       "_model_module": "@jupyter-widgets/base",
       "_model_module_version": "2.0.0",
       "_model_name": "LayoutModel",
       "_view_count": null,
       "_view_module": "@jupyter-widgets/base",
       "_view_module_version": "2.0.0",
       "_view_name": "LayoutView",
       "align_content": null,
       "align_items": null,
       "align_self": null,
       "border_bottom": null,
       "border_left": null,
       "border_right": null,
       "border_top": null,
       "bottom": null,
       "display": null,
       "flex": null,
       "flex_flow": null,
       "grid_area": null,
       "grid_auto_columns": null,
       "grid_auto_flow": null,
       "grid_auto_rows": null,
       "grid_column": null,
       "grid_gap": null,
       "grid_row": null,
       "grid_template_areas": null,
       "grid_template_columns": null,
       "grid_template_rows": null,
       "height": null,
       "justify_content": null,
       "justify_items": null,
       "left": null,
       "margin": null,
       "max_height": null,
       "max_width": null,
       "min_height": null,
       "min_width": null,
       "object_fit": null,
       "object_position": null,
       "order": null,
       "overflow": null,
       "padding": null,
       "right": null,
       "top": null,
       "visibility": null,
       "width": null
      }
     },
     "0456d37e75974e2e81c81237d3ac6894": {
      "model_module": "@jupyter-widgets/controls",
      "model_module_version": "2.0.0",
      "model_name": "HTMLModel",
      "state": {
       "_dom_classes": [],
       "_model_module": "@jupyter-widgets/controls",
       "_model_module_version": "2.0.0",
       "_model_name": "HTMLModel",
       "_view_count": null,
       "_view_module": "@jupyter-widgets/controls",
       "_view_module_version": "2.0.0",
       "_view_name": "HTMLView",
       "description": "",
       "description_allow_html": false,
       "layout": "IPY_MODEL_ad1ecdc91f0e4beea3e7922d75a32bea",
       "placeholder": "​",
       "style": "IPY_MODEL_6bf39f0830724cc6822587293c87a4b8",
       "tabbable": null,
       "tooltip": null,
       "value": " 214/214 [00:00&lt;00:00, 24.6kB/s]"
      }
     },
     "06bf5a5fb1594f51bf2ea6f88faf4ffd": {
      "model_module": "@jupyter-widgets/controls",
      "model_module_version": "2.0.0",
      "model_name": "HTMLModel",
      "state": {
       "_dom_classes": [],
       "_model_module": "@jupyter-widgets/controls",
       "_model_module_version": "2.0.0",
       "_model_name": "HTMLModel",
       "_view_count": null,
       "_view_module": "@jupyter-widgets/controls",
       "_view_module_version": "2.0.0",
       "_view_name": "HTMLView",
       "description": "",
       "description_allow_html": false,
       "layout": "IPY_MODEL_eb6bab54519d448983cda8ab3d2b8fcf",
       "placeholder": "​",
       "style": "IPY_MODEL_74a84886d57d4a1eae2cae918ba2f788",
       "tabbable": null,
       "tooltip": null,
       "value": "config.json: 100%"
      }
     },
     "0bf09ef76b004e92bf09ce2188c8ee93": {
      "model_module": "@jupyter-widgets/base",
      "model_module_version": "2.0.0",
      "model_name": "LayoutModel",
      "state": {
       "_model_module": "@jupyter-widgets/base",
       "_model_module_version": "2.0.0",
       "_model_name": "LayoutModel",
       "_view_count": null,
       "_view_module": "@jupyter-widgets/base",
       "_view_module_version": "2.0.0",
       "_view_name": "LayoutView",
       "align_content": null,
       "align_items": null,
       "align_self": null,
       "border_bottom": null,
       "border_left": null,
       "border_right": null,
       "border_top": null,
       "bottom": null,
       "display": null,
       "flex": null,
       "flex_flow": null,
       "grid_area": null,
       "grid_auto_columns": null,
       "grid_auto_flow": null,
       "grid_auto_rows": null,
       "grid_column": null,
       "grid_gap": null,
       "grid_row": null,
       "grid_template_areas": null,
       "grid_template_columns": null,
       "grid_template_rows": null,
       "height": null,
       "justify_content": null,
       "justify_items": null,
       "left": null,
       "margin": null,
       "max_height": null,
       "max_width": null,
       "min_height": null,
       "min_width": null,
       "object_fit": null,
       "object_position": null,
       "order": null,
       "overflow": null,
       "padding": null,
       "right": null,
       "top": null,
       "visibility": null,
       "width": null
      }
     },
     "0cdc44795d204ecf8b390dd5878fff0f": {
      "model_module": "@jupyter-widgets/base",
      "model_module_version": "2.0.0",
      "model_name": "LayoutModel",
      "state": {
       "_model_module": "@jupyter-widgets/base",
       "_model_module_version": "2.0.0",
       "_model_name": "LayoutModel",
       "_view_count": null,
       "_view_module": "@jupyter-widgets/base",
       "_view_module_version": "2.0.0",
       "_view_name": "LayoutView",
       "align_content": null,
       "align_items": null,
       "align_self": null,
       "border_bottom": null,
       "border_left": null,
       "border_right": null,
       "border_top": null,
       "bottom": null,
       "display": null,
       "flex": null,
       "flex_flow": null,
       "grid_area": null,
       "grid_auto_columns": null,
       "grid_auto_flow": null,
       "grid_auto_rows": null,
       "grid_column": null,
       "grid_gap": null,
       "grid_row": null,
       "grid_template_areas": null,
       "grid_template_columns": null,
       "grid_template_rows": null,
       "height": null,
       "justify_content": null,
       "justify_items": null,
       "left": null,
       "margin": null,
       "max_height": null,
       "max_width": null,
       "min_height": null,
       "min_width": null,
       "object_fit": null,
       "object_position": null,
       "order": null,
       "overflow": null,
       "padding": null,
       "right": null,
       "top": null,
       "visibility": null,
       "width": null
      }
     },
     "10d35403facb44ef9af986972d6ae95a": {
      "model_module": "@jupyter-widgets/controls",
      "model_module_version": "2.0.0",
      "model_name": "ProgressStyleModel",
      "state": {
       "_model_module": "@jupyter-widgets/controls",
       "_model_module_version": "2.0.0",
       "_model_name": "ProgressStyleModel",
       "_view_count": null,
       "_view_module": "@jupyter-widgets/base",
       "_view_module_version": "2.0.0",
       "_view_name": "StyleView",
       "bar_color": null,
       "description_width": ""
      }
     },
     "111040d5108944ffb873f70f531e43b8": {
      "model_module": "@jupyter-widgets/base",
      "model_module_version": "2.0.0",
      "model_name": "LayoutModel",
      "state": {
       "_model_module": "@jupyter-widgets/base",
       "_model_module_version": "2.0.0",
       "_model_name": "LayoutModel",
       "_view_count": null,
       "_view_module": "@jupyter-widgets/base",
       "_view_module_version": "2.0.0",
       "_view_name": "LayoutView",
       "align_content": null,
       "align_items": null,
       "align_self": null,
       "border_bottom": null,
       "border_left": null,
       "border_right": null,
       "border_top": null,
       "bottom": null,
       "display": null,
       "flex": null,
       "flex_flow": null,
       "grid_area": null,
       "grid_auto_columns": null,
       "grid_auto_flow": null,
       "grid_auto_rows": null,
       "grid_column": null,
       "grid_gap": null,
       "grid_row": null,
       "grid_template_areas": null,
       "grid_template_columns": null,
       "grid_template_rows": null,
       "height": null,
       "justify_content": null,
       "justify_items": null,
       "left": null,
       "margin": null,
       "max_height": null,
       "max_width": null,
       "min_height": null,
       "min_width": null,
       "object_fit": null,
       "object_position": null,
       "order": null,
       "overflow": null,
       "padding": null,
       "right": null,
       "top": null,
       "visibility": null,
       "width": null
      }
     },
     "111eee73165449709bc8278733694338": {
      "model_module": "@jupyter-widgets/controls",
      "model_module_version": "2.0.0",
      "model_name": "FloatProgressModel",
      "state": {
       "_dom_classes": [],
       "_model_module": "@jupyter-widgets/controls",
       "_model_module_version": "2.0.0",
       "_model_name": "FloatProgressModel",
       "_view_count": null,
       "_view_module": "@jupyter-widgets/controls",
       "_view_module_version": "2.0.0",
       "_view_name": "ProgressView",
       "bar_style": "success",
       "description": "",
       "description_allow_html": false,
       "layout": "IPY_MODEL_16feaf13fc2f46be80cea69d6f9d8a5d",
       "max": 1269726951.0,
       "min": 0.0,
       "orientation": "horizontal",
       "style": "IPY_MODEL_424e520ce42c40db80290cba58639bd5",
       "tabbable": null,
       "tooltip": null,
       "value": 1269726951.0
      }
     },
     "112a618ab61544cfa0f49a6031085952": {
      "model_module": "@jupyter-widgets/base",
      "model_module_version": "2.0.0",
      "model_name": "LayoutModel",
      "state": {
       "_model_module": "@jupyter-widgets/base",
       "_model_module_version": "2.0.0",
       "_model_name": "LayoutModel",
       "_view_count": null,
       "_view_module": "@jupyter-widgets/base",
       "_view_module_version": "2.0.0",
       "_view_name": "LayoutView",
       "align_content": null,
       "align_items": null,
       "align_self": null,
       "border_bottom": null,
       "border_left": null,
       "border_right": null,
       "border_top": null,
       "bottom": null,
       "display": null,
       "flex": null,
       "flex_flow": null,
       "grid_area": null,
       "grid_auto_columns": null,
       "grid_auto_flow": null,
       "grid_auto_rows": null,
       "grid_column": null,
       "grid_gap": null,
       "grid_row": null,
       "grid_template_areas": null,
       "grid_template_columns": null,
       "grid_template_rows": null,
       "height": null,
       "justify_content": null,
       "justify_items": null,
       "left": null,
       "margin": null,
       "max_height": null,
       "max_width": null,
       "min_height": null,
       "min_width": null,
       "object_fit": null,
       "object_position": null,
       "order": null,
       "overflow": null,
       "padding": null,
       "right": null,
       "top": null,
       "visibility": null,
       "width": null
      }
     },
     "1298754b29af40768823d54096751aeb": {
      "model_module": "@jupyter-widgets/controls",
      "model_module_version": "2.0.0",
      "model_name": "FloatProgressModel",
      "state": {
       "_dom_classes": [],
       "_model_module": "@jupyter-widgets/controls",
       "_model_module_version": "2.0.0",
       "_model_name": "FloatProgressModel",
       "_view_count": null,
       "_view_module": "@jupyter-widgets/controls",
       "_view_module_version": "2.0.0",
       "_view_name": "ProgressView",
       "bar_style": "success",
       "description": "",
       "description_allow_html": false,
       "layout": "IPY_MODEL_c561c967676d4e379ae3d27d033ef03d",
       "max": 158.0,
       "min": 0.0,
       "orientation": "horizontal",
       "style": "IPY_MODEL_874f122fb33845b8b162a0f11112b82a",
       "tabbable": null,
       "tooltip": null,
       "value": 158.0
      }
     },
     "16feaf13fc2f46be80cea69d6f9d8a5d": {
      "model_module": "@jupyter-widgets/base",
      "model_module_version": "2.0.0",
      "model_name": "LayoutModel",
      "state": {
       "_model_module": "@jupyter-widgets/base",
       "_model_module_version": "2.0.0",
       "_model_name": "LayoutModel",
       "_view_count": null,
       "_view_module": "@jupyter-widgets/base",
       "_view_module_version": "2.0.0",
       "_view_name": "LayoutView",
       "align_content": null,
       "align_items": null,
       "align_self": null,
       "border_bottom": null,
       "border_left": null,
       "border_right": null,
       "border_top": null,
       "bottom": null,
       "display": null,
       "flex": null,
       "flex_flow": null,
       "grid_area": null,
       "grid_auto_columns": null,
       "grid_auto_flow": null,
       "grid_auto_rows": null,
       "grid_column": null,
       "grid_gap": null,
       "grid_row": null,
       "grid_template_areas": null,
       "grid_template_columns": null,
       "grid_template_rows": null,
       "height": null,
       "justify_content": null,
       "justify_items": null,
       "left": null,
       "margin": null,
       "max_height": null,
       "max_width": null,
       "min_height": null,
       "min_width": null,
       "object_fit": null,
       "object_position": null,
       "order": null,
       "overflow": null,
       "padding": null,
       "right": null,
       "top": null,
       "visibility": null,
       "width": null
      }
     },
     "1798097bc5e8474cae8e80960aea8ced": {
      "model_module": "@jupyter-widgets/base",
      "model_module_version": "2.0.0",
      "model_name": "LayoutModel",
      "state": {
       "_model_module": "@jupyter-widgets/base",
       "_model_module_version": "2.0.0",
       "_model_name": "LayoutModel",
       "_view_count": null,
       "_view_module": "@jupyter-widgets/base",
       "_view_module_version": "2.0.0",
       "_view_name": "LayoutView",
       "align_content": null,
       "align_items": null,
       "align_self": null,
       "border_bottom": null,
       "border_left": null,
       "border_right": null,
       "border_top": null,
       "bottom": null,
       "display": null,
       "flex": null,
       "flex_flow": null,
       "grid_area": null,
       "grid_auto_columns": null,
       "grid_auto_flow": null,
       "grid_auto_rows": null,
       "grid_column": null,
       "grid_gap": null,
       "grid_row": null,
       "grid_template_areas": null,
       "grid_template_columns": null,
       "grid_template_rows": null,
       "height": null,
       "justify_content": null,
       "justify_items": null,
       "left": null,
       "margin": null,
       "max_height": null,
       "max_width": null,
       "min_height": null,
       "min_width": null,
       "object_fit": null,
       "object_position": null,
       "order": null,
       "overflow": null,
       "padding": null,
       "right": null,
       "top": null,
       "visibility": null,
       "width": null
      }
     },
     "1aa0f192e830478198b1a81f24c97fdb": {
      "model_module": "@jupyter-widgets/controls",
      "model_module_version": "2.0.0",
      "model_name": "HTMLStyleModel",
      "state": {
       "_model_module": "@jupyter-widgets/controls",
       "_model_module_version": "2.0.0",
       "_model_name": "HTMLStyleModel",
       "_view_count": null,
       "_view_module": "@jupyter-widgets/base",
       "_view_module_version": "2.0.0",
       "_view_name": "StyleView",
       "background": null,
       "description_width": "",
       "font_size": null,
       "text_color": null
      }
     },
     "2090acade81d4d7187b1759e37bc58c7": {
      "model_module": "@jupyter-widgets/base",
      "model_module_version": "2.0.0",
      "model_name": "LayoutModel",
      "state": {
       "_model_module": "@jupyter-widgets/base",
       "_model_module_version": "2.0.0",
       "_model_name": "LayoutModel",
       "_view_count": null,
       "_view_module": "@jupyter-widgets/base",
       "_view_module_version": "2.0.0",
       "_view_name": "LayoutView",
       "align_content": null,
       "align_items": null,
       "align_self": null,
       "border_bottom": null,
       "border_left": null,
       "border_right": null,
       "border_top": null,
       "bottom": null,
       "display": null,
       "flex": null,
       "flex_flow": null,
       "grid_area": null,
       "grid_auto_columns": null,
       "grid_auto_flow": null,
       "grid_auto_rows": null,
       "grid_column": null,
       "grid_gap": null,
       "grid_row": null,
       "grid_template_areas": null,
       "grid_template_columns": null,
       "grid_template_rows": null,
       "height": null,
       "justify_content": null,
       "justify_items": null,
       "left": null,
       "margin": null,
       "max_height": null,
       "max_width": null,
       "min_height": null,
       "min_width": null,
       "object_fit": null,
       "object_position": null,
       "order": null,
       "overflow": null,
       "padding": null,
       "right": null,
       "top": null,
       "visibility": null,
       "width": null
      }
     },
     "2323ca6743db4249b2be1f512ed5aa07": {
      "model_module": "@jupyter-widgets/controls",
      "model_module_version": "2.0.0",
      "model_name": "HTMLStyleModel",
      "state": {
       "_model_module": "@jupyter-widgets/controls",
       "_model_module_version": "2.0.0",
       "_model_name": "HTMLStyleModel",
       "_view_count": null,
       "_view_module": "@jupyter-widgets/base",
       "_view_module_version": "2.0.0",
       "_view_name": "StyleView",
       "background": null,
       "description_width": "",
       "font_size": null,
       "text_color": null
      }
     },
     "253d08cd28f5457eb41f45022b38c927": {
      "model_module": "@jupyter-widgets/controls",
      "model_module_version": "2.0.0",
      "model_name": "HBoxModel",
      "state": {
       "_dom_classes": [],
       "_model_module": "@jupyter-widgets/controls",
       "_model_module_version": "2.0.0",
       "_model_name": "HBoxModel",
       "_view_count": null,
       "_view_module": "@jupyter-widgets/controls",
       "_view_module_version": "2.0.0",
       "_view_name": "HBoxView",
       "box_style": "",
       "children": [
        "IPY_MODEL_e8fea4b92d03455daec31c8e6b82ea89",
        "IPY_MODEL_4fd40f35098e4657afe31b1e1a9bef1b",
        "IPY_MODEL_67bbbf8b44b8409e91dc8555589f83e2"
       ],
       "layout": "IPY_MODEL_111040d5108944ffb873f70f531e43b8",
       "tabbable": null,
       "tooltip": null
      }
     },
     "2b77dc7bfb9347bca7c7003dbfbf8d3a": {
      "model_module": "@jupyter-widgets/controls",
      "model_module_version": "2.0.0",
      "model_name": "HBoxModel",
      "state": {
       "_dom_classes": [],
       "_model_module": "@jupyter-widgets/controls",
       "_model_module_version": "2.0.0",
       "_model_name": "HBoxModel",
       "_view_count": null,
       "_view_module": "@jupyter-widgets/controls",
       "_view_module_version": "2.0.0",
       "_view_name": "HBoxView",
       "box_style": "",
       "children": [
        "IPY_MODEL_6ee6800009cd4fa7a144edcef98ebec8",
        "IPY_MODEL_6cdb195721fa4a6fa4acc246d3d53d8c",
        "IPY_MODEL_edf4913c67624e509568f408ee53aef1"
       ],
       "layout": "IPY_MODEL_81e05055ed524ad68299f87d406a5624",
       "tabbable": null,
       "tooltip": null
      }
     },
     "37bcbaf3bbb74f60882183e255a1f3cc": {
      "model_module": "@jupyter-widgets/base",
      "model_module_version": "2.0.0",
      "model_name": "LayoutModel",
      "state": {
       "_model_module": "@jupyter-widgets/base",
       "_model_module_version": "2.0.0",
       "_model_name": "LayoutModel",
       "_view_count": null,
       "_view_module": "@jupyter-widgets/base",
       "_view_module_version": "2.0.0",
       "_view_name": "LayoutView",
       "align_content": null,
       "align_items": null,
       "align_self": null,
       "border_bottom": null,
       "border_left": null,
       "border_right": null,
       "border_top": null,
       "bottom": null,
       "display": null,
       "flex": null,
       "flex_flow": null,
       "grid_area": null,
       "grid_auto_columns": null,
       "grid_auto_flow": null,
       "grid_auto_rows": null,
       "grid_column": null,
       "grid_gap": null,
       "grid_row": null,
       "grid_template_areas": null,
       "grid_template_columns": null,
       "grid_template_rows": null,
       "height": null,
       "justify_content": null,
       "justify_items": null,
       "left": null,
       "margin": null,
       "max_height": null,
       "max_width": null,
       "min_height": null,
       "min_width": null,
       "object_fit": null,
       "object_position": null,
       "order": null,
       "overflow": null,
       "padding": null,
       "right": null,
       "top": null,
       "visibility": null,
       "width": null
      }
     },
     "37dc8c83468b4fce98b581d2a9f08ac3": {
      "model_module": "@jupyter-widgets/base",
      "model_module_version": "2.0.0",
      "model_name": "LayoutModel",
      "state": {
       "_model_module": "@jupyter-widgets/base",
       "_model_module_version": "2.0.0",
       "_model_name": "LayoutModel",
       "_view_count": null,
       "_view_module": "@jupyter-widgets/base",
       "_view_module_version": "2.0.0",
       "_view_name": "LayoutView",
       "align_content": null,
       "align_items": null,
       "align_self": null,
       "border_bottom": null,
       "border_left": null,
       "border_right": null,
       "border_top": null,
       "bottom": null,
       "display": null,
       "flex": null,
       "flex_flow": null,
       "grid_area": null,
       "grid_auto_columns": null,
       "grid_auto_flow": null,
       "grid_auto_rows": null,
       "grid_column": null,
       "grid_gap": null,
       "grid_row": null,
       "grid_template_areas": null,
       "grid_template_columns": null,
       "grid_template_rows": null,
       "height": null,
       "justify_content": null,
       "justify_items": null,
       "left": null,
       "margin": null,
       "max_height": null,
       "max_width": null,
       "min_height": null,
       "min_width": null,
       "object_fit": null,
       "object_position": null,
       "order": null,
       "overflow": null,
       "padding": null,
       "right": null,
       "top": null,
       "visibility": null,
       "width": null
      }
     },
     "39dadaf5f45f4bba9b3f8a4ea49c13c7": {
      "model_module": "@jupyter-widgets/controls",
      "model_module_version": "2.0.0",
      "model_name": "HTMLStyleModel",
      "state": {
       "_model_module": "@jupyter-widgets/controls",
       "_model_module_version": "2.0.0",
       "_model_name": "HTMLStyleModel",
       "_view_count": null,
       "_view_module": "@jupyter-widgets/base",
       "_view_module_version": "2.0.0",
       "_view_name": "StyleView",
       "background": null,
       "description_width": "",
       "font_size": null,
       "text_color": null
      }
     },
     "3b0fa5eddc02426ba780796bc83f801a": {
      "model_module": "@jupyter-widgets/controls",
      "model_module_version": "2.0.0",
      "model_name": "HTMLModel",
      "state": {
       "_dom_classes": [],
       "_model_module": "@jupyter-widgets/controls",
       "_model_module_version": "2.0.0",
       "_model_name": "HTMLModel",
       "_view_count": null,
       "_view_module": "@jupyter-widgets/controls",
       "_view_module_version": "2.0.0",
       "_view_name": "HTMLView",
       "description": "",
       "description_allow_html": false,
       "layout": "IPY_MODEL_600543d924954c25af7a5af28f29199c",
       "placeholder": "​",
       "style": "IPY_MODEL_c4ea8f01a9f8482cbce612aeeb561897",
       "tabbable": null,
       "tooltip": null,
       "value": "model.safetensors: 100%"
      }
     },
     "3d210bf756d44cc1afe5e1a377e05bcc": {
      "model_module": "@jupyter-widgets/controls",
      "model_module_version": "2.0.0",
      "model_name": "HBoxModel",
      "state": {
       "_dom_classes": [],
       "_model_module": "@jupyter-widgets/controls",
       "_model_module_version": "2.0.0",
       "_model_name": "HBoxModel",
       "_view_count": null,
       "_view_module": "@jupyter-widgets/controls",
       "_view_module_version": "2.0.0",
       "_view_name": "HBoxView",
       "box_style": "",
       "children": [
        "IPY_MODEL_3b0fa5eddc02426ba780796bc83f801a",
        "IPY_MODEL_4f6722c560d147348f8cb71b2ace6264",
        "IPY_MODEL_d08b19cb62a64123bc1247047db4f9a0"
       ],
       "layout": "IPY_MODEL_b3129e9004014f099d87ca7fe76034d0",
       "tabbable": null,
       "tooltip": null
      }
     },
     "41efc1b26f8049b5bfc7fa537fa78695": {
      "model_module": "@jupyter-widgets/controls",
      "model_module_version": "2.0.0",
      "model_name": "HBoxModel",
      "state": {
       "_dom_classes": [],
       "_model_module": "@jupyter-widgets/controls",
       "_model_module_version": "2.0.0",
       "_model_name": "HBoxModel",
       "_view_count": null,
       "_view_module": "@jupyter-widgets/controls",
       "_view_module_version": "2.0.0",
       "_view_name": "HBoxView",
       "box_style": "",
       "children": [
        "IPY_MODEL_e561830d32df481785170e8b92cd535d",
        "IPY_MODEL_95ef7d5af11b4fc5bb74319659d47f26",
        "IPY_MODEL_6f9ec5ddbe074b60b8ce32fd06261628"
       ],
       "layout": "IPY_MODEL_77b93014f6c54d59b7d8b6e93ce8aab1",
       "tabbable": null,
       "tooltip": null
      }
     },
     "424e520ce42c40db80290cba58639bd5": {
      "model_module": "@jupyter-widgets/controls",
      "model_module_version": "2.0.0",
      "model_name": "ProgressStyleModel",
      "state": {
       "_model_module": "@jupyter-widgets/controls",
       "_model_module_version": "2.0.0",
       "_model_name": "ProgressStyleModel",
       "_view_count": null,
       "_view_module": "@jupyter-widgets/base",
       "_view_module_version": "2.0.0",
       "_view_name": "StyleView",
       "bar_color": null,
       "description_width": ""
      }
     },
     "4860350955ba4f4192d5d306b3e28f14": {
      "model_module": "@jupyter-widgets/controls",
      "model_module_version": "2.0.0",
      "model_name": "HTMLStyleModel",
      "state": {
       "_model_module": "@jupyter-widgets/controls",
       "_model_module_version": "2.0.0",
       "_model_name": "HTMLStyleModel",
       "_view_count": null,
       "_view_module": "@jupyter-widgets/base",
       "_view_module_version": "2.0.0",
       "_view_name": "StyleView",
       "background": null,
       "description_width": "",
       "font_size": null,
       "text_color": null
      }
     },
     "4894e4a10b7e4c2ca3f040aff8c292a2": {
      "model_module": "@jupyter-widgets/base",
      "model_module_version": "2.0.0",
      "model_name": "LayoutModel",
      "state": {
       "_model_module": "@jupyter-widgets/base",
       "_model_module_version": "2.0.0",
       "_model_name": "LayoutModel",
       "_view_count": null,
       "_view_module": "@jupyter-widgets/base",
       "_view_module_version": "2.0.0",
       "_view_name": "LayoutView",
       "align_content": null,
       "align_items": null,
       "align_self": null,
       "border_bottom": null,
       "border_left": null,
       "border_right": null,
       "border_top": null,
       "bottom": null,
       "display": null,
       "flex": null,
       "flex_flow": null,
       "grid_area": null,
       "grid_auto_columns": null,
       "grid_auto_flow": null,
       "grid_auto_rows": null,
       "grid_column": null,
       "grid_gap": null,
       "grid_row": null,
       "grid_template_areas": null,
       "grid_template_columns": null,
       "grid_template_rows": null,
       "height": null,
       "justify_content": null,
       "justify_items": null,
       "left": null,
       "margin": null,
       "max_height": null,
       "max_width": null,
       "min_height": null,
       "min_width": null,
       "object_fit": null,
       "object_position": null,
       "order": null,
       "overflow": null,
       "padding": null,
       "right": null,
       "top": null,
       "visibility": null,
       "width": null
      }
     },
     "49ee85b4e66f42bcb70b4c71a962b513": {
      "model_module": "@jupyter-widgets/controls",
      "model_module_version": "2.0.0",
      "model_name": "HTMLModel",
      "state": {
       "_dom_classes": [],
       "_model_module": "@jupyter-widgets/controls",
       "_model_module_version": "2.0.0",
       "_model_name": "HTMLModel",
       "_view_count": null,
       "_view_module": "@jupyter-widgets/controls",
       "_view_module_version": "2.0.0",
       "_view_name": "HTMLView",
       "description": "",
       "description_allow_html": false,
       "layout": "IPY_MODEL_7da851806c144609882d5da202c6c49f",
       "placeholder": "​",
       "style": "IPY_MODEL_acf9a269a9df43fcba3545d5eeab0836",
       "tabbable": null,
       "tooltip": null,
       "value": " 212/212 [00:00&lt;00:00, 25.8kB/s]"
      }
     },
     "49ffc88577c548888a4838f31e1229d2": {
      "model_module": "@jupyter-widgets/controls",
      "model_module_version": "2.0.0",
      "model_name": "HBoxModel",
      "state": {
       "_dom_classes": [],
       "_model_module": "@jupyter-widgets/controls",
       "_model_module_version": "2.0.0",
       "_model_name": "HBoxModel",
       "_view_count": null,
       "_view_module": "@jupyter-widgets/controls",
       "_view_module_version": "2.0.0",
       "_view_name": "HBoxView",
       "box_style": "",
       "children": [
        "IPY_MODEL_6aab84f6a8b24fc296bff80ee1163863",
        "IPY_MODEL_111eee73165449709bc8278733694338",
        "IPY_MODEL_785cfdddb1ae4262a8d2e80ad2653601"
       ],
       "layout": "IPY_MODEL_c2aa13ebf8d14c0d9a7b9ac115edf0a7",
       "tabbable": null,
       "tooltip": null
      }
     },
     "4ad0013ff7614c69a30f61f2a08e3753": {
      "model_module": "@jupyter-widgets/controls",
      "model_module_version": "2.0.0",
      "model_name": "HBoxModel",
      "state": {
       "_dom_classes": [],
       "_model_module": "@jupyter-widgets/controls",
       "_model_module_version": "2.0.0",
       "_model_name": "HBoxModel",
       "_view_count": null,
       "_view_module": "@jupyter-widgets/controls",
       "_view_module_version": "2.0.0",
       "_view_name": "HBoxView",
       "box_style": "",
       "children": [
        "IPY_MODEL_8ca8f75c8d8a4aa58ec2cce0facad120",
        "IPY_MODEL_6919a4a5d752461db796df7ee7687607",
        "IPY_MODEL_ce39ea96c86c44509ec68a86c136379e"
       ],
       "layout": "IPY_MODEL_5e1b32fd0d194bab9ecb56ba144c78f0",
       "tabbable": null,
       "tooltip": null
      }
     },
     "4b9a37b62bfb46c090a1c1d5d439e0c4": {
      "model_module": "@jupyter-widgets/base",
      "model_module_version": "2.0.0",
      "model_name": "LayoutModel",
      "state": {
       "_model_module": "@jupyter-widgets/base",
       "_model_module_version": "2.0.0",
       "_model_name": "LayoutModel",
       "_view_count": null,
       "_view_module": "@jupyter-widgets/base",
       "_view_module_version": "2.0.0",
       "_view_name": "LayoutView",
       "align_content": null,
       "align_items": null,
       "align_self": null,
       "border_bottom": null,
       "border_left": null,
       "border_right": null,
       "border_top": null,
       "bottom": null,
       "display": null,
       "flex": null,
       "flex_flow": null,
       "grid_area": null,
       "grid_auto_columns": null,
       "grid_auto_flow": null,
       "grid_auto_rows": null,
       "grid_column": null,
       "grid_gap": null,
       "grid_row": null,
       "grid_template_areas": null,
       "grid_template_columns": null,
       "grid_template_rows": null,
       "height": null,
       "justify_content": null,
       "justify_items": null,
       "left": null,
       "margin": null,
       "max_height": null,
       "max_width": null,
       "min_height": null,
       "min_width": null,
       "object_fit": null,
       "object_position": null,
       "order": null,
       "overflow": null,
       "padding": null,
       "right": null,
       "top": null,
       "visibility": null,
       "width": null
      }
     },
     "4f6722c560d147348f8cb71b2ace6264": {
      "model_module": "@jupyter-widgets/controls",
      "model_module_version": "2.0.0",
      "model_name": "FloatProgressModel",
      "state": {
       "_dom_classes": [],
       "_model_module": "@jupyter-widgets/controls",
       "_model_module_version": "2.0.0",
       "_model_name": "FloatProgressModel",
       "_view_count": null,
       "_view_module": "@jupyter-widgets/controls",
       "_view_module_version": "2.0.0",
       "_view_name": "ProgressView",
       "bar_style": "success",
       "description": "",
       "description_allow_html": false,
       "layout": "IPY_MODEL_4b9a37b62bfb46c090a1c1d5d439e0c4",
       "max": 1269615400.0,
       "min": 0.0,
       "orientation": "horizontal",
       "style": "IPY_MODEL_f46f1fd07498478484e4f8c186017346",
       "tabbable": null,
       "tooltip": null,
       "value": 1269615400.0
      }
     },
     "4fd40f35098e4657afe31b1e1a9bef1b": {
      "model_module": "@jupyter-widgets/controls",
      "model_module_version": "2.0.0",
      "model_name": "FloatProgressModel",
      "state": {
       "_dom_classes": [],
       "_model_module": "@jupyter-widgets/controls",
       "_model_module_version": "2.0.0",
       "_model_name": "FloatProgressModel",
       "_view_count": null,
       "_view_module": "@jupyter-widgets/controls",
       "_view_module_version": "2.0.0",
       "_view_name": "ProgressView",
       "bar_style": "success",
       "description": "",
       "description_allow_html": false,
       "layout": "IPY_MODEL_b517ad465b024038a3ad3a59f7d61431",
       "max": 1261920069.0,
       "min": 0.0,
       "orientation": "horizontal",
       "style": "IPY_MODEL_4fde0c1322b74dcfafad7c3fec1454c1",
       "tabbable": null,
       "tooltip": null,
       "value": 1261920069.0
      }
     },
     "4fde0c1322b74dcfafad7c3fec1454c1": {
      "model_module": "@jupyter-widgets/controls",
      "model_module_version": "2.0.0",
      "model_name": "ProgressStyleModel",
      "state": {
       "_model_module": "@jupyter-widgets/controls",
       "_model_module_version": "2.0.0",
       "_model_name": "ProgressStyleModel",
       "_view_count": null,
       "_view_module": "@jupyter-widgets/base",
       "_view_module_version": "2.0.0",
       "_view_name": "StyleView",
       "bar_color": null,
       "description_width": ""
      }
     },
     "52d2a4eac0e44e77a3468d82fecbec74": {
      "model_module": "@jupyter-widgets/base",
      "model_module_version": "2.0.0",
      "model_name": "LayoutModel",
      "state": {
       "_model_module": "@jupyter-widgets/base",
       "_model_module_version": "2.0.0",
       "_model_name": "LayoutModel",
       "_view_count": null,
       "_view_module": "@jupyter-widgets/base",
       "_view_module_version": "2.0.0",
       "_view_name": "LayoutView",
       "align_content": null,
       "align_items": null,
       "align_self": null,
       "border_bottom": null,
       "border_left": null,
       "border_right": null,
       "border_top": null,
       "bottom": null,
       "display": null,
       "flex": null,
       "flex_flow": null,
       "grid_area": null,
       "grid_auto_columns": null,
       "grid_auto_flow": null,
       "grid_auto_rows": null,
       "grid_column": null,
       "grid_gap": null,
       "grid_row": null,
       "grid_template_areas": null,
       "grid_template_columns": null,
       "grid_template_rows": null,
       "height": null,
       "justify_content": null,
       "justify_items": null,
       "left": null,
       "margin": null,
       "max_height": null,
       "max_width": null,
       "min_height": null,
       "min_width": null,
       "object_fit": null,
       "object_position": null,
       "order": null,
       "overflow": null,
       "padding": null,
       "right": null,
       "top": null,
       "visibility": null,
       "width": null
      }
     },
     "576c4fcd72de46ab8b1c5cef3b54e991": {
      "model_module": "@jupyter-widgets/base",
      "model_module_version": "2.0.0",
      "model_name": "LayoutModel",
      "state": {
       "_model_module": "@jupyter-widgets/base",
       "_model_module_version": "2.0.0",
       "_model_name": "LayoutModel",
       "_view_count": null,
       "_view_module": "@jupyter-widgets/base",
       "_view_module_version": "2.0.0",
       "_view_name": "LayoutView",
       "align_content": null,
       "align_items": null,
       "align_self": null,
       "border_bottom": null,
       "border_left": null,
       "border_right": null,
       "border_top": null,
       "bottom": null,
       "display": null,
       "flex": null,
       "flex_flow": null,
       "grid_area": null,
       "grid_auto_columns": null,
       "grid_auto_flow": null,
       "grid_auto_rows": null,
       "grid_column": null,
       "grid_gap": null,
       "grid_row": null,
       "grid_template_areas": null,
       "grid_template_columns": null,
       "grid_template_rows": null,
       "height": null,
       "justify_content": null,
       "justify_items": null,
       "left": null,
       "margin": null,
       "max_height": null,
       "max_width": null,
       "min_height": null,
       "min_width": null,
       "object_fit": null,
       "object_position": null,
       "order": null,
       "overflow": null,
       "padding": null,
       "right": null,
       "top": null,
       "visibility": null,
       "width": null
      }
     },
     "57cb8cca044543e9943c7dcbed7d9a5b": {
      "model_module": "@jupyter-widgets/base",
      "model_module_version": "2.0.0",
      "model_name": "LayoutModel",
      "state": {
       "_model_module": "@jupyter-widgets/base",
       "_model_module_version": "2.0.0",
       "_model_name": "LayoutModel",
       "_view_count": null,
       "_view_module": "@jupyter-widgets/base",
       "_view_module_version": "2.0.0",
       "_view_name": "LayoutView",
       "align_content": null,
       "align_items": null,
       "align_self": null,
       "border_bottom": null,
       "border_left": null,
       "border_right": null,
       "border_top": null,
       "bottom": null,
       "display": null,
       "flex": null,
       "flex_flow": null,
       "grid_area": null,
       "grid_auto_columns": null,
       "grid_auto_flow": null,
       "grid_auto_rows": null,
       "grid_column": null,
       "grid_gap": null,
       "grid_row": null,
       "grid_template_areas": null,
       "grid_template_columns": null,
       "grid_template_rows": null,
       "height": null,
       "justify_content": null,
       "justify_items": null,
       "left": null,
       "margin": null,
       "max_height": null,
       "max_width": null,
       "min_height": null,
       "min_width": null,
       "object_fit": null,
       "object_position": null,
       "order": null,
       "overflow": null,
       "padding": null,
       "right": null,
       "top": null,
       "visibility": null,
       "width": null
      }
     },
     "5e1b32fd0d194bab9ecb56ba144c78f0": {
      "model_module": "@jupyter-widgets/base",
      "model_module_version": "2.0.0",
      "model_name": "LayoutModel",
      "state": {
       "_model_module": "@jupyter-widgets/base",
       "_model_module_version": "2.0.0",
       "_model_name": "LayoutModel",
       "_view_count": null,
       "_view_module": "@jupyter-widgets/base",
       "_view_module_version": "2.0.0",
       "_view_name": "LayoutView",
       "align_content": null,
       "align_items": null,
       "align_self": null,
       "border_bottom": null,
       "border_left": null,
       "border_right": null,
       "border_top": null,
       "bottom": null,
       "display": null,
       "flex": null,
       "flex_flow": null,
       "grid_area": null,
       "grid_auto_columns": null,
       "grid_auto_flow": null,
       "grid_auto_rows": null,
       "grid_column": null,
       "grid_gap": null,
       "grid_row": null,
       "grid_template_areas": null,
       "grid_template_columns": null,
       "grid_template_rows": null,
       "height": null,
       "justify_content": null,
       "justify_items": null,
       "left": null,
       "margin": null,
       "max_height": null,
       "max_width": null,
       "min_height": null,
       "min_width": null,
       "object_fit": null,
       "object_position": null,
       "order": null,
       "overflow": null,
       "padding": null,
       "right": null,
       "top": null,
       "visibility": null,
       "width": null
      }
     },
     "5f1e7e6b6b0d473a93546bc29f355857": {
      "model_module": "@jupyter-widgets/base",
      "model_module_version": "2.0.0",
      "model_name": "LayoutModel",
      "state": {
       "_model_module": "@jupyter-widgets/base",
       "_model_module_version": "2.0.0",
       "_model_name": "LayoutModel",
       "_view_count": null,
       "_view_module": "@jupyter-widgets/base",
       "_view_module_version": "2.0.0",
       "_view_name": "LayoutView",
       "align_content": null,
       "align_items": null,
       "align_self": null,
       "border_bottom": null,
       "border_left": null,
       "border_right": null,
       "border_top": null,
       "bottom": null,
       "display": null,
       "flex": null,
       "flex_flow": null,
       "grid_area": null,
       "grid_auto_columns": null,
       "grid_auto_flow": null,
       "grid_auto_rows": null,
       "grid_column": null,
       "grid_gap": null,
       "grid_row": null,
       "grid_template_areas": null,
       "grid_template_columns": null,
       "grid_template_rows": null,
       "height": null,
       "justify_content": null,
       "justify_items": null,
       "left": null,
       "margin": null,
       "max_height": null,
       "max_width": null,
       "min_height": null,
       "min_width": null,
       "object_fit": null,
       "object_position": null,
       "order": null,
       "overflow": null,
       "padding": null,
       "right": null,
       "top": null,
       "visibility": null,
       "width": null
      }
     },
     "600543d924954c25af7a5af28f29199c": {
      "model_module": "@jupyter-widgets/base",
      "model_module_version": "2.0.0",
      "model_name": "LayoutModel",
      "state": {
       "_model_module": "@jupyter-widgets/base",
       "_model_module_version": "2.0.0",
       "_model_name": "LayoutModel",
       "_view_count": null,
       "_view_module": "@jupyter-widgets/base",
       "_view_module_version": "2.0.0",
       "_view_name": "LayoutView",
       "align_content": null,
       "align_items": null,
       "align_self": null,
       "border_bottom": null,
       "border_left": null,
       "border_right": null,
       "border_top": null,
       "bottom": null,
       "display": null,
       "flex": null,
       "flex_flow": null,
       "grid_area": null,
       "grid_auto_columns": null,
       "grid_auto_flow": null,
       "grid_auto_rows": null,
       "grid_column": null,
       "grid_gap": null,
       "grid_row": null,
       "grid_template_areas": null,
       "grid_template_columns": null,
       "grid_template_rows": null,
       "height": null,
       "justify_content": null,
       "justify_items": null,
       "left": null,
       "margin": null,
       "max_height": null,
       "max_width": null,
       "min_height": null,
       "min_width": null,
       "object_fit": null,
       "object_position": null,
       "order": null,
       "overflow": null,
       "padding": null,
       "right": null,
       "top": null,
       "visibility": null,
       "width": null
      }
     },
     "60494a7cc51c472ca73ca856de23fef0": {
      "model_module": "@jupyter-widgets/controls",
      "model_module_version": "2.0.0",
      "model_name": "ProgressStyleModel",
      "state": {
       "_model_module": "@jupyter-widgets/controls",
       "_model_module_version": "2.0.0",
       "_model_name": "ProgressStyleModel",
       "_view_count": null,
       "_view_module": "@jupyter-widgets/base",
       "_view_module_version": "2.0.0",
       "_view_name": "StyleView",
       "bar_color": null,
       "description_width": ""
      }
     },
     "60dc298d11e042679e375a18fdde2c48": {
      "model_module": "@jupyter-widgets/controls",
      "model_module_version": "2.0.0",
      "model_name": "HTMLModel",
      "state": {
       "_dom_classes": [],
       "_model_module": "@jupyter-widgets/controls",
       "_model_module_version": "2.0.0",
       "_model_name": "HTMLModel",
       "_view_count": null,
       "_view_module": "@jupyter-widgets/controls",
       "_view_module_version": "2.0.0",
       "_view_name": "HTMLView",
       "description": "",
       "description_allow_html": false,
       "layout": "IPY_MODEL_c23bd0f70c3942ee94f79275956231a1",
       "placeholder": "​",
       "style": "IPY_MODEL_c3a79da5b00e418683f665aa4f7db724",
       "tabbable": null,
       "tooltip": null,
       "value": " 2.22k/2.22k [00:00&lt;00:00, 269kB/s]"
      }
     },
     "67bbbf8b44b8409e91dc8555589f83e2": {
      "model_module": "@jupyter-widgets/controls",
      "model_module_version": "2.0.0",
      "model_name": "HTMLModel",
      "state": {
       "_dom_classes": [],
       "_model_module": "@jupyter-widgets/controls",
       "_model_module_version": "2.0.0",
       "_model_name": "HTMLModel",
       "_view_count": null,
       "_view_module": "@jupyter-widgets/controls",
       "_view_module_version": "2.0.0",
       "_view_name": "HTMLView",
       "description": "",
       "description_allow_html": false,
       "layout": "IPY_MODEL_52d2a4eac0e44e77a3468d82fecbec74",
       "placeholder": "​",
       "style": "IPY_MODEL_ec852f6634ee48388c19e785a8332ba4",
       "tabbable": null,
       "tooltip": null,
       "value": " 1.26G/1.26G [00:04&lt;00:00, 317MB/s]"
      }
     },
     "681ad8201f774f15ba5367126e53a8ae": {
      "model_module": "@jupyter-widgets/controls",
      "model_module_version": "2.0.0",
      "model_name": "ProgressStyleModel",
      "state": {
       "_model_module": "@jupyter-widgets/controls",
       "_model_module_version": "2.0.0",
       "_model_name": "ProgressStyleModel",
       "_view_count": null,
       "_view_module": "@jupyter-widgets/base",
       "_view_module_version": "2.0.0",
       "_view_name": "StyleView",
       "bar_color": null,
       "description_width": ""
      }
     },
     "686ad4cd5f87465aa83e793204623560": {
      "model_module": "@jupyter-widgets/base",
      "model_module_version": "2.0.0",
      "model_name": "LayoutModel",
      "state": {
       "_model_module": "@jupyter-widgets/base",
       "_model_module_version": "2.0.0",
       "_model_name": "LayoutModel",
       "_view_count": null,
       "_view_module": "@jupyter-widgets/base",
       "_view_module_version": "2.0.0",
       "_view_name": "LayoutView",
       "align_content": null,
       "align_items": null,
       "align_self": null,
       "border_bottom": null,
       "border_left": null,
       "border_right": null,
       "border_top": null,
       "bottom": null,
       "display": null,
       "flex": null,
       "flex_flow": null,
       "grid_area": null,
       "grid_auto_columns": null,
       "grid_auto_flow": null,
       "grid_auto_rows": null,
       "grid_column": null,
       "grid_gap": null,
       "grid_row": null,
       "grid_template_areas": null,
       "grid_template_columns": null,
       "grid_template_rows": null,
       "height": null,
       "justify_content": null,
       "justify_items": null,
       "left": null,
       "margin": null,
       "max_height": null,
       "max_width": null,
       "min_height": null,
       "min_width": null,
       "object_fit": null,
       "object_position": null,
       "order": null,
       "overflow": null,
       "padding": null,
       "right": null,
       "top": null,
       "visibility": null,
       "width": null
      }
     },
     "68a55508b5c74bcda8df2350e12130c0": {
      "model_module": "@jupyter-widgets/controls",
      "model_module_version": "2.0.0",
      "model_name": "HTMLStyleModel",
      "state": {
       "_model_module": "@jupyter-widgets/controls",
       "_model_module_version": "2.0.0",
       "_model_name": "HTMLStyleModel",
       "_view_count": null,
       "_view_module": "@jupyter-widgets/base",
       "_view_module_version": "2.0.0",
       "_view_name": "StyleView",
       "background": null,
       "description_width": "",
       "font_size": null,
       "text_color": null
      }
     },
     "6919a4a5d752461db796df7ee7687607": {
      "model_module": "@jupyter-widgets/controls",
      "model_module_version": "2.0.0",
      "model_name": "FloatProgressModel",
      "state": {
       "_dom_classes": [],
       "_model_module": "@jupyter-widgets/controls",
       "_model_module_version": "2.0.0",
       "_model_name": "FloatProgressModel",
       "_view_count": null,
       "_view_module": "@jupyter-widgets/controls",
       "_view_module_version": "2.0.0",
       "_view_name": "ProgressView",
       "bar_style": "success",
       "description": "",
       "description_allow_html": false,
       "layout": "IPY_MODEL_37dc8c83468b4fce98b581d2a9f08ac3",
       "max": 1261869072.0,
       "min": 0.0,
       "orientation": "horizontal",
       "style": "IPY_MODEL_89ec870607ee4bcb8ca56eca9697974b",
       "tabbable": null,
       "tooltip": null,
       "value": 1261869072.0
      }
     },
     "697abf0cbecd4171b1cf4ea1ffcf9b25": {
      "model_module": "@jupyter-widgets/base",
      "model_module_version": "2.0.0",
      "model_name": "LayoutModel",
      "state": {
       "_model_module": "@jupyter-widgets/base",
       "_model_module_version": "2.0.0",
       "_model_name": "LayoutModel",
       "_view_count": null,
       "_view_module": "@jupyter-widgets/base",
       "_view_module_version": "2.0.0",
       "_view_name": "LayoutView",
       "align_content": null,
       "align_items": null,
       "align_self": null,
       "border_bottom": null,
       "border_left": null,
       "border_right": null,
       "border_top": null,
       "bottom": null,
       "display": null,
       "flex": null,
       "flex_flow": null,
       "grid_area": null,
       "grid_auto_columns": null,
       "grid_auto_flow": null,
       "grid_auto_rows": null,
       "grid_column": null,
       "grid_gap": null,
       "grid_row": null,
       "grid_template_areas": null,
       "grid_template_columns": null,
       "grid_template_rows": null,
       "height": null,
       "justify_content": null,
       "justify_items": null,
       "left": null,
       "margin": null,
       "max_height": null,
       "max_width": null,
       "min_height": null,
       "min_width": null,
       "object_fit": null,
       "object_position": null,
       "order": null,
       "overflow": null,
       "padding": null,
       "right": null,
       "top": null,
       "visibility": null,
       "width": null
      }
     },
     "6a443b5a31e043abbe861d8ddb960e49": {
      "model_module": "@jupyter-widgets/controls",
      "model_module_version": "2.0.0",
      "model_name": "HTMLStyleModel",
      "state": {
       "_model_module": "@jupyter-widgets/controls",
       "_model_module_version": "2.0.0",
       "_model_name": "HTMLStyleModel",
       "_view_count": null,
       "_view_module": "@jupyter-widgets/base",
       "_view_module_version": "2.0.0",
       "_view_name": "StyleView",
       "background": null,
       "description_width": "",
       "font_size": null,
       "text_color": null
      }
     },
     "6a78b62fe32044daac221285f90d6996": {
      "model_module": "@jupyter-widgets/controls",
      "model_module_version": "2.0.0",
      "model_name": "HTMLModel",
      "state": {
       "_dom_classes": [],
       "_model_module": "@jupyter-widgets/controls",
       "_model_module_version": "2.0.0",
       "_model_name": "HTMLModel",
       "_view_count": null,
       "_view_module": "@jupyter-widgets/controls",
       "_view_module_version": "2.0.0",
       "_view_name": "HTMLView",
       "description": "",
       "description_allow_html": false,
       "layout": "IPY_MODEL_112a618ab61544cfa0f49a6031085952",
       "placeholder": "​",
       "style": "IPY_MODEL_ed310f7b68b142338d8d6bff0403bfb1",
       "tabbable": null,
       "tooltip": null,
       "value": "model.safetensors: 100%"
      }
     },
     "6aab84f6a8b24fc296bff80ee1163863": {
      "model_module": "@jupyter-widgets/controls",
      "model_module_version": "2.0.0",
      "model_name": "HTMLModel",
      "state": {
       "_dom_classes": [],
       "_model_module": "@jupyter-widgets/controls",
       "_model_module_version": "2.0.0",
       "_model_name": "HTMLModel",
       "_view_count": null,
       "_view_module": "@jupyter-widgets/controls",
       "_view_module_version": "2.0.0",
       "_view_name": "HTMLView",
       "description": "",
       "description_allow_html": false,
       "layout": "IPY_MODEL_2090acade81d4d7187b1759e37bc58c7",
       "placeholder": "​",
       "style": "IPY_MODEL_985a841827aa4fe58e5dc741d714da2e",
       "tabbable": null,
       "tooltip": null,
       "value": "pytorch_model.bin: 100%"
      }
     },
     "6bf39f0830724cc6822587293c87a4b8": {
      "model_module": "@jupyter-widgets/controls",
      "model_module_version": "2.0.0",
      "model_name": "HTMLStyleModel",
      "state": {
       "_model_module": "@jupyter-widgets/controls",
       "_model_module_version": "2.0.0",
       "_model_name": "HTMLStyleModel",
       "_view_count": null,
       "_view_module": "@jupyter-widgets/base",
       "_view_module_version": "2.0.0",
       "_view_name": "StyleView",
       "background": null,
       "description_width": "",
       "font_size": null,
       "text_color": null
      }
     },
     "6c1dcf7e378143109a13471790cd9a63": {
      "model_module": "@jupyter-widgets/controls",
      "model_module_version": "2.0.0",
      "model_name": "HBoxModel",
      "state": {
       "_dom_classes": [],
       "_model_module": "@jupyter-widgets/controls",
       "_model_module_version": "2.0.0",
       "_model_name": "HBoxModel",
       "_view_count": null,
       "_view_module": "@jupyter-widgets/controls",
       "_view_module_version": "2.0.0",
       "_view_name": "HBoxView",
       "box_style": "",
       "children": [
        "IPY_MODEL_06bf5a5fb1594f51bf2ea6f88faf4ffd",
        "IPY_MODEL_946f67b162b44ed0bab74a897747727d",
        "IPY_MODEL_60dc298d11e042679e375a18fdde2c48"
       ],
       "layout": "IPY_MODEL_a39ef94665444959a6510b376dadbcc2",
       "tabbable": null,
       "tooltip": null
      }
     },
     "6cdb195721fa4a6fa4acc246d3d53d8c": {
      "model_module": "@jupyter-widgets/controls",
      "model_module_version": "2.0.0",
      "model_name": "FloatProgressModel",
      "state": {
       "_dom_classes": [],
       "_model_module": "@jupyter-widgets/controls",
       "_model_module_version": "2.0.0",
       "_model_name": "FloatProgressModel",
       "_view_count": null,
       "_view_module": "@jupyter-widgets/controls",
       "_view_module_version": "2.0.0",
       "_view_name": "ProgressView",
       "bar_style": "success",
       "description": "",
       "description_allow_html": false,
       "layout": "IPY_MODEL_0bf09ef76b004e92bf09ce2188c8ee93",
       "max": 1583.0,
       "min": 0.0,
       "orientation": "horizontal",
       "style": "IPY_MODEL_681ad8201f774f15ba5367126e53a8ae",
       "tabbable": null,
       "tooltip": null,
       "value": 1583.0
      }
     },
     "6e76569499694a81b039499d519b6476": {
      "model_module": "@jupyter-widgets/controls",
      "model_module_version": "2.0.0",
      "model_name": "HTMLModel",
      "state": {
       "_dom_classes": [],
       "_model_module": "@jupyter-widgets/controls",
       "_model_module_version": "2.0.0",
       "_model_name": "HTMLModel",
       "_view_count": null,
       "_view_module": "@jupyter-widgets/controls",
       "_view_module_version": "2.0.0",
       "_view_name": "HTMLView",
       "description": "",
       "description_allow_html": false,
       "layout": "IPY_MODEL_a3122ea1817747fa9cc139ca0887e0bb",
       "placeholder": "​",
       "style": "IPY_MODEL_39dadaf5f45f4bba9b3f8a4ea49c13c7",
       "tabbable": null,
       "tooltip": null,
       "value": " 1.26G/1.26G [00:03&lt;00:00, 327MB/s]"
      }
     },
     "6ee6800009cd4fa7a144edcef98ebec8": {
      "model_module": "@jupyter-widgets/controls",
      "model_module_version": "2.0.0",
      "model_name": "HTMLModel",
      "state": {
       "_dom_classes": [],
       "_model_module": "@jupyter-widgets/controls",
       "_model_module_version": "2.0.0",
       "_model_name": "HTMLModel",
       "_view_count": null,
       "_view_module": "@jupyter-widgets/controls",
       "_view_module_version": "2.0.0",
       "_view_name": "HTMLView",
       "description": "",
       "description_allow_html": false,
       "layout": "IPY_MODEL_78aa270ad1054e6f8d4585e51eabdd9d",
       "placeholder": "​",
       "style": "IPY_MODEL_c37acdd652bb448c8429e65941b7137c",
       "tabbable": null,
       "tooltip": null,
       "value": "config.json: 100%"
      }
     },
     "6f9ec5ddbe074b60b8ce32fd06261628": {
      "model_module": "@jupyter-widgets/controls",
      "model_module_version": "2.0.0",
      "model_name": "HTMLModel",
      "state": {
       "_dom_classes": [],
       "_model_module": "@jupyter-widgets/controls",
       "_model_module_version": "2.0.0",
       "_model_name": "HTMLModel",
       "_view_count": null,
       "_view_module": "@jupyter-widgets/controls",
       "_view_module_version": "2.0.0",
       "_view_name": "HTMLView",
       "description": "",
       "description_allow_html": false,
       "layout": "IPY_MODEL_576c4fcd72de46ab8b1c5cef3b54e991",
       "placeholder": "​",
       "style": "IPY_MODEL_c9d33229ae6648a9b95e7b3f44eb562d",
       "tabbable": null,
       "tooltip": null,
       "value": " 1.60k/1.60k [00:00&lt;00:00, 186kB/s]"
      }
     },
     "6fda123fa13a465e9a7f9fb9f26650be": {
      "model_module": "@jupyter-widgets/base",
      "model_module_version": "2.0.0",
      "model_name": "LayoutModel",
      "state": {
       "_model_module": "@jupyter-widgets/base",
       "_model_module_version": "2.0.0",
       "_model_name": "LayoutModel",
       "_view_count": null,
       "_view_module": "@jupyter-widgets/base",
       "_view_module_version": "2.0.0",
       "_view_name": "LayoutView",
       "align_content": null,
       "align_items": null,
       "align_self": null,
       "border_bottom": null,
       "border_left": null,
       "border_right": null,
       "border_top": null,
       "bottom": null,
       "display": null,
       "flex": null,
       "flex_flow": null,
       "grid_area": null,
       "grid_auto_columns": null,
       "grid_auto_flow": null,
       "grid_auto_rows": null,
       "grid_column": null,
       "grid_gap": null,
       "grid_row": null,
       "grid_template_areas": null,
       "grid_template_columns": null,
       "grid_template_rows": null,
       "height": null,
       "justify_content": null,
       "justify_items": null,
       "left": null,
       "margin": null,
       "max_height": null,
       "max_width": null,
       "min_height": null,
       "min_width": null,
       "object_fit": null,
       "object_position": null,
       "order": null,
       "overflow": null,
       "padding": null,
       "right": null,
       "top": null,
       "visibility": null,
       "width": null
      }
     },
     "737e94a5d8bc4499ad335070b1d17bfb": {
      "model_module": "@jupyter-widgets/controls",
      "model_module_version": "2.0.0",
      "model_name": "FloatProgressModel",
      "state": {
       "_dom_classes": [],
       "_model_module": "@jupyter-widgets/controls",
       "_model_module_version": "2.0.0",
       "_model_name": "FloatProgressModel",
       "_view_count": null,
       "_view_module": "@jupyter-widgets/controls",
       "_view_module_version": "2.0.0",
       "_view_name": "ProgressView",
       "bar_style": "success",
       "description": "",
       "description_allow_html": false,
       "layout": "IPY_MODEL_0cdc44795d204ecf8b390dd5878fff0f",
       "max": 1261990257.0,
       "min": 0.0,
       "orientation": "horizontal",
       "style": "IPY_MODEL_acfc750f46eb4718acfc0594d9008eb1",
       "tabbable": null,
       "tooltip": null,
       "value": 1261990257.0
      }
     },
     "740f3cc419c945619394f7bf92eef928": {
      "model_module": "@jupyter-widgets/base",
      "model_module_version": "2.0.0",
      "model_name": "LayoutModel",
      "state": {
       "_model_module": "@jupyter-widgets/base",
       "_model_module_version": "2.0.0",
       "_model_name": "LayoutModel",
       "_view_count": null,
       "_view_module": "@jupyter-widgets/base",
       "_view_module_version": "2.0.0",
       "_view_name": "LayoutView",
       "align_content": null,
       "align_items": null,
       "align_self": null,
       "border_bottom": null,
       "border_left": null,
       "border_right": null,
       "border_top": null,
       "bottom": null,
       "display": null,
       "flex": null,
       "flex_flow": null,
       "grid_area": null,
       "grid_auto_columns": null,
       "grid_auto_flow": null,
       "grid_auto_rows": null,
       "grid_column": null,
       "grid_gap": null,
       "grid_row": null,
       "grid_template_areas": null,
       "grid_template_columns": null,
       "grid_template_rows": null,
       "height": null,
       "justify_content": null,
       "justify_items": null,
       "left": null,
       "margin": null,
       "max_height": null,
       "max_width": null,
       "min_height": null,
       "min_width": null,
       "object_fit": null,
       "object_position": null,
       "order": null,
       "overflow": null,
       "padding": null,
       "right": null,
       "top": null,
       "visibility": null,
       "width": null
      }
     },
     "74a84886d57d4a1eae2cae918ba2f788": {
      "model_module": "@jupyter-widgets/controls",
      "model_module_version": "2.0.0",
      "model_name": "HTMLStyleModel",
      "state": {
       "_model_module": "@jupyter-widgets/controls",
       "_model_module_version": "2.0.0",
       "_model_name": "HTMLStyleModel",
       "_view_count": null,
       "_view_module": "@jupyter-widgets/base",
       "_view_module_version": "2.0.0",
       "_view_name": "StyleView",
       "background": null,
       "description_width": "",
       "font_size": null,
       "text_color": null
      }
     },
     "77b93014f6c54d59b7d8b6e93ce8aab1": {
      "model_module": "@jupyter-widgets/base",
      "model_module_version": "2.0.0",
      "model_name": "LayoutModel",
      "state": {
       "_model_module": "@jupyter-widgets/base",
       "_model_module_version": "2.0.0",
       "_model_name": "LayoutModel",
       "_view_count": null,
       "_view_module": "@jupyter-widgets/base",
       "_view_module_version": "2.0.0",
       "_view_name": "LayoutView",
       "align_content": null,
       "align_items": null,
       "align_self": null,
       "border_bottom": null,
       "border_left": null,
       "border_right": null,
       "border_top": null,
       "bottom": null,
       "display": null,
       "flex": null,
       "flex_flow": null,
       "grid_area": null,
       "grid_auto_columns": null,
       "grid_auto_flow": null,
       "grid_auto_rows": null,
       "grid_column": null,
       "grid_gap": null,
       "grid_row": null,
       "grid_template_areas": null,
       "grid_template_columns": null,
       "grid_template_rows": null,
       "height": null,
       "justify_content": null,
       "justify_items": null,
       "left": null,
       "margin": null,
       "max_height": null,
       "max_width": null,
       "min_height": null,
       "min_width": null,
       "object_fit": null,
       "object_position": null,
       "order": null,
       "overflow": null,
       "padding": null,
       "right": null,
       "top": null,
       "visibility": null,
       "width": null
      }
     },
     "785cfdddb1ae4262a8d2e80ad2653601": {
      "model_module": "@jupyter-widgets/controls",
      "model_module_version": "2.0.0",
      "model_name": "HTMLModel",
      "state": {
       "_dom_classes": [],
       "_model_module": "@jupyter-widgets/controls",
       "_model_module_version": "2.0.0",
       "_model_name": "HTMLModel",
       "_view_count": null,
       "_view_module": "@jupyter-widgets/controls",
       "_view_module_version": "2.0.0",
       "_view_name": "HTMLView",
       "description": "",
       "description_allow_html": false,
       "layout": "IPY_MODEL_6fda123fa13a465e9a7f9fb9f26650be",
       "placeholder": "​",
       "style": "IPY_MODEL_4860350955ba4f4192d5d306b3e28f14",
       "tabbable": null,
       "tooltip": null,
       "value": " 1.27G/1.27G [00:04&lt;00:00, 305MB/s]"
      }
     },
     "78aa270ad1054e6f8d4585e51eabdd9d": {
      "model_module": "@jupyter-widgets/base",
      "model_module_version": "2.0.0",
      "model_name": "LayoutModel",
      "state": {
       "_model_module": "@jupyter-widgets/base",
       "_model_module_version": "2.0.0",
       "_model_name": "LayoutModel",
       "_view_count": null,
       "_view_module": "@jupyter-widgets/base",
       "_view_module_version": "2.0.0",
       "_view_name": "LayoutView",
       "align_content": null,
       "align_items": null,
       "align_self": null,
       "border_bottom": null,
       "border_left": null,
       "border_right": null,
       "border_top": null,
       "bottom": null,
       "display": null,
       "flex": null,
       "flex_flow": null,
       "grid_area": null,
       "grid_auto_columns": null,
       "grid_auto_flow": null,
       "grid_auto_rows": null,
       "grid_column": null,
       "grid_gap": null,
       "grid_row": null,
       "grid_template_areas": null,
       "grid_template_columns": null,
       "grid_template_rows": null,
       "height": null,
       "justify_content": null,
       "justify_items": null,
       "left": null,
       "margin": null,
       "max_height": null,
       "max_width": null,
       "min_height": null,
       "min_width": null,
       "object_fit": null,
       "object_position": null,
       "order": null,
       "overflow": null,
       "padding": null,
       "right": null,
       "top": null,
       "visibility": null,
       "width": null
      }
     },
     "79bf81fa470a459ba9f792b2200d204c": {
      "model_module": "@jupyter-widgets/controls",
      "model_module_version": "2.0.0",
      "model_name": "FloatProgressModel",
      "state": {
       "_dom_classes": [],
       "_model_module": "@jupyter-widgets/controls",
       "_model_module_version": "2.0.0",
       "_model_name": "FloatProgressModel",
       "_view_count": null,
       "_view_module": "@jupyter-widgets/controls",
       "_view_module_version": "2.0.0",
       "_view_name": "ProgressView",
       "bar_style": "success",
       "description": "",
       "description_allow_html": false,
       "layout": "IPY_MODEL_740f3cc419c945619394f7bf92eef928",
       "max": 1261803474.0,
       "min": 0.0,
       "orientation": "horizontal",
       "style": "IPY_MODEL_b4efcf5dc3734bda80d5ef0c347c6d06",
       "tabbable": null,
       "tooltip": null,
       "value": 1261803474.0
      }
     },
     "7d3fa1e65b854510954765602816b437": {
      "model_module": "@jupyter-widgets/base",
      "model_module_version": "2.0.0",
      "model_name": "LayoutModel",
      "state": {
       "_model_module": "@jupyter-widgets/base",
       "_model_module_version": "2.0.0",
       "_model_name": "LayoutModel",
       "_view_count": null,
       "_view_module": "@jupyter-widgets/base",
       "_view_module_version": "2.0.0",
       "_view_name": "LayoutView",
       "align_content": null,
       "align_items": null,
       "align_self": null,
       "border_bottom": null,
       "border_left": null,
       "border_right": null,
       "border_top": null,
       "bottom": null,
       "display": null,
       "flex": null,
       "flex_flow": null,
       "grid_area": null,
       "grid_auto_columns": null,
       "grid_auto_flow": null,
       "grid_auto_rows": null,
       "grid_column": null,
       "grid_gap": null,
       "grid_row": null,
       "grid_template_areas": null,
       "grid_template_columns": null,
       "grid_template_rows": null,
       "height": null,
       "justify_content": null,
       "justify_items": null,
       "left": null,
       "margin": null,
       "max_height": null,
       "max_width": null,
       "min_height": null,
       "min_width": null,
       "object_fit": null,
       "object_position": null,
       "order": null,
       "overflow": null,
       "padding": null,
       "right": null,
       "top": null,
       "visibility": null,
       "width": null
      }
     },
     "7da851806c144609882d5da202c6c49f": {
      "model_module": "@jupyter-widgets/base",
      "model_module_version": "2.0.0",
      "model_name": "LayoutModel",
      "state": {
       "_model_module": "@jupyter-widgets/base",
       "_model_module_version": "2.0.0",
       "_model_name": "LayoutModel",
       "_view_count": null,
       "_view_module": "@jupyter-widgets/base",
       "_view_module_version": "2.0.0",
       "_view_name": "LayoutView",
       "align_content": null,
       "align_items": null,
       "align_self": null,
       "border_bottom": null,
       "border_left": null,
       "border_right": null,
       "border_top": null,
       "bottom": null,
       "display": null,
       "flex": null,
       "flex_flow": null,
       "grid_area": null,
       "grid_auto_columns": null,
       "grid_auto_flow": null,
       "grid_auto_rows": null,
       "grid_column": null,
       "grid_gap": null,
       "grid_row": null,
       "grid_template_areas": null,
       "grid_template_columns": null,
       "grid_template_rows": null,
       "height": null,
       "justify_content": null,
       "justify_items": null,
       "left": null,
       "margin": null,
       "max_height": null,
       "max_width": null,
       "min_height": null,
       "min_width": null,
       "object_fit": null,
       "object_position": null,
       "order": null,
       "overflow": null,
       "padding": null,
       "right": null,
       "top": null,
       "visibility": null,
       "width": null
      }
     },
     "81e05055ed524ad68299f87d406a5624": {
      "model_module": "@jupyter-widgets/base",
      "model_module_version": "2.0.0",
      "model_name": "LayoutModel",
      "state": {
       "_model_module": "@jupyter-widgets/base",
       "_model_module_version": "2.0.0",
       "_model_name": "LayoutModel",
       "_view_count": null,
       "_view_module": "@jupyter-widgets/base",
       "_view_module_version": "2.0.0",
       "_view_name": "LayoutView",
       "align_content": null,
       "align_items": null,
       "align_self": null,
       "border_bottom": null,
       "border_left": null,
       "border_right": null,
       "border_top": null,
       "bottom": null,
       "display": null,
       "flex": null,
       "flex_flow": null,
       "grid_area": null,
       "grid_auto_columns": null,
       "grid_auto_flow": null,
       "grid_auto_rows": null,
       "grid_column": null,
       "grid_gap": null,
       "grid_row": null,
       "grid_template_areas": null,
       "grid_template_columns": null,
       "grid_template_rows": null,
       "height": null,
       "justify_content": null,
       "justify_items": null,
       "left": null,
       "margin": null,
       "max_height": null,
       "max_width": null,
       "min_height": null,
       "min_width": null,
       "object_fit": null,
       "object_position": null,
       "order": null,
       "overflow": null,
       "padding": null,
       "right": null,
       "top": null,
       "visibility": null,
       "width": null
      }
     },
     "81e063629aec4387826dce4a7e7f8fc5": {
      "model_module": "@jupyter-widgets/controls",
      "model_module_version": "2.0.0",
      "model_name": "FloatProgressModel",
      "state": {
       "_dom_classes": [],
       "_model_module": "@jupyter-widgets/controls",
       "_model_module_version": "2.0.0",
       "_model_name": "FloatProgressModel",
       "_view_count": null,
       "_view_module": "@jupyter-widgets/controls",
       "_view_module_version": "2.0.0",
       "_view_name": "ProgressView",
       "bar_style": "success",
       "description": "",
       "description_allow_html": false,
       "layout": "IPY_MODEL_c1ffa1ab97c24def9771c255e8f5eb7a",
       "max": 214.0,
       "min": 0.0,
       "orientation": "horizontal",
       "style": "IPY_MODEL_e3701ca2883f4580a90e5d6161588f81",
       "tabbable": null,
       "tooltip": null,
       "value": 214.0
      }
     },
     "8749f0eca4cf4d2cba9150da6557c442": {
      "model_module": "@jupyter-widgets/controls",
      "model_module_version": "2.0.0",
      "model_name": "HTMLModel",
      "state": {
       "_dom_classes": [],
       "_model_module": "@jupyter-widgets/controls",
       "_model_module_version": "2.0.0",
       "_model_name": "HTMLModel",
       "_view_count": null,
       "_view_module": "@jupyter-widgets/controls",
       "_view_module_version": "2.0.0",
       "_view_name": "HTMLView",
       "description": "",
       "description_allow_html": false,
       "layout": "IPY_MODEL_5f1e7e6b6b0d473a93546bc29f355857",
       "placeholder": "​",
       "style": "IPY_MODEL_b2cd72412905408aaf6d38224750b99a",
       "tabbable": null,
       "tooltip": null,
       "value": "preprocessor_config.json: 100%"
      }
     },
     "874f122fb33845b8b162a0f11112b82a": {
      "model_module": "@jupyter-widgets/controls",
      "model_module_version": "2.0.0",
      "model_name": "ProgressStyleModel",
      "state": {
       "_model_module": "@jupyter-widgets/controls",
       "_model_module_version": "2.0.0",
       "_model_name": "ProgressStyleModel",
       "_view_count": null,
       "_view_module": "@jupyter-widgets/base",
       "_view_module_version": "2.0.0",
       "_view_name": "StyleView",
       "bar_color": null,
       "description_width": ""
      }
     },
     "89ec870607ee4bcb8ca56eca9697974b": {
      "model_module": "@jupyter-widgets/controls",
      "model_module_version": "2.0.0",
      "model_name": "ProgressStyleModel",
      "state": {
       "_model_module": "@jupyter-widgets/controls",
       "_model_module_version": "2.0.0",
       "_model_name": "ProgressStyleModel",
       "_view_count": null,
       "_view_module": "@jupyter-widgets/base",
       "_view_module_version": "2.0.0",
       "_view_name": "StyleView",
       "bar_color": null,
       "description_width": ""
      }
     },
     "8ca8f75c8d8a4aa58ec2cce0facad120": {
      "model_module": "@jupyter-widgets/controls",
      "model_module_version": "2.0.0",
      "model_name": "HTMLModel",
      "state": {
       "_dom_classes": [],
       "_model_module": "@jupyter-widgets/controls",
       "_model_module_version": "2.0.0",
       "_model_name": "HTMLModel",
       "_view_count": null,
       "_view_module": "@jupyter-widgets/controls",
       "_view_module_version": "2.0.0",
       "_view_name": "HTMLView",
       "description": "",
       "description_allow_html": false,
       "layout": "IPY_MODEL_686ad4cd5f87465aa83e793204623560",
       "placeholder": "​",
       "style": "IPY_MODEL_c9b3adaca65c42e2a0f181705d5f47d9",
       "tabbable": null,
       "tooltip": null,
       "value": "model.safetensors: 100%"
      }
     },
     "8dc423ea743c4672a1e62b91db292dc6": {
      "model_module": "@jupyter-widgets/base",
      "model_module_version": "2.0.0",
      "model_name": "LayoutModel",
      "state": {
       "_model_module": "@jupyter-widgets/base",
       "_model_module_version": "2.0.0",
       "_model_name": "LayoutModel",
       "_view_count": null,
       "_view_module": "@jupyter-widgets/base",
       "_view_module_version": "2.0.0",
       "_view_name": "LayoutView",
       "align_content": null,
       "align_items": null,
       "align_self": null,
       "border_bottom": null,
       "border_left": null,
       "border_right": null,
       "border_top": null,
       "bottom": null,
       "display": null,
       "flex": null,
       "flex_flow": null,
       "grid_area": null,
       "grid_auto_columns": null,
       "grid_auto_flow": null,
       "grid_auto_rows": null,
       "grid_column": null,
       "grid_gap": null,
       "grid_row": null,
       "grid_template_areas": null,
       "grid_template_columns": null,
       "grid_template_rows": null,
       "height": null,
       "justify_content": null,
       "justify_items": null,
       "left": null,
       "margin": null,
       "max_height": null,
       "max_width": null,
       "min_height": null,
       "min_width": null,
       "object_fit": null,
       "object_position": null,
       "order": null,
       "overflow": null,
       "padding": null,
       "right": null,
       "top": null,
       "visibility": null,
       "width": null
      }
     },
     "92147927aefb41d3a57ebcabb2b1c699": {
      "model_module": "@jupyter-widgets/controls",
      "model_module_version": "2.0.0",
      "model_name": "HBoxModel",
      "state": {
       "_dom_classes": [],
       "_model_module": "@jupyter-widgets/controls",
       "_model_module_version": "2.0.0",
       "_model_name": "HBoxModel",
       "_view_count": null,
       "_view_module": "@jupyter-widgets/controls",
       "_view_module_version": "2.0.0",
       "_view_name": "HBoxView",
       "box_style": "",
       "children": [
        "IPY_MODEL_8749f0eca4cf4d2cba9150da6557c442",
        "IPY_MODEL_a3e2fd306c554cbca5ea9cb5b8dc6523",
        "IPY_MODEL_49ee85b4e66f42bcb70b4c71a962b513"
       ],
       "layout": "IPY_MODEL_4894e4a10b7e4c2ca3f040aff8c292a2",
       "tabbable": null,
       "tooltip": null
      }
     },
     "9345ab331b8644f8b7b72dc9b633b1be": {
      "model_module": "@jupyter-widgets/base",
      "model_module_version": "2.0.0",
      "model_name": "LayoutModel",
      "state": {
       "_model_module": "@jupyter-widgets/base",
       "_model_module_version": "2.0.0",
       "_model_name": "LayoutModel",
       "_view_count": null,
       "_view_module": "@jupyter-widgets/base",
       "_view_module_version": "2.0.0",
       "_view_name": "LayoutView",
       "align_content": null,
       "align_items": null,
       "align_self": null,
       "border_bottom": null,
       "border_left": null,
       "border_right": null,
       "border_top": null,
       "bottom": null,
       "display": null,
       "flex": null,
       "flex_flow": null,
       "grid_area": null,
       "grid_auto_columns": null,
       "grid_auto_flow": null,
       "grid_auto_rows": null,
       "grid_column": null,
       "grid_gap": null,
       "grid_row": null,
       "grid_template_areas": null,
       "grid_template_columns": null,
       "grid_template_rows": null,
       "height": null,
       "justify_content": null,
       "justify_items": null,
       "left": null,
       "margin": null,
       "max_height": null,
       "max_width": null,
       "min_height": null,
       "min_width": null,
       "object_fit": null,
       "object_position": null,
       "order": null,
       "overflow": null,
       "padding": null,
       "right": null,
       "top": null,
       "visibility": null,
       "width": null
      }
     },
     "946f67b162b44ed0bab74a897747727d": {
      "model_module": "@jupyter-widgets/controls",
      "model_module_version": "2.0.0",
      "model_name": "FloatProgressModel",
      "state": {
       "_dom_classes": [],
       "_model_module": "@jupyter-widgets/controls",
       "_model_module_version": "2.0.0",
       "_model_name": "FloatProgressModel",
       "_view_count": null,
       "_view_module": "@jupyter-widgets/controls",
       "_view_module_version": "2.0.0",
       "_view_name": "ProgressView",
       "bar_style": "success",
       "description": "",
       "description_allow_html": false,
       "layout": "IPY_MODEL_cef5fdd0bd4145fea73c15cedcc4cd03",
       "max": 2222.0,
       "min": 0.0,
       "orientation": "horizontal",
       "style": "IPY_MODEL_f41317a87aae4f389566bc650e956289",
       "tabbable": null,
       "tooltip": null,
       "value": 2222.0
      }
     },
     "95ef7d5af11b4fc5bb74319659d47f26": {
      "model_module": "@jupyter-widgets/controls",
      "model_module_version": "2.0.0",
      "model_name": "FloatProgressModel",
      "state": {
       "_dom_classes": [],
       "_model_module": "@jupyter-widgets/controls",
       "_model_module_version": "2.0.0",
       "_model_name": "FloatProgressModel",
       "_view_count": null,
       "_view_module": "@jupyter-widgets/controls",
       "_view_module_version": "2.0.0",
       "_view_name": "ProgressView",
       "bar_style": "success",
       "description": "",
       "description_allow_html": false,
       "layout": "IPY_MODEL_040aa0ffea39472fbb7e377482e0d659",
       "max": 1600.0,
       "min": 0.0,
       "orientation": "horizontal",
       "style": "IPY_MODEL_10d35403facb44ef9af986972d6ae95a",
       "tabbable": null,
       "tooltip": null,
       "value": 1600.0
      }
     },
     "985a841827aa4fe58e5dc741d714da2e": {
      "model_module": "@jupyter-widgets/controls",
      "model_module_version": "2.0.0",
      "model_name": "HTMLStyleModel",
      "state": {
       "_model_module": "@jupyter-widgets/controls",
       "_model_module_version": "2.0.0",
       "_model_name": "HTMLStyleModel",
       "_view_count": null,
       "_view_module": "@jupyter-widgets/base",
       "_view_module_version": "2.0.0",
       "_view_name": "StyleView",
       "background": null,
       "description_width": "",
       "font_size": null,
       "text_color": null
      }
     },
     "99252f0631094585a360801bb342106b": {
      "model_module": "@jupyter-widgets/controls",
      "model_module_version": "2.0.0",
      "model_name": "HTMLModel",
      "state": {
       "_dom_classes": [],
       "_model_module": "@jupyter-widgets/controls",
       "_model_module_version": "2.0.0",
       "_model_name": "HTMLModel",
       "_view_count": null,
       "_view_module": "@jupyter-widgets/controls",
       "_view_module_version": "2.0.0",
       "_view_name": "HTMLView",
       "description": "",
       "description_allow_html": false,
       "layout": "IPY_MODEL_01a751725bd14af3b61181205107d4b2",
       "placeholder": "​",
       "style": "IPY_MODEL_dc9d57e6c84a471586d004640cd2b987",
       "tabbable": null,
       "tooltip": null,
       "value": " 1.26G/1.26G [00:04&lt;00:00, 296MB/s]"
      }
     },
     "9cfac78d84034a34be1044a8acfc6a1a": {
      "model_module": "@jupyter-widgets/controls",
      "model_module_version": "2.0.0",
      "model_name": "HTMLModel",
      "state": {
       "_dom_classes": [],
       "_model_module": "@jupyter-widgets/controls",
       "_model_module_version": "2.0.0",
       "_model_name": "HTMLModel",
       "_view_count": null,
       "_view_module": "@jupyter-widgets/controls",
       "_view_module_version": "2.0.0",
       "_view_name": "HTMLView",
       "description": "",
       "description_allow_html": false,
       "layout": "IPY_MODEL_ac991c39adbc46128acac27b18f94a3b",
       "placeholder": "​",
       "style": "IPY_MODEL_68a55508b5c74bcda8df2350e12130c0",
       "tabbable": null,
       "tooltip": null,
       "value": "preprocessor_config.json: 100%"
      }
     },
     "a3122ea1817747fa9cc139ca0887e0bb": {
      "model_module": "@jupyter-widgets/base",
      "model_module_version": "2.0.0",
      "model_name": "LayoutModel",
      "state": {
       "_model_module": "@jupyter-widgets/base",
       "_model_module_version": "2.0.0",
       "_model_name": "LayoutModel",
       "_view_count": null,
       "_view_module": "@jupyter-widgets/base",
       "_view_module_version": "2.0.0",
       "_view_name": "LayoutView",
       "align_content": null,
       "align_items": null,
       "align_self": null,
       "border_bottom": null,
       "border_left": null,
       "border_right": null,
       "border_top": null,
       "bottom": null,
       "display": null,
       "flex": null,
       "flex_flow": null,
       "grid_area": null,
       "grid_auto_columns": null,
       "grid_auto_flow": null,
       "grid_auto_rows": null,
       "grid_column": null,
       "grid_gap": null,
       "grid_row": null,
       "grid_template_areas": null,
       "grid_template_columns": null,
       "grid_template_rows": null,
       "height": null,
       "justify_content": null,
       "justify_items": null,
       "left": null,
       "margin": null,
       "max_height": null,
       "max_width": null,
       "min_height": null,
       "min_width": null,
       "object_fit": null,
       "object_position": null,
       "order": null,
       "overflow": null,
       "padding": null,
       "right": null,
       "top": null,
       "visibility": null,
       "width": null
      }
     },
     "a39ef94665444959a6510b376dadbcc2": {
      "model_module": "@jupyter-widgets/base",
      "model_module_version": "2.0.0",
      "model_name": "LayoutModel",
      "state": {
       "_model_module": "@jupyter-widgets/base",
       "_model_module_version": "2.0.0",
       "_model_name": "LayoutModel",
       "_view_count": null,
       "_view_module": "@jupyter-widgets/base",
       "_view_module_version": "2.0.0",
       "_view_name": "LayoutView",
       "align_content": null,
       "align_items": null,
       "align_self": null,
       "border_bottom": null,
       "border_left": null,
       "border_right": null,
       "border_top": null,
       "bottom": null,
       "display": null,
       "flex": null,
       "flex_flow": null,
       "grid_area": null,
       "grid_auto_columns": null,
       "grid_auto_flow": null,
       "grid_auto_rows": null,
       "grid_column": null,
       "grid_gap": null,
       "grid_row": null,
       "grid_template_areas": null,
       "grid_template_columns": null,
       "grid_template_rows": null,
       "height": null,
       "justify_content": null,
       "justify_items": null,
       "left": null,
       "margin": null,
       "max_height": null,
       "max_width": null,
       "min_height": null,
       "min_width": null,
       "object_fit": null,
       "object_position": null,
       "order": null,
       "overflow": null,
       "padding": null,
       "right": null,
       "top": null,
       "visibility": null,
       "width": null
      }
     },
     "a3e2fd306c554cbca5ea9cb5b8dc6523": {
      "model_module": "@jupyter-widgets/controls",
      "model_module_version": "2.0.0",
      "model_name": "FloatProgressModel",
      "state": {
       "_dom_classes": [],
       "_model_module": "@jupyter-widgets/controls",
       "_model_module_version": "2.0.0",
       "_model_name": "FloatProgressModel",
       "_view_count": null,
       "_view_module": "@jupyter-widgets/controls",
       "_view_module_version": "2.0.0",
       "_view_name": "ProgressView",
       "bar_style": "success",
       "description": "",
       "description_allow_html": false,
       "layout": "IPY_MODEL_b24a3d16a6b744af821e974e2f546751",
       "max": 212.0,
       "min": 0.0,
       "orientation": "horizontal",
       "style": "IPY_MODEL_60494a7cc51c472ca73ca856de23fef0",
       "tabbable": null,
       "tooltip": null,
       "value": 212.0
      }
     },
     "ac991c39adbc46128acac27b18f94a3b": {
      "model_module": "@jupyter-widgets/base",
      "model_module_version": "2.0.0",
      "model_name": "LayoutModel",
      "state": {
       "_model_module": "@jupyter-widgets/base",
       "_model_module_version": "2.0.0",
       "_model_name": "LayoutModel",
       "_view_count": null,
       "_view_module": "@jupyter-widgets/base",
       "_view_module_version": "2.0.0",
       "_view_name": "LayoutView",
       "align_content": null,
       "align_items": null,
       "align_self": null,
       "border_bottom": null,
       "border_left": null,
       "border_right": null,
       "border_top": null,
       "bottom": null,
       "display": null,
       "flex": null,
       "flex_flow": null,
       "grid_area": null,
       "grid_auto_columns": null,
       "grid_auto_flow": null,
       "grid_auto_rows": null,
       "grid_column": null,
       "grid_gap": null,
       "grid_row": null,
       "grid_template_areas": null,
       "grid_template_columns": null,
       "grid_template_rows": null,
       "height": null,
       "justify_content": null,
       "justify_items": null,
       "left": null,
       "margin": null,
       "max_height": null,
       "max_width": null,
       "min_height": null,
       "min_width": null,
       "object_fit": null,
       "object_position": null,
       "order": null,
       "overflow": null,
       "padding": null,
       "right": null,
       "top": null,
       "visibility": null,
       "width": null
      }
     },
     "acf9a269a9df43fcba3545d5eeab0836": {
      "model_module": "@jupyter-widgets/controls",
      "model_module_version": "2.0.0",
      "model_name": "HTMLStyleModel",
      "state": {
       "_model_module": "@jupyter-widgets/controls",
       "_model_module_version": "2.0.0",
       "_model_name": "HTMLStyleModel",
       "_view_count": null,
       "_view_module": "@jupyter-widgets/base",
       "_view_module_version": "2.0.0",
       "_view_name": "StyleView",
       "background": null,
       "description_width": "",
       "font_size": null,
       "text_color": null
      }
     },
     "acfc750f46eb4718acfc0594d9008eb1": {
      "model_module": "@jupyter-widgets/controls",
      "model_module_version": "2.0.0",
      "model_name": "ProgressStyleModel",
      "state": {
       "_model_module": "@jupyter-widgets/controls",
       "_model_module_version": "2.0.0",
       "_model_name": "ProgressStyleModel",
       "_view_count": null,
       "_view_module": "@jupyter-widgets/base",
       "_view_module_version": "2.0.0",
       "_view_name": "StyleView",
       "bar_color": null,
       "description_width": ""
      }
     },
     "ad1ecdc91f0e4beea3e7922d75a32bea": {
      "model_module": "@jupyter-widgets/base",
      "model_module_version": "2.0.0",
      "model_name": "LayoutModel",
      "state": {
       "_model_module": "@jupyter-widgets/base",
       "_model_module_version": "2.0.0",
       "_model_name": "LayoutModel",
       "_view_count": null,
       "_view_module": "@jupyter-widgets/base",
       "_view_module_version": "2.0.0",
       "_view_name": "LayoutView",
       "align_content": null,
       "align_items": null,
       "align_self": null,
       "border_bottom": null,
       "border_left": null,
       "border_right": null,
       "border_top": null,
       "bottom": null,
       "display": null,
       "flex": null,
       "flex_flow": null,
       "grid_area": null,
       "grid_auto_columns": null,
       "grid_auto_flow": null,
       "grid_auto_rows": null,
       "grid_column": null,
       "grid_gap": null,
       "grid_row": null,
       "grid_template_areas": null,
       "grid_template_columns": null,
       "grid_template_rows": null,
       "height": null,
       "justify_content": null,
       "justify_items": null,
       "left": null,
       "margin": null,
       "max_height": null,
       "max_width": null,
       "min_height": null,
       "min_width": null,
       "object_fit": null,
       "object_position": null,
       "order": null,
       "overflow": null,
       "padding": null,
       "right": null,
       "top": null,
       "visibility": null,
       "width": null
      }
     },
     "ae8c2f9266aa4bc29aa15638cb26b41c": {
      "model_module": "@jupyter-widgets/controls",
      "model_module_version": "2.0.0",
      "model_name": "HBoxModel",
      "state": {
       "_dom_classes": [],
       "_model_module": "@jupyter-widgets/controls",
       "_model_module_version": "2.0.0",
       "_model_name": "HBoxModel",
       "_view_count": null,
       "_view_module": "@jupyter-widgets/controls",
       "_view_module_version": "2.0.0",
       "_view_name": "HBoxView",
       "box_style": "",
       "children": [
        "IPY_MODEL_6a78b62fe32044daac221285f90d6996",
        "IPY_MODEL_79bf81fa470a459ba9f792b2200d204c",
        "IPY_MODEL_99252f0631094585a360801bb342106b"
       ],
       "layout": "IPY_MODEL_8dc423ea743c4672a1e62b91db292dc6",
       "tabbable": null,
       "tooltip": null
      }
     },
     "b24a3d16a6b744af821e974e2f546751": {
      "model_module": "@jupyter-widgets/base",
      "model_module_version": "2.0.0",
      "model_name": "LayoutModel",
      "state": {
       "_model_module": "@jupyter-widgets/base",
       "_model_module_version": "2.0.0",
       "_model_name": "LayoutModel",
       "_view_count": null,
       "_view_module": "@jupyter-widgets/base",
       "_view_module_version": "2.0.0",
       "_view_name": "LayoutView",
       "align_content": null,
       "align_items": null,
       "align_self": null,
       "border_bottom": null,
       "border_left": null,
       "border_right": null,
       "border_top": null,
       "bottom": null,
       "display": null,
       "flex": null,
       "flex_flow": null,
       "grid_area": null,
       "grid_auto_columns": null,
       "grid_auto_flow": null,
       "grid_auto_rows": null,
       "grid_column": null,
       "grid_gap": null,
       "grid_row": null,
       "grid_template_areas": null,
       "grid_template_columns": null,
       "grid_template_rows": null,
       "height": null,
       "justify_content": null,
       "justify_items": null,
       "left": null,
       "margin": null,
       "max_height": null,
       "max_width": null,
       "min_height": null,
       "min_width": null,
       "object_fit": null,
       "object_position": null,
       "order": null,
       "overflow": null,
       "padding": null,
       "right": null,
       "top": null,
       "visibility": null,
       "width": null
      }
     },
     "b2cd72412905408aaf6d38224750b99a": {
      "model_module": "@jupyter-widgets/controls",
      "model_module_version": "2.0.0",
      "model_name": "HTMLStyleModel",
      "state": {
       "_model_module": "@jupyter-widgets/controls",
       "_model_module_version": "2.0.0",
       "_model_name": "HTMLStyleModel",
       "_view_count": null,
       "_view_module": "@jupyter-widgets/base",
       "_view_module_version": "2.0.0",
       "_view_name": "StyleView",
       "background": null,
       "description_width": "",
       "font_size": null,
       "text_color": null
      }
     },
     "b3129e9004014f099d87ca7fe76034d0": {
      "model_module": "@jupyter-widgets/base",
      "model_module_version": "2.0.0",
      "model_name": "LayoutModel",
      "state": {
       "_model_module": "@jupyter-widgets/base",
       "_model_module_version": "2.0.0",
       "_model_name": "LayoutModel",
       "_view_count": null,
       "_view_module": "@jupyter-widgets/base",
       "_view_module_version": "2.0.0",
       "_view_name": "LayoutView",
       "align_content": null,
       "align_items": null,
       "align_self": null,
       "border_bottom": null,
       "border_left": null,
       "border_right": null,
       "border_top": null,
       "bottom": null,
       "display": null,
       "flex": null,
       "flex_flow": null,
       "grid_area": null,
       "grid_auto_columns": null,
       "grid_auto_flow": null,
       "grid_auto_rows": null,
       "grid_column": null,
       "grid_gap": null,
       "grid_row": null,
       "grid_template_areas": null,
       "grid_template_columns": null,
       "grid_template_rows": null,
       "height": null,
       "justify_content": null,
       "justify_items": null,
       "left": null,
       "margin": null,
       "max_height": null,
       "max_width": null,
       "min_height": null,
       "min_width": null,
       "object_fit": null,
       "object_position": null,
       "order": null,
       "overflow": null,
       "padding": null,
       "right": null,
       "top": null,
       "visibility": null,
       "width": null
      }
     },
     "b3d99bdcad4243fdafc00a16013188d6": {
      "model_module": "@jupyter-widgets/controls",
      "model_module_version": "2.0.0",
      "model_name": "HTMLModel",
      "state": {
       "_dom_classes": [],
       "_model_module": "@jupyter-widgets/controls",
       "_model_module_version": "2.0.0",
       "_model_name": "HTMLModel",
       "_view_count": null,
       "_view_module": "@jupyter-widgets/controls",
       "_view_module_version": "2.0.0",
       "_view_name": "HTMLView",
       "description": "",
       "description_allow_html": false,
       "layout": "IPY_MODEL_9345ab331b8644f8b7b72dc9b633b1be",
       "placeholder": "​",
       "style": "IPY_MODEL_d4ed8f268e6644ec9b35ef8bdd14c79b",
       "tabbable": null,
       "tooltip": null,
       "value": "preprocessor_config.json: 100%"
      }
     },
     "b4efcf5dc3734bda80d5ef0c347c6d06": {
      "model_module": "@jupyter-widgets/controls",
      "model_module_version": "2.0.0",
      "model_name": "ProgressStyleModel",
      "state": {
       "_model_module": "@jupyter-widgets/controls",
       "_model_module_version": "2.0.0",
       "_model_name": "ProgressStyleModel",
       "_view_count": null,
       "_view_module": "@jupyter-widgets/base",
       "_view_module_version": "2.0.0",
       "_view_name": "StyleView",
       "bar_color": null,
       "description_width": ""
      }
     },
     "b5081cde49b84bbd948d23dfe2efef24": {
      "model_module": "@jupyter-widgets/controls",
      "model_module_version": "2.0.0",
      "model_name": "HTMLModel",
      "state": {
       "_dom_classes": [],
       "_model_module": "@jupyter-widgets/controls",
       "_model_module_version": "2.0.0",
       "_model_name": "HTMLModel",
       "_view_count": null,
       "_view_module": "@jupyter-widgets/controls",
       "_view_module_version": "2.0.0",
       "_view_name": "HTMLView",
       "description": "",
       "description_allow_html": false,
       "layout": "IPY_MODEL_697abf0cbecd4171b1cf4ea1ffcf9b25",
       "placeholder": "​",
       "style": "IPY_MODEL_6a443b5a31e043abbe861d8ddb960e49",
       "tabbable": null,
       "tooltip": null,
       "value": "pytorch_model.bin: 100%"
      }
     },
     "b517ad465b024038a3ad3a59f7d61431": {
      "model_module": "@jupyter-widgets/base",
      "model_module_version": "2.0.0",
      "model_name": "LayoutModel",
      "state": {
       "_model_module": "@jupyter-widgets/base",
       "_model_module_version": "2.0.0",
       "_model_name": "LayoutModel",
       "_view_count": null,
       "_view_module": "@jupyter-widgets/base",
       "_view_module_version": "2.0.0",
       "_view_name": "LayoutView",
       "align_content": null,
       "align_items": null,
       "align_self": null,
       "border_bottom": null,
       "border_left": null,
       "border_right": null,
       "border_top": null,
       "bottom": null,
       "display": null,
       "flex": null,
       "flex_flow": null,
       "grid_area": null,
       "grid_auto_columns": null,
       "grid_auto_flow": null,
       "grid_auto_rows": null,
       "grid_column": null,
       "grid_gap": null,
       "grid_row": null,
       "grid_template_areas": null,
       "grid_template_columns": null,
       "grid_template_rows": null,
       "height": null,
       "justify_content": null,
       "justify_items": null,
       "left": null,
       "margin": null,
       "max_height": null,
       "max_width": null,
       "min_height": null,
       "min_width": null,
       "object_fit": null,
       "object_position": null,
       "order": null,
       "overflow": null,
       "padding": null,
       "right": null,
       "top": null,
       "visibility": null,
       "width": null
      }
     },
     "b91300edd63e403891492d6c3c9f9f22": {
      "model_module": "@jupyter-widgets/controls",
      "model_module_version": "2.0.0",
      "model_name": "HBoxModel",
      "state": {
       "_dom_classes": [],
       "_model_module": "@jupyter-widgets/controls",
       "_model_module_version": "2.0.0",
       "_model_name": "HBoxModel",
       "_view_count": null,
       "_view_module": "@jupyter-widgets/controls",
       "_view_module_version": "2.0.0",
       "_view_name": "HBoxView",
       "box_style": "",
       "children": [
        "IPY_MODEL_b5081cde49b84bbd948d23dfe2efef24",
        "IPY_MODEL_737e94a5d8bc4499ad335070b1d17bfb",
        "IPY_MODEL_6e76569499694a81b039499d519b6476"
       ],
       "layout": "IPY_MODEL_57cb8cca044543e9943c7dcbed7d9a5b",
       "tabbable": null,
       "tooltip": null
      }
     },
     "be30805f19f6469fbf2ff4317c37faae": {
      "model_module": "@jupyter-widgets/base",
      "model_module_version": "2.0.0",
      "model_name": "LayoutModel",
      "state": {
       "_model_module": "@jupyter-widgets/base",
       "_model_module_version": "2.0.0",
       "_model_name": "LayoutModel",
       "_view_count": null,
       "_view_module": "@jupyter-widgets/base",
       "_view_module_version": "2.0.0",
       "_view_name": "LayoutView",
       "align_content": null,
       "align_items": null,
       "align_self": null,
       "border_bottom": null,
       "border_left": null,
       "border_right": null,
       "border_top": null,
       "bottom": null,
       "display": null,
       "flex": null,
       "flex_flow": null,
       "grid_area": null,
       "grid_auto_columns": null,
       "grid_auto_flow": null,
       "grid_auto_rows": null,
       "grid_column": null,
       "grid_gap": null,
       "grid_row": null,
       "grid_template_areas": null,
       "grid_template_columns": null,
       "grid_template_rows": null,
       "height": null,
       "justify_content": null,
       "justify_items": null,
       "left": null,
       "margin": null,
       "max_height": null,
       "max_width": null,
       "min_height": null,
       "min_width": null,
       "object_fit": null,
       "object_position": null,
       "order": null,
       "overflow": null,
       "padding": null,
       "right": null,
       "top": null,
       "visibility": null,
       "width": null
      }
     },
     "c1ffa1ab97c24def9771c255e8f5eb7a": {
      "model_module": "@jupyter-widgets/base",
      "model_module_version": "2.0.0",
      "model_name": "LayoutModel",
      "state": {
       "_model_module": "@jupyter-widgets/base",
       "_model_module_version": "2.0.0",
       "_model_name": "LayoutModel",
       "_view_count": null,
       "_view_module": "@jupyter-widgets/base",
       "_view_module_version": "2.0.0",
       "_view_name": "LayoutView",
       "align_content": null,
       "align_items": null,
       "align_self": null,
       "border_bottom": null,
       "border_left": null,
       "border_right": null,
       "border_top": null,
       "bottom": null,
       "display": null,
       "flex": null,
       "flex_flow": null,
       "grid_area": null,
       "grid_auto_columns": null,
       "grid_auto_flow": null,
       "grid_auto_rows": null,
       "grid_column": null,
       "grid_gap": null,
       "grid_row": null,
       "grid_template_areas": null,
       "grid_template_columns": null,
       "grid_template_rows": null,
       "height": null,
       "justify_content": null,
       "justify_items": null,
       "left": null,
       "margin": null,
       "max_height": null,
       "max_width": null,
       "min_height": null,
       "min_width": null,
       "object_fit": null,
       "object_position": null,
       "order": null,
       "overflow": null,
       "padding": null,
       "right": null,
       "top": null,
       "visibility": null,
       "width": null
      }
     },
     "c23bd0f70c3942ee94f79275956231a1": {
      "model_module": "@jupyter-widgets/base",
      "model_module_version": "2.0.0",
      "model_name": "LayoutModel",
      "state": {
       "_model_module": "@jupyter-widgets/base",
       "_model_module_version": "2.0.0",
       "_model_name": "LayoutModel",
       "_view_count": null,
       "_view_module": "@jupyter-widgets/base",
       "_view_module_version": "2.0.0",
       "_view_name": "LayoutView",
       "align_content": null,
       "align_items": null,
       "align_self": null,
       "border_bottom": null,
       "border_left": null,
       "border_right": null,
       "border_top": null,
       "bottom": null,
       "display": null,
       "flex": null,
       "flex_flow": null,
       "grid_area": null,
       "grid_auto_columns": null,
       "grid_auto_flow": null,
       "grid_auto_rows": null,
       "grid_column": null,
       "grid_gap": null,
       "grid_row": null,
       "grid_template_areas": null,
       "grid_template_columns": null,
       "grid_template_rows": null,
       "height": null,
       "justify_content": null,
       "justify_items": null,
       "left": null,
       "margin": null,
       "max_height": null,
       "max_width": null,
       "min_height": null,
       "min_width": null,
       "object_fit": null,
       "object_position": null,
       "order": null,
       "overflow": null,
       "padding": null,
       "right": null,
       "top": null,
       "visibility": null,
       "width": null
      }
     },
     "c2aa13ebf8d14c0d9a7b9ac115edf0a7": {
      "model_module": "@jupyter-widgets/base",
      "model_module_version": "2.0.0",
      "model_name": "LayoutModel",
      "state": {
       "_model_module": "@jupyter-widgets/base",
       "_model_module_version": "2.0.0",
       "_model_name": "LayoutModel",
       "_view_count": null,
       "_view_module": "@jupyter-widgets/base",
       "_view_module_version": "2.0.0",
       "_view_name": "LayoutView",
       "align_content": null,
       "align_items": null,
       "align_self": null,
       "border_bottom": null,
       "border_left": null,
       "border_right": null,
       "border_top": null,
       "bottom": null,
       "display": null,
       "flex": null,
       "flex_flow": null,
       "grid_area": null,
       "grid_auto_columns": null,
       "grid_auto_flow": null,
       "grid_auto_rows": null,
       "grid_column": null,
       "grid_gap": null,
       "grid_row": null,
       "grid_template_areas": null,
       "grid_template_columns": null,
       "grid_template_rows": null,
       "height": null,
       "justify_content": null,
       "justify_items": null,
       "left": null,
       "margin": null,
       "max_height": null,
       "max_width": null,
       "min_height": null,
       "min_width": null,
       "object_fit": null,
       "object_position": null,
       "order": null,
       "overflow": null,
       "padding": null,
       "right": null,
       "top": null,
       "visibility": null,
       "width": null
      }
     },
     "c37acdd652bb448c8429e65941b7137c": {
      "model_module": "@jupyter-widgets/controls",
      "model_module_version": "2.0.0",
      "model_name": "HTMLStyleModel",
      "state": {
       "_model_module": "@jupyter-widgets/controls",
       "_model_module_version": "2.0.0",
       "_model_name": "HTMLStyleModel",
       "_view_count": null,
       "_view_module": "@jupyter-widgets/base",
       "_view_module_version": "2.0.0",
       "_view_name": "StyleView",
       "background": null,
       "description_width": "",
       "font_size": null,
       "text_color": null
      }
     },
     "c3a79da5b00e418683f665aa4f7db724": {
      "model_module": "@jupyter-widgets/controls",
      "model_module_version": "2.0.0",
      "model_name": "HTMLStyleModel",
      "state": {
       "_model_module": "@jupyter-widgets/controls",
       "_model_module_version": "2.0.0",
       "_model_name": "HTMLStyleModel",
       "_view_count": null,
       "_view_module": "@jupyter-widgets/base",
       "_view_module_version": "2.0.0",
       "_view_name": "StyleView",
       "background": null,
       "description_width": "",
       "font_size": null,
       "text_color": null
      }
     },
     "c4ea8f01a9f8482cbce612aeeb561897": {
      "model_module": "@jupyter-widgets/controls",
      "model_module_version": "2.0.0",
      "model_name": "HTMLStyleModel",
      "state": {
       "_model_module": "@jupyter-widgets/controls",
       "_model_module_version": "2.0.0",
       "_model_name": "HTMLStyleModel",
       "_view_count": null,
       "_view_module": "@jupyter-widgets/base",
       "_view_module_version": "2.0.0",
       "_view_name": "StyleView",
       "background": null,
       "description_width": "",
       "font_size": null,
       "text_color": null
      }
     },
     "c561c967676d4e379ae3d27d033ef03d": {
      "model_module": "@jupyter-widgets/base",
      "model_module_version": "2.0.0",
      "model_name": "LayoutModel",
      "state": {
       "_model_module": "@jupyter-widgets/base",
       "_model_module_version": "2.0.0",
       "_model_name": "LayoutModel",
       "_view_count": null,
       "_view_module": "@jupyter-widgets/base",
       "_view_module_version": "2.0.0",
       "_view_name": "LayoutView",
       "align_content": null,
       "align_items": null,
       "align_self": null,
       "border_bottom": null,
       "border_left": null,
       "border_right": null,
       "border_top": null,
       "bottom": null,
       "display": null,
       "flex": null,
       "flex_flow": null,
       "grid_area": null,
       "grid_auto_columns": null,
       "grid_auto_flow": null,
       "grid_auto_rows": null,
       "grid_column": null,
       "grid_gap": null,
       "grid_row": null,
       "grid_template_areas": null,
       "grid_template_columns": null,
       "grid_template_rows": null,
       "height": null,
       "justify_content": null,
       "justify_items": null,
       "left": null,
       "margin": null,
       "max_height": null,
       "max_width": null,
       "min_height": null,
       "min_width": null,
       "object_fit": null,
       "object_position": null,
       "order": null,
       "overflow": null,
       "padding": null,
       "right": null,
       "top": null,
       "visibility": null,
       "width": null
      }
     },
     "c9b3adaca65c42e2a0f181705d5f47d9": {
      "model_module": "@jupyter-widgets/controls",
      "model_module_version": "2.0.0",
      "model_name": "HTMLStyleModel",
      "state": {
       "_model_module": "@jupyter-widgets/controls",
       "_model_module_version": "2.0.0",
       "_model_name": "HTMLStyleModel",
       "_view_count": null,
       "_view_module": "@jupyter-widgets/base",
       "_view_module_version": "2.0.0",
       "_view_name": "StyleView",
       "background": null,
       "description_width": "",
       "font_size": null,
       "text_color": null
      }
     },
     "c9d33229ae6648a9b95e7b3f44eb562d": {
      "model_module": "@jupyter-widgets/controls",
      "model_module_version": "2.0.0",
      "model_name": "HTMLStyleModel",
      "state": {
       "_model_module": "@jupyter-widgets/controls",
       "_model_module_version": "2.0.0",
       "_model_name": "HTMLStyleModel",
       "_view_count": null,
       "_view_module": "@jupyter-widgets/base",
       "_view_module_version": "2.0.0",
       "_view_name": "StyleView",
       "background": null,
       "description_width": "",
       "font_size": null,
       "text_color": null
      }
     },
     "cb6871d2f7ba430d82db91077a1eeda9": {
      "model_module": "@jupyter-widgets/base",
      "model_module_version": "2.0.0",
      "model_name": "LayoutModel",
      "state": {
       "_model_module": "@jupyter-widgets/base",
       "_model_module_version": "2.0.0",
       "_model_name": "LayoutModel",
       "_view_count": null,
       "_view_module": "@jupyter-widgets/base",
       "_view_module_version": "2.0.0",
       "_view_name": "LayoutView",
       "align_content": null,
       "align_items": null,
       "align_self": null,
       "border_bottom": null,
       "border_left": null,
       "border_right": null,
       "border_top": null,
       "bottom": null,
       "display": null,
       "flex": null,
       "flex_flow": null,
       "grid_area": null,
       "grid_auto_columns": null,
       "grid_auto_flow": null,
       "grid_auto_rows": null,
       "grid_column": null,
       "grid_gap": null,
       "grid_row": null,
       "grid_template_areas": null,
       "grid_template_columns": null,
       "grid_template_rows": null,
       "height": null,
       "justify_content": null,
       "justify_items": null,
       "left": null,
       "margin": null,
       "max_height": null,
       "max_width": null,
       "min_height": null,
       "min_width": null,
       "object_fit": null,
       "object_position": null,
       "order": null,
       "overflow": null,
       "padding": null,
       "right": null,
       "top": null,
       "visibility": null,
       "width": null
      }
     },
     "ce39ea96c86c44509ec68a86c136379e": {
      "model_module": "@jupyter-widgets/controls",
      "model_module_version": "2.0.0",
      "model_name": "HTMLModel",
      "state": {
       "_dom_classes": [],
       "_model_module": "@jupyter-widgets/controls",
       "_model_module_version": "2.0.0",
       "_model_name": "HTMLModel",
       "_view_count": null,
       "_view_module": "@jupyter-widgets/controls",
       "_view_module_version": "2.0.0",
       "_view_name": "HTMLView",
       "description": "",
       "description_allow_html": false,
       "layout": "IPY_MODEL_e2191dba38ec40a7821520fc7dd5ba21",
       "placeholder": "​",
       "style": "IPY_MODEL_f2481ae676bf4befb31a3b2b9c1b8e1e",
       "tabbable": null,
       "tooltip": null,
       "value": " 1.26G/1.26G [00:04&lt;00:00, 339MB/s]"
      }
     },
     "cef5fdd0bd4145fea73c15cedcc4cd03": {
      "model_module": "@jupyter-widgets/base",
      "model_module_version": "2.0.0",
      "model_name": "LayoutModel",
      "state": {
       "_model_module": "@jupyter-widgets/base",
       "_model_module_version": "2.0.0",
       "_model_name": "LayoutModel",
       "_view_count": null,
       "_view_module": "@jupyter-widgets/base",
       "_view_module_version": "2.0.0",
       "_view_name": "LayoutView",
       "align_content": null,
       "align_items": null,
       "align_self": null,
       "border_bottom": null,
       "border_left": null,
       "border_right": null,
       "border_top": null,
       "bottom": null,
       "display": null,
       "flex": null,
       "flex_flow": null,
       "grid_area": null,
       "grid_auto_columns": null,
       "grid_auto_flow": null,
       "grid_auto_rows": null,
       "grid_column": null,
       "grid_gap": null,
       "grid_row": null,
       "grid_template_areas": null,
       "grid_template_columns": null,
       "grid_template_rows": null,
       "height": null,
       "justify_content": null,
       "justify_items": null,
       "left": null,
       "margin": null,
       "max_height": null,
       "max_width": null,
       "min_height": null,
       "min_width": null,
       "object_fit": null,
       "object_position": null,
       "order": null,
       "overflow": null,
       "padding": null,
       "right": null,
       "top": null,
       "visibility": null,
       "width": null
      }
     },
     "d08b19cb62a64123bc1247047db4f9a0": {
      "model_module": "@jupyter-widgets/controls",
      "model_module_version": "2.0.0",
      "model_name": "HTMLModel",
      "state": {
       "_dom_classes": [],
       "_model_module": "@jupyter-widgets/controls",
       "_model_module_version": "2.0.0",
       "_model_name": "HTMLModel",
       "_view_count": null,
       "_view_module": "@jupyter-widgets/controls",
       "_view_module_version": "2.0.0",
       "_view_name": "HTMLView",
       "description": "",
       "description_allow_html": false,
       "layout": "IPY_MODEL_01e01a468ff844ed80abf2411c6e7eaf",
       "placeholder": "​",
       "style": "IPY_MODEL_d9a17ff354074c759bdcfe6d5cf4761f",
       "tabbable": null,
       "tooltip": null,
       "value": " 1.27G/1.27G [00:04&lt;00:00, 256MB/s]"
      }
     },
     "d4ed8f268e6644ec9b35ef8bdd14c79b": {
      "model_module": "@jupyter-widgets/controls",
      "model_module_version": "2.0.0",
      "model_name": "HTMLStyleModel",
      "state": {
       "_model_module": "@jupyter-widgets/controls",
       "_model_module_version": "2.0.0",
       "_model_name": "HTMLStyleModel",
       "_view_count": null,
       "_view_module": "@jupyter-widgets/base",
       "_view_module_version": "2.0.0",
       "_view_name": "StyleView",
       "background": null,
       "description_width": "",
       "font_size": null,
       "text_color": null
      }
     },
     "d624de2d5fce4248a4957047080bbbce": {
      "model_module": "@jupyter-widgets/controls",
      "model_module_version": "2.0.0",
      "model_name": "HTMLStyleModel",
      "state": {
       "_model_module": "@jupyter-widgets/controls",
       "_model_module_version": "2.0.0",
       "_model_name": "HTMLStyleModel",
       "_view_count": null,
       "_view_module": "@jupyter-widgets/base",
       "_view_module_version": "2.0.0",
       "_view_name": "StyleView",
       "background": null,
       "description_width": "",
       "font_size": null,
       "text_color": null
      }
     },
     "d9a17ff354074c759bdcfe6d5cf4761f": {
      "model_module": "@jupyter-widgets/controls",
      "model_module_version": "2.0.0",
      "model_name": "HTMLStyleModel",
      "state": {
       "_model_module": "@jupyter-widgets/controls",
       "_model_module_version": "2.0.0",
       "_model_name": "HTMLStyleModel",
       "_view_count": null,
       "_view_module": "@jupyter-widgets/base",
       "_view_module_version": "2.0.0",
       "_view_name": "StyleView",
       "background": null,
       "description_width": "",
       "font_size": null,
       "text_color": null
      }
     },
     "db22403bec2a448693f23de2f2a1665d": {
      "model_module": "@jupyter-widgets/controls",
      "model_module_version": "2.0.0",
      "model_name": "HBoxModel",
      "state": {
       "_dom_classes": [],
       "_model_module": "@jupyter-widgets/controls",
       "_model_module_version": "2.0.0",
       "_model_name": "HBoxModel",
       "_view_count": null,
       "_view_module": "@jupyter-widgets/controls",
       "_view_module_version": "2.0.0",
       "_view_name": "HBoxView",
       "box_style": "",
       "children": [
        "IPY_MODEL_9cfac78d84034a34be1044a8acfc6a1a",
        "IPY_MODEL_1298754b29af40768823d54096751aeb",
        "IPY_MODEL_e723256fba1d4ba9ba438059e20bb563"
       ],
       "layout": "IPY_MODEL_1798097bc5e8474cae8e80960aea8ced",
       "tabbable": null,
       "tooltip": null
      }
     },
     "dc9d57e6c84a471586d004640cd2b987": {
      "model_module": "@jupyter-widgets/controls",
      "model_module_version": "2.0.0",
      "model_name": "HTMLStyleModel",
      "state": {
       "_model_module": "@jupyter-widgets/controls",
       "_model_module_version": "2.0.0",
       "_model_name": "HTMLStyleModel",
       "_view_count": null,
       "_view_module": "@jupyter-widgets/base",
       "_view_module_version": "2.0.0",
       "_view_name": "StyleView",
       "background": null,
       "description_width": "",
       "font_size": null,
       "text_color": null
      }
     },
     "dd5e6e142a6047058a3032aec63bbcbb": {
      "model_module": "@jupyter-widgets/controls",
      "model_module_version": "2.0.0",
      "model_name": "HTMLStyleModel",
      "state": {
       "_model_module": "@jupyter-widgets/controls",
       "_model_module_version": "2.0.0",
       "_model_name": "HTMLStyleModel",
       "_view_count": null,
       "_view_module": "@jupyter-widgets/base",
       "_view_module_version": "2.0.0",
       "_view_name": "StyleView",
       "background": null,
       "description_width": "",
       "font_size": null,
       "text_color": null
      }
     },
     "e2191dba38ec40a7821520fc7dd5ba21": {
      "model_module": "@jupyter-widgets/base",
      "model_module_version": "2.0.0",
      "model_name": "LayoutModel",
      "state": {
       "_model_module": "@jupyter-widgets/base",
       "_model_module_version": "2.0.0",
       "_model_name": "LayoutModel",
       "_view_count": null,
       "_view_module": "@jupyter-widgets/base",
       "_view_module_version": "2.0.0",
       "_view_name": "LayoutView",
       "align_content": null,
       "align_items": null,
       "align_self": null,
       "border_bottom": null,
       "border_left": null,
       "border_right": null,
       "border_top": null,
       "bottom": null,
       "display": null,
       "flex": null,
       "flex_flow": null,
       "grid_area": null,
       "grid_auto_columns": null,
       "grid_auto_flow": null,
       "grid_auto_rows": null,
       "grid_column": null,
       "grid_gap": null,
       "grid_row": null,
       "grid_template_areas": null,
       "grid_template_columns": null,
       "grid_template_rows": null,
       "height": null,
       "justify_content": null,
       "justify_items": null,
       "left": null,
       "margin": null,
       "max_height": null,
       "max_width": null,
       "min_height": null,
       "min_width": null,
       "object_fit": null,
       "object_position": null,
       "order": null,
       "overflow": null,
       "padding": null,
       "right": null,
       "top": null,
       "visibility": null,
       "width": null
      }
     },
     "e3701ca2883f4580a90e5d6161588f81": {
      "model_module": "@jupyter-widgets/controls",
      "model_module_version": "2.0.0",
      "model_name": "ProgressStyleModel",
      "state": {
       "_model_module": "@jupyter-widgets/controls",
       "_model_module_version": "2.0.0",
       "_model_name": "ProgressStyleModel",
       "_view_count": null,
       "_view_module": "@jupyter-widgets/base",
       "_view_module_version": "2.0.0",
       "_view_name": "StyleView",
       "bar_color": null,
       "description_width": ""
      }
     },
     "e561830d32df481785170e8b92cd535d": {
      "model_module": "@jupyter-widgets/controls",
      "model_module_version": "2.0.0",
      "model_name": "HTMLModel",
      "state": {
       "_dom_classes": [],
       "_model_module": "@jupyter-widgets/controls",
       "_model_module_version": "2.0.0",
       "_model_name": "HTMLModel",
       "_view_count": null,
       "_view_module": "@jupyter-widgets/controls",
       "_view_module_version": "2.0.0",
       "_view_name": "HTMLView",
       "description": "",
       "description_allow_html": false,
       "layout": "IPY_MODEL_37bcbaf3bbb74f60882183e255a1f3cc",
       "placeholder": "​",
       "style": "IPY_MODEL_2323ca6743db4249b2be1f512ed5aa07",
       "tabbable": null,
       "tooltip": null,
       "value": "config.json: 100%"
      }
     },
     "e723256fba1d4ba9ba438059e20bb563": {
      "model_module": "@jupyter-widgets/controls",
      "model_module_version": "2.0.0",
      "model_name": "HTMLModel",
      "state": {
       "_dom_classes": [],
       "_model_module": "@jupyter-widgets/controls",
       "_model_module_version": "2.0.0",
       "_model_name": "HTMLModel",
       "_view_count": null,
       "_view_module": "@jupyter-widgets/controls",
       "_view_module_version": "2.0.0",
       "_view_name": "HTMLView",
       "description": "",
       "description_allow_html": false,
       "layout": "IPY_MODEL_be30805f19f6469fbf2ff4317c37faae",
       "placeholder": "​",
       "style": "IPY_MODEL_1aa0f192e830478198b1a81f24c97fdb",
       "tabbable": null,
       "tooltip": null,
       "value": " 158/158 [00:00&lt;00:00, 20.8kB/s]"
      }
     },
     "e7404aaa431f464d86f581e550d8e708": {
      "model_module": "@jupyter-widgets/base",
      "model_module_version": "2.0.0",
      "model_name": "LayoutModel",
      "state": {
       "_model_module": "@jupyter-widgets/base",
       "_model_module_version": "2.0.0",
       "_model_name": "LayoutModel",
       "_view_count": null,
       "_view_module": "@jupyter-widgets/base",
       "_view_module_version": "2.0.0",
       "_view_name": "LayoutView",
       "align_content": null,
       "align_items": null,
       "align_self": null,
       "border_bottom": null,
       "border_left": null,
       "border_right": null,
       "border_top": null,
       "bottom": null,
       "display": null,
       "flex": null,
       "flex_flow": null,
       "grid_area": null,
       "grid_auto_columns": null,
       "grid_auto_flow": null,
       "grid_auto_rows": null,
       "grid_column": null,
       "grid_gap": null,
       "grid_row": null,
       "grid_template_areas": null,
       "grid_template_columns": null,
       "grid_template_rows": null,
       "height": null,
       "justify_content": null,
       "justify_items": null,
       "left": null,
       "margin": null,
       "max_height": null,
       "max_width": null,
       "min_height": null,
       "min_width": null,
       "object_fit": null,
       "object_position": null,
       "order": null,
       "overflow": null,
       "padding": null,
       "right": null,
       "top": null,
       "visibility": null,
       "width": null
      }
     },
     "e8fea4b92d03455daec31c8e6b82ea89": {
      "model_module": "@jupyter-widgets/controls",
      "model_module_version": "2.0.0",
      "model_name": "HTMLModel",
      "state": {
       "_dom_classes": [],
       "_model_module": "@jupyter-widgets/controls",
       "_model_module_version": "2.0.0",
       "_model_name": "HTMLModel",
       "_view_count": null,
       "_view_module": "@jupyter-widgets/controls",
       "_view_module_version": "2.0.0",
       "_view_name": "HTMLView",
       "description": "",
       "description_allow_html": false,
       "layout": "IPY_MODEL_7d3fa1e65b854510954765602816b437",
       "placeholder": "​",
       "style": "IPY_MODEL_d624de2d5fce4248a4957047080bbbce",
       "tabbable": null,
       "tooltip": null,
       "value": "pytorch_model.bin: 100%"
      }
     },
     "eb6bab54519d448983cda8ab3d2b8fcf": {
      "model_module": "@jupyter-widgets/base",
      "model_module_version": "2.0.0",
      "model_name": "LayoutModel",
      "state": {
       "_model_module": "@jupyter-widgets/base",
       "_model_module_version": "2.0.0",
       "_model_name": "LayoutModel",
       "_view_count": null,
       "_view_module": "@jupyter-widgets/base",
       "_view_module_version": "2.0.0",
       "_view_name": "LayoutView",
       "align_content": null,
       "align_items": null,
       "align_self": null,
       "border_bottom": null,
       "border_left": null,
       "border_right": null,
       "border_top": null,
       "bottom": null,
       "display": null,
       "flex": null,
       "flex_flow": null,
       "grid_area": null,
       "grid_auto_columns": null,
       "grid_auto_flow": null,
       "grid_auto_rows": null,
       "grid_column": null,
       "grid_gap": null,
       "grid_row": null,
       "grid_template_areas": null,
       "grid_template_columns": null,
       "grid_template_rows": null,
       "height": null,
       "justify_content": null,
       "justify_items": null,
       "left": null,
       "margin": null,
       "max_height": null,
       "max_width": null,
       "min_height": null,
       "min_width": null,
       "object_fit": null,
       "object_position": null,
       "order": null,
       "overflow": null,
       "padding": null,
       "right": null,
       "top": null,
       "visibility": null,
       "width": null
      }
     },
     "ec852f6634ee48388c19e785a8332ba4": {
      "model_module": "@jupyter-widgets/controls",
      "model_module_version": "2.0.0",
      "model_name": "HTMLStyleModel",
      "state": {
       "_model_module": "@jupyter-widgets/controls",
       "_model_module_version": "2.0.0",
       "_model_name": "HTMLStyleModel",
       "_view_count": null,
       "_view_module": "@jupyter-widgets/base",
       "_view_module_version": "2.0.0",
       "_view_name": "StyleView",
       "background": null,
       "description_width": "",
       "font_size": null,
       "text_color": null
      }
     },
     "ed310f7b68b142338d8d6bff0403bfb1": {
      "model_module": "@jupyter-widgets/controls",
      "model_module_version": "2.0.0",
      "model_name": "HTMLStyleModel",
      "state": {
       "_model_module": "@jupyter-widgets/controls",
       "_model_module_version": "2.0.0",
       "_model_name": "HTMLStyleModel",
       "_view_count": null,
       "_view_module": "@jupyter-widgets/base",
       "_view_module_version": "2.0.0",
       "_view_name": "StyleView",
       "background": null,
       "description_width": "",
       "font_size": null,
       "text_color": null
      }
     },
     "edf4913c67624e509568f408ee53aef1": {
      "model_module": "@jupyter-widgets/controls",
      "model_module_version": "2.0.0",
      "model_name": "HTMLModel",
      "state": {
       "_dom_classes": [],
       "_model_module": "@jupyter-widgets/controls",
       "_model_module_version": "2.0.0",
       "_model_name": "HTMLModel",
       "_view_count": null,
       "_view_module": "@jupyter-widgets/controls",
       "_view_module_version": "2.0.0",
       "_view_name": "HTMLView",
       "description": "",
       "description_allow_html": false,
       "layout": "IPY_MODEL_cb6871d2f7ba430d82db91077a1eeda9",
       "placeholder": "​",
       "style": "IPY_MODEL_dd5e6e142a6047058a3032aec63bbcbb",
       "tabbable": null,
       "tooltip": null,
       "value": " 1.58k/1.58k [00:00&lt;00:00, 206kB/s]"
      }
     },
     "f2481ae676bf4befb31a3b2b9c1b8e1e": {
      "model_module": "@jupyter-widgets/controls",
      "model_module_version": "2.0.0",
      "model_name": "HTMLStyleModel",
      "state": {
       "_model_module": "@jupyter-widgets/controls",
       "_model_module_version": "2.0.0",
       "_model_name": "HTMLStyleModel",
       "_view_count": null,
       "_view_module": "@jupyter-widgets/base",
       "_view_module_version": "2.0.0",
       "_view_name": "StyleView",
       "background": null,
       "description_width": "",
       "font_size": null,
       "text_color": null
      }
     },
     "f41317a87aae4f389566bc650e956289": {
      "model_module": "@jupyter-widgets/controls",
      "model_module_version": "2.0.0",
      "model_name": "ProgressStyleModel",
      "state": {
       "_model_module": "@jupyter-widgets/controls",
       "_model_module_version": "2.0.0",
       "_model_name": "ProgressStyleModel",
       "_view_count": null,
       "_view_module": "@jupyter-widgets/base",
       "_view_module_version": "2.0.0",
       "_view_name": "StyleView",
       "bar_color": null,
       "description_width": ""
      }
     },
     "f46f1fd07498478484e4f8c186017346": {
      "model_module": "@jupyter-widgets/controls",
      "model_module_version": "2.0.0",
      "model_name": "ProgressStyleModel",
      "state": {
       "_model_module": "@jupyter-widgets/controls",
       "_model_module_version": "2.0.0",
       "_model_name": "ProgressStyleModel",
       "_view_count": null,
       "_view_module": "@jupyter-widgets/base",
       "_view_module_version": "2.0.0",
       "_view_name": "StyleView",
       "bar_color": null,
       "description_width": ""
      }
     },
     "fcb56a5a80454aca8e689031562916b7": {
      "model_module": "@jupyter-widgets/controls",
      "model_module_version": "2.0.0",
      "model_name": "HBoxModel",
      "state": {
       "_dom_classes": [],
       "_model_module": "@jupyter-widgets/controls",
       "_model_module_version": "2.0.0",
       "_model_name": "HBoxModel",
       "_view_count": null,
       "_view_module": "@jupyter-widgets/controls",
       "_view_module_version": "2.0.0",
       "_view_name": "HBoxView",
       "box_style": "",
       "children": [
        "IPY_MODEL_b3d99bdcad4243fdafc00a16013188d6",
        "IPY_MODEL_81e063629aec4387826dce4a7e7f8fc5",
        "IPY_MODEL_0456d37e75974e2e81c81237d3ac6894"
       ],
       "layout": "IPY_MODEL_e7404aaa431f464d86f581e550d8e708",
       "tabbable": null,
       "tooltip": null
      }
     }
    },
    "version_major": 2,
    "version_minor": 0
   }
  }
 },
 "nbformat": 4,
 "nbformat_minor": 5
}
